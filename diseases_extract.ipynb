{
 "cells": [
  {
   "cell_type": "code",
   "execution_count": 1,
   "metadata": {},
   "outputs": [],
   "source": [
    "import numpy as np\n",
    "import pandas as pd\n",
    "import logging  \n",
    "import time  \n",
    "import os  \n",
    "import jieba  \n",
    "import jieba.analyse\n",
    "import jieba.posseg as pseg"
   ]
  },
  {
   "cell_type": "code",
   "execution_count": 2,
   "metadata": {},
   "outputs": [],
   "source": [
    "copd_state_list = ['非慢性阻塞性肺疾病', '慢性阻塞性肺疾病稳定期',\n",
    "                   '慢性阻塞性肺疾病急性加重期','慢性阻塞性肺疾病']\n",
    "\n",
    "otherBreathDisease_state_list = ['无其他呼吸系统疾病','肺动脉高压','肺心病',\n",
    "                                 '肺炎','呼吸睡眠暂停综合征','支气管扩张症','慢性咽喉炎',\n",
    "                                '肺癌','鼻炎鼻窦炎','肺间质纤维化','肺结核']\n",
    "\n",
    "beyondBreathDisease_state_list = ['无呼吸系统以外的疾病','高血压','冠心病','糖尿病',\n",
    "                                 '骨质疏松','慢性肾脏疾病','前列腺肥大','脑卒中','焦虑',\n",
    "                                 '抑郁','胃食管反流','消化道溃疡','烟草依赖']"
   ]
  },
  {
   "cell_type": "code",
   "execution_count": 8,
   "metadata": {},
   "outputs": [
    {
     "data": {
      "text/html": [
       "<div>\n",
       "<style scoped>\n",
       "    .dataframe tbody tr th:only-of-type {\n",
       "        vertical-align: middle;\n",
       "    }\n",
       "\n",
       "    .dataframe tbody tr th {\n",
       "        vertical-align: top;\n",
       "    }\n",
       "\n",
       "    .dataframe thead th {\n",
       "        text-align: right;\n",
       "    }\n",
       "</style>\n",
       "<table border=\"1\" class=\"dataframe\">\n",
       "  <thead>\n",
       "    <tr style=\"text-align: right;\">\n",
       "      <th></th>\n",
       "      <th>INPATIENT_NO</th>\n",
       "      <th>NODENAME</th>\n",
       "      <th>NODEVALUE</th>\n",
       "    </tr>\n",
       "  </thead>\n",
       "  <tbody>\n",
       "    <tr>\n",
       "      <th>0</th>\n",
       "      <td>ZY040000376992</td>\n",
       "      <td>初步诊断</td>\n",
       "      <td>1、肺部感染\\n2、慢性阻塞性肺疾病急性加重期</td>\n",
       "    </tr>\n",
       "    <tr>\n",
       "      <th>1</th>\n",
       "      <td>ZY010000372089</td>\n",
       "      <td>初步诊断</td>\n",
       "      <td>1、重症肺炎\\n2、慢性阻塞性肺疾病\\n3、右肺癌术后化疗并双肺、淋巴结、骨转移\\n4、高血...</td>\n",
       "    </tr>\n",
       "    <tr>\n",
       "      <th>2</th>\n",
       "      <td>ZY010000375888</td>\n",
       "      <td>初步诊断</td>\n",
       "      <td>1、咳嗽查因：咳嗽变异性哮喘\\n2、高血压病3级  极高危组\\n3、糖尿病</td>\n",
       "    </tr>\n",
       "    <tr>\n",
       "      <th>3</th>\n",
       "      <td>ZY010000502763</td>\n",
       "      <td>初步诊断</td>\n",
       "      <td>1、慢性阻塞性肺疾病急性加重期\\n2、支气管哮喘待排\\n3、口腔念珠菌病</td>\n",
       "    </tr>\n",
       "    <tr>\n",
       "      <th>4</th>\n",
       "      <td>ZY010000545755</td>\n",
       "      <td>初步诊断</td>\n",
       "      <td>1.咯血原因待查：\\n1）支气管扩张？\\n2）肺炎？\\n2.慢性阻塞性肺疾病急性加重期\\n3...</td>\n",
       "    </tr>\n",
       "  </tbody>\n",
       "</table>\n",
       "</div>"
      ],
      "text/plain": [
       "     INPATIENT_NO NODENAME                                          NODEVALUE\n",
       "0  ZY040000376992     初步诊断                            1、肺部感染\\n2、慢性阻塞性肺疾病急性加重期\n",
       "1  ZY010000372089     初步诊断  1、重症肺炎\\n2、慢性阻塞性肺疾病\\n3、右肺癌术后化疗并双肺、淋巴结、骨转移\\n4、高血...\n",
       "2  ZY010000375888     初步诊断              1、咳嗽查因：咳嗽变异性哮喘\\n2、高血压病3级  极高危组\\n3、糖尿病\n",
       "3  ZY010000502763     初步诊断               1、慢性阻塞性肺疾病急性加重期\\n2、支气管哮喘待排\\n3、口腔念珠菌病\n",
       "4  ZY010000545755     初步诊断  1.咯血原因待查：\\n1）支气管扩张？\\n2）肺炎？\\n2.慢性阻塞性肺疾病急性加重期\\n3..."
      ]
     },
     "execution_count": 8,
     "metadata": {},
     "output_type": "execute_result"
    }
   ],
   "source": [
    "df_init_diagnose = pd.read_csv('init_diagnose.csv')\n",
    "df_init_diagnose.head(5)"
   ]
  },
  {
   "cell_type": "code",
   "execution_count": 9,
   "metadata": {},
   "outputs": [
    {
     "name": "stdout",
     "output_type": "stream",
     "text": [
      "<class 'pandas.core.frame.DataFrame'>\n",
      "RangeIndex: 151 entries, 0 to 150\n",
      "Data columns (total 3 columns):\n",
      "INPATIENT_NO    151 non-null object\n",
      "NODENAME        151 non-null object\n",
      "NODEVALUE       151 non-null object\n",
      "dtypes: object(3)\n",
      "memory usage: 3.6+ KB\n"
     ]
    }
   ],
   "source": [
    "df_init_diagnose.info()"
   ]
  },
  {
   "cell_type": "code",
   "execution_count": null,
   "metadata": {},
   "outputs": [],
   "source": [
    "for record in df_init_diagnose['NODEVALUE']:\n",
    "    extracted_copd_state_list = []\n",
    "    extracted_otherBreathDisease_state_list = []\n",
    "    extracted_beyondBreathDisease_state_list = []\n",
    "    \n",
    "    for desease in copd_state_list:\n",
    "        if record.find(disease) != -1  and not record.contains(disease+'?'):\n",
    "            extracted\n",
    "            "
   ]
  }
 ],
 "metadata": {
  "kernelspec": {
   "display_name": "Python 3",
   "language": "python",
   "name": "python3"
  },
  "language_info": {
   "codemirror_mode": {
    "name": "ipython",
    "version": 3
   },
   "file_extension": ".py",
   "mimetype": "text/x-python",
   "name": "python",
   "nbconvert_exporter": "python",
   "pygments_lexer": "ipython3",
   "version": "3.6.6"
  }
 },
 "nbformat": 4,
 "nbformat_minor": 2
}

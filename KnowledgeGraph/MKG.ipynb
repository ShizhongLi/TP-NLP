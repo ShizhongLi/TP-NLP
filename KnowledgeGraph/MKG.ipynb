{
 "cells": [
  {
   "cell_type": "code",
   "execution_count": 36,
   "metadata": {},
   "outputs": [],
   "source": [
    "import pandas as pd\n",
    "import py2neo as neo\n",
    "from py2neo import Graph, Node, Relationship, Database\n",
    "from py2neo.ogm import GraphObject, Property, RelatedTo\n",
    "from tqdm import tqdm"
   ]
  },
  {
   "cell_type": "markdown",
   "metadata": {},
   "source": [
    "# 读取原始数据"
   ]
  },
  {
   "cell_type": "code",
   "execution_count": 3,
   "metadata": {},
   "outputs": [
    {
     "name": "stdout",
     "output_type": "stream",
     "text": [
      "     INPATIENT_NO            MO_NAME             real             pred   商品名  \\\n",
      "0  ZY060000520265  0.9%氯化钠注射液(科伦)&#@  XB05XA-XL211-02  XB05XA-XL211-02   氯化钠   \n",
      "1  ZY010000568235      0.9%氯化钠注射液&#@  XB05XA-XL211-02  XB05XA-XL211-02   氯化钠   \n",
      "2  ZY070000197897            肝素钠注射液#              NaN  XB01AB-XG047-02    肝素   \n",
      "3  ZY010000504321             开瑞坦片*#  XR06AX-XL226-01  XR06AX-XL226-01  氯雷他定   \n",
      "4  ZY060000341053    泮托拉唑钠肠溶胶囊(U比乐)#  XA02BC-XP025-01  XA02BC-XP025-01  泮托拉唑   \n",
      "\n",
      "  给药途径  \n",
      "0   注射  \n",
      "1   注射  \n",
      "2   注射  \n",
      "3   口服  \n",
      "4   口服  \n"
     ]
    }
   ],
   "source": [
    "df_drugs = pd.read_excel('2000患者西药3.xlsx',sheet_name='Sheet1')\n",
    "print(df_drugs.head())"
   ]
  },
  {
   "cell_type": "code",
   "execution_count": 4,
   "metadata": {},
   "outputs": [
    {
     "name": "stdout",
     "output_type": "stream",
     "text": [
      "<class 'pandas.core.frame.DataFrame'>\n",
      "RangeIndex: 171010 entries, 0 to 171009\n",
      "Data columns (total 6 columns):\n",
      "INPATIENT_NO    171010 non-null object\n",
      "MO_NAME         171010 non-null object\n",
      "real            150819 non-null object\n",
      "pred            171010 non-null object\n",
      "商品名             171010 non-null object\n",
      "给药途径            171010 non-null object\n",
      "dtypes: object(6)\n",
      "memory usage: 7.8+ MB\n",
      "None\n"
     ]
    }
   ],
   "source": [
    "print(df_drugs.info())"
   ]
  },
  {
   "cell_type": "code",
   "execution_count": 14,
   "metadata": {},
   "outputs": [
    {
     "name": "stdout",
     "output_type": "stream",
     "text": [
      "3053\n"
     ]
    }
   ],
   "source": [
    "print(len(df_drugs['INPATIENT_NO'].drop_duplicates()))"
   ]
  },
  {
   "cell_type": "code",
   "execution_count": 26,
   "metadata": {},
   "outputs": [
    {
     "name": "stdout",
     "output_type": "stream",
     "text": [
      "806\n"
     ]
    }
   ],
   "source": [
    "print(len(df_drugs['pred'].drop_duplicates()))"
   ]
  },
  {
   "cell_type": "code",
   "execution_count": 39,
   "metadata": {},
   "outputs": [
    {
     "name": "stdout",
     "output_type": "stream",
     "text": [
      "17\n"
     ]
    }
   ],
   "source": [
    "print(len(df_drugs['给药途径'].drop_duplicates()))"
   ]
  },
  {
   "cell_type": "code",
   "execution_count": 40,
   "metadata": {},
   "outputs": [
    {
     "name": "stdout",
     "output_type": "stream",
     "text": [
      "           患者住院ID  患者个人ID（标识符）        患者所在医院  年龄 性别  居住地  民族     职业  身高  体重  \\\n",
      "0  ZY060000295315       295315  广州医科大学附属第一医院  74  男  NaN  汉族     农民 NaN NaN   \n",
      "1  ZY060000338471       338471  广州医科大学附属第一医院  68  男  NaN  汉族  个体经营者 NaN NaN   \n",
      "2  ZY050000341147       341147  广州医科大学附属第一医院  59  男  NaN  汉族  个体经营者 NaN NaN   \n",
      "3  ZY020000329288       329288  广州医科大学附属第一医院  83  男  NaN  汉族  国家公务员 NaN NaN   \n",
      "4  ZY020000350407       350407  广州医科大学附属第一医院  74  男  NaN  汉族  个体经营者 NaN NaN   \n",
      "\n",
      "  ...  双下肢水肿 血嗜酸性粒细胞计数 痰嗜酸性粒细胞计数  C反应蛋白  白细胞 二氧化碳分压(测定) 肺泡动脉氧分压差   血沉 氧分压(测定)  \\\n",
      "0 ...    NaN       NaN       NaN    NaN  NaN        NaN      NaN  NaN     NaN   \n",
      "1 ...    NaN       NaN       NaN    NaN  NaN        NaN      NaN  NaN     NaN   \n",
      "2 ...    NaN       NaN       NaN    NaN  NaN        NaN      NaN  NaN     NaN   \n",
      "3 ...    NaN       NaN       NaN    NaN  NaN        NaN      NaN  NaN     NaN   \n",
      "4 ...    NaN       NaN       NaN    NaN  NaN        NaN      NaN  NaN     NaN   \n",
      "\n",
      "   转归  \n",
      "0  好转  \n",
      "1  好转  \n",
      "2  死亡  \n",
      "3  好转  \n",
      "4  好转  \n",
      "\n",
      "[5 rows x 141 columns]\n",
      "<class 'pandas.core.frame.DataFrame'>\n",
      "RangeIndex: 3054 entries, 0 to 3053\n",
      "Columns: 141 entries, 患者住院ID to 转归\n",
      "dtypes: float64(6), int64(2), object(133)\n",
      "memory usage: 3.3+ MB\n",
      "None\n"
     ]
    }
   ],
   "source": [
    "df_patientInfo = pd.read_excel('患者信息整合 3-15 治疗路径用.xls',sheet_name='Sheet1')\n",
    "print(df_patientInfo.head())\n",
    "print(df_patientInfo.info())"
   ]
  },
  {
   "cell_type": "code",
   "execution_count": 43,
   "metadata": {},
   "outputs": [
    {
     "name": "stdout",
     "output_type": "stream",
     "text": [
      "['患者住院ID', '患者个人ID（标识符）', '患者所在医院', '年龄', '性别', '居住地', '民族', '职业', '身高', '体重', 'BMI', '入院类型', '所在科室', '住院时长', '症状首发年限', '1年内急性加重次数', '吸烟史', '已戒烟', '吸烟包年', '生物燃料暴露史', '主诉', '现病史', '家族史', '手术史', '输血史', '外伤史', '入院情况', '出院情况', '高血压病', '高脂血症', '冠心病', '前列腺增生', '糖尿病', '焦虑', '抑郁', '心力衰竭', '心律失常', '脑卒中', '阻塞性睡眠呼吸暂停综合征', '骨质疏松', '类风湿性关节炎', '弥漫性肺间质纤维化', '肺癌', '肺栓塞', '肺源性心脏病', '白内障', '静脉栓塞和血栓形成', '哮喘', '动脉栓塞和血栓形成', '胃食管反流', '变应性鼻炎', '陈旧性肺结核', '低蛋白血症', '低钾血症', '肺癌术后', '肺结核', '肺气肿', '肺性脑病', '肺炎', '胸腔积液', '呼吸衰竭', '静脉炎和血栓性静脉炎', '慢性鼻炎', '慢性咽喉炎', '慢性支气管炎', '气胸', '支气管扩张', '心肌梗死', '心绞痛', '缺血性心肌病', '急性冠脉综合征', '胆管炎', '胆囊息肉', '胆石症', '风湿性心脏病', '腹股沟疝', '肝恶性肿瘤', '肝囊肿', '肝血管瘤', '肝硬化', '高尿酸血症', '急性肾衰竭', '甲状腺功能亢进症', '结肠癌', '结肠息肉', '结节性甲状腺肿', '结膜炎', '颈动脉硬化', '酒精性肝病', '扩张型心肌病', '慢性胆囊炎', '慢性肾脏疾病', '慢性十二指肠炎', '慢性胃炎', '门静脉血栓形成', '泌尿道感染', '脑动脉硬化', '脑萎缩', '帕金森病', '贫血', '青光眼', '肾结石', '肾囊肿', '声带息肉', '受压区褥疮', '痛风', '胃穿孔', '胃恶性肿瘤', '胃溃疡', '下肢动脉粥样硬化', '消化道出血', '心脏瓣膜病', '脂肪肝', '主动脉硬化', '椎管狭窄', '椎间盘突出', '近期咳嗽', '既往咳嗽', '近期咳痰', '既往咳痰', '近期胸闷', '既往胸闷', '近期喘息', '既往喘息', '近期气促', '既往气促', '咯血', '发热', '胸痛', '心悸', '夜间阵发性呼吸困难', '双下肢水肿', '血嗜酸性粒细胞计数', '痰嗜酸性粒细胞计数', 'C反应蛋白', '白细胞', '二氧化碳分压(测定)', '肺泡动脉氧分压差', '血沉', '氧分压(测定)', '转归']\n"
     ]
    }
   ],
   "source": [
    "print(list(df_patientInfo.columns))\n",
    "list_diseases = ['高血压病', '高脂血症', '冠心病', '前列腺增生', '糖尿病', '焦虑', '抑郁', '心力衰竭', '心律失常', '脑卒中', \n",
    "                 '阻塞性睡眠呼吸暂停综合征', '骨质疏松', '类风湿性关节炎', '弥漫性肺间质纤维化', '肺癌', '肺栓塞', '肺源性心脏病', \n",
    "                 '白内障', '静脉栓塞和血栓形成', '哮喘', '动脉栓塞和血栓形成', '胃食管反流', '变应性鼻炎', '陈旧性肺结核', \n",
    "                 '低蛋白血症', '低钾血症', '肺癌术后', '肺结核', '肺气肿', '肺性脑病', '肺炎', '胸腔积液', '呼吸衰竭', \n",
    "                 '静脉炎和血栓性静脉炎', '慢性鼻炎', '慢性咽喉炎', '慢性支气管炎', '气胸', '支气管扩张', '心肌梗死', '心绞痛', \n",
    "                 '缺血性心肌病', '急性冠脉综合征', '胆管炎', '胆囊息肉', '胆石症', '风湿性心脏病', '腹股沟疝', '肝恶性肿瘤', \n",
    "                 '肝囊肿', '肝血管瘤', '肝硬化', '高尿酸血症', '急性肾衰竭', '甲状腺功能亢进症', '结肠癌', '结肠息肉', \n",
    "                 '结节性甲状腺肿', '结膜炎', '颈动脉硬化', '酒精性肝病', '扩张型心肌病', '慢性胆囊炎', '慢性肾脏疾病', \n",
    "                 '慢性十二指肠炎', '慢性胃炎', '门静脉血栓形成', '泌尿道感染', '脑动脉硬化', '脑萎缩', '帕金森病', '贫血', \n",
    "                 '青光眼', '肾结石', '肾囊肿', '声带息肉', '受压区褥疮', '痛风', '胃穿孔', '胃恶性肿瘤', '胃溃疡', \n",
    "                 '下肢动脉粥样硬化', '消化道出血', '心脏瓣膜病', '脂肪肝', '主动脉硬化', '椎管狭窄', '椎间盘突出']"
   ]
  },
  {
   "cell_type": "markdown",
   "metadata": {},
   "source": [
    "# 定义OGM类别"
   ]
  },
  {
   "cell_type": "code",
   "execution_count": 54,
   "metadata": {},
   "outputs": [],
   "source": [
    "class Inpatient_NO(GraphObject):\n",
    "    __primarykey__ = 'inpatient_NO'\n",
    "\n",
    "    inpatient_NO = Property()\n",
    "    hospitalized_timeLength = Property()\n",
    "    has_disease = RelatedTo('Disease','HAS_DISEASE')\n",
    "    use = RelatedTo('Drug', 'USES')"
   ]
  },
  {
   "cell_type": "code",
   "execution_count": 45,
   "metadata": {},
   "outputs": [],
   "source": [
    "class Drug(GraphObject):\n",
    "    __primarykey__ = 'drug_standardCode'\n",
    "\n",
    "    drug_standardCode = Property()\n",
    "    drug_name = Property()\n",
    "    drug_provideMethod = Property()"
   ]
  },
  {
   "cell_type": "code",
   "execution_count": 46,
   "metadata": {},
   "outputs": [],
   "source": [
    "class Patient(GraphObject):\n",
    "    __primarykey__ = 'patient_ID'\n",
    "\n",
    "    patient_ID = Property()\n",
    "    age = Property()\n",
    "    sex = Property()\n",
    "    hospitalized = RelatedTo('Inpatient_NO','HOSPITALIZED')"
   ]
  },
  {
   "cell_type": "code",
   "execution_count": 47,
   "metadata": {},
   "outputs": [],
   "source": [
    "class Disease(GraphObject):\n",
    "    __primarykey__ = 'disease_name'\n",
    "\n",
    "    disease_name = Property()"
   ]
  },
  {
   "cell_type": "markdown",
   "metadata": {},
   "source": [
    "# 生成图数据库"
   ]
  },
  {
   "cell_type": "code",
   "execution_count": 5,
   "metadata": {},
   "outputs": [
    {
     "name": "stdout",
     "output_type": "stream",
     "text": [
      "<Database uri='bolt://127.0.0.1:7687' secure=False user_agent='py2neo/4.2.0 neobolt/1.7.4 Python/3.6.8-final-0 (darwin)'>\n"
     ]
    }
   ],
   "source": [
    "db = Database(\"bolt://127.0.0.1:7687\", password = '123456')\n",
    "print(db)"
   ]
  },
  {
   "cell_type": "code",
   "execution_count": 6,
   "metadata": {},
   "outputs": [
    {
     "name": "stdout",
     "output_type": "stream",
     "text": [
      "<Graph database=<Database uri='bolt://127.0.0.1:7687' secure=False user_agent='py2neo/4.2.0 neobolt/1.7.4 Python/3.6.8-final-0 (darwin)'> name='data'>\n"
     ]
    }
   ],
   "source": [
    "graph = Graph(\"bolt://127.0.0.1:7687\", auth=(\"neo4j\",\"123456\"))\n",
    "print(graph)"
   ]
  },
  {
   "cell_type": "code",
   "execution_count": 21,
   "metadata": {},
   "outputs": [],
   "source": [
    "graph.delete_all()"
   ]
  },
  {
   "cell_type": "code",
   "execution_count": 51,
   "metadata": {},
   "outputs": [
    {
     "name": "stderr",
     "output_type": "stream",
     "text": [
      "100%|██████████| 171010/171010 [23:56<00:00, 119.08it/s]\n"
     ]
    }
   ],
   "source": [
    "for index,row in tqdm(df_drugs.iterrows(), total=df_drugs.shape[0]):\n",
    "    oneNode = Inpatient_NO()\n",
    "    oneNode.inpatient_NO = row['INPATIENT_NO']\n",
    "    \n",
    "    drugNode = Drug()\n",
    "    drugNode.drug_standardCode = row['pred']\n",
    "    drugNode.drug_name = row['商品名']\n",
    "    drugNode.drug_provideMethod = row['给药途径']\n",
    "    \n",
    "    oneNode.use.add(drugNode)\n",
    "    \n",
    "    graph.push(oneNode)\n",
    "    "
   ]
  },
  {
   "cell_type": "code",
   "execution_count": 52,
   "metadata": {},
   "outputs": [],
   "source": [
    "list_diseaseNode = []\n",
    "for disease in list_diseases:\n",
    "    disease_node = Disease()\n",
    "    disease_node.disease_name = disease\n",
    "    list_diseaseNode.append(disease_node)\n",
    "    graph.push(disease_node)"
   ]
  },
  {
   "cell_type": "code",
   "execution_count": 55,
   "metadata": {},
   "outputs": [
    {
     "name": "stderr",
     "output_type": "stream",
     "text": [
      "100%|██████████| 3054/3054 [00:50<00:00, 60.89it/s] \n"
     ]
    }
   ],
   "source": [
    "for index,row in tqdm(df_patientInfo.iterrows(), total=df_patientInfo.shape[0]):\n",
    "    oneNode = Inpatient_NO()\n",
    "    oneNode.inpatient_NO = row['患者住院ID']\n",
    "    oneNode.hospitalized_timeLength = row['住院时长']\n",
    "    for disease in list_diseases:\n",
    "        if row[disease] == '有':\n",
    "            diseaseNode = Disease.match(graph,disease).first()\n",
    "            oneNode.has_disease.add(diseaseNode)\n",
    "    \n",
    "    patientNode = Patient()\n",
    "    patientNode.patient_ID = row['患者个人ID（标识符）']\n",
    "    patientNode.age = row['年龄']\n",
    "    patientNode.sex = row['性别']\n",
    "    patientNode.hospitalized.add(oneNode)\n",
    "    \n",
    "          \n",
    "    graph.push(patientNode)"
   ]
  },
  {
   "cell_type": "markdown",
   "metadata": {},
   "source": [
    "# 关系挖掘"
   ]
  }
 ],
 "metadata": {
  "kernelspec": {
   "display_name": "Python 3",
   "language": "python",
   "name": "python3"
  },
  "language_info": {
   "codemirror_mode": {
    "name": "ipython",
    "version": 3
   },
   "file_extension": ".py",
   "mimetype": "text/x-python",
   "name": "python",
   "nbconvert_exporter": "python",
   "pygments_lexer": "ipython3",
   "version": "3.6.8"
  }
 },
 "nbformat": 4,
 "nbformat_minor": 2
}

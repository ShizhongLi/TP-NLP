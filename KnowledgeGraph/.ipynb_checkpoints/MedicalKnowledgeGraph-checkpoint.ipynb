{
 "cells": [
  {
   "cell_type": "code",
   "execution_count": 1,
   "metadata": {},
   "outputs": [],
   "source": [
    "%matplotlib inline\n",
    "import pandas as pd\n",
    "import numpy as np"
   ]
  },
  {
   "cell_type": "code",
   "execution_count": 2,
   "metadata": {},
   "outputs": [
    {
     "data": {
      "text/html": [
       "<div>\n",
       "<style scoped>\n",
       "    .dataframe tbody tr th:only-of-type {\n",
       "        vertical-align: middle;\n",
       "    }\n",
       "\n",
       "    .dataframe tbody tr th {\n",
       "        vertical-align: top;\n",
       "    }\n",
       "\n",
       "    .dataframe thead th {\n",
       "        text-align: right;\n",
       "    }\n",
       "</style>\n",
       "<table border=\"1\" class=\"dataframe\">\n",
       "  <thead>\n",
       "    <tr style=\"text-align: right;\">\n",
       "      <th></th>\n",
       "      <th>SEQ_ID</th>\n",
       "      <th>PATIENT_ID</th>\n",
       "      <th>PATIENT_NO</th>\n",
       "      <th>INPATIENT_NO</th>\n",
       "      <th>INDEX2</th>\n",
       "      <th>PARENTNODENAME</th>\n",
       "      <th>SOURCEDATA</th>\n",
       "      <th>NODENAME</th>\n",
       "      <th>NODEVALUE</th>\n",
       "      <th>HOSPITAL_CODE</th>\n",
       "    </tr>\n",
       "  </thead>\n",
       "  <tbody>\n",
       "    <tr>\n",
       "      <th>0</th>\n",
       "      <td>1066658</td>\n",
       "      <td>0000182436</td>\n",
       "      <td>182436</td>\n",
       "      <td>ZY010000182436</td>\n",
       "      <td>沈*堂</td>\n",
       "      <td>出院记录\\诊断\\出院诊断</td>\n",
       "      <td>1、慢性阻塞性肺疾病急性加重\\n2、前列腺增生并钙化斑\\n3、胆囊切除术后\\n4、酒精性肝硬...</td>\n",
       "      <td>斑</td>\n",
       "      <td>无</td>\n",
       "      <td>12440100455344205E</td>\n",
       "    </tr>\n",
       "    <tr>\n",
       "      <th>1</th>\n",
       "      <td>1066658</td>\n",
       "      <td>0000182436</td>\n",
       "      <td>182436</td>\n",
       "      <td>ZY010000182436</td>\n",
       "      <td>沈*堂</td>\n",
       "      <td>出院记录\\诊断\\出院诊断</td>\n",
       "      <td>1、慢性阻塞性肺疾病急性加重\\n2、前列腺增生并钙化斑\\n3、胆囊切除术后\\n4、酒精性肝硬...</td>\n",
       "      <td>酒精性肝硬化</td>\n",
       "      <td>酒精性肝病</td>\n",
       "      <td>12440100455344205E</td>\n",
       "    </tr>\n",
       "    <tr>\n",
       "      <th>2</th>\n",
       "      <td>1066658</td>\n",
       "      <td>0000182436</td>\n",
       "      <td>182436</td>\n",
       "      <td>ZY010000182436</td>\n",
       "      <td>沈*堂</td>\n",
       "      <td>出院记录\\诊断\\出院诊断</td>\n",
       "      <td>1、慢性阻塞性肺疾病急性加重\\n2、前列腺增生并钙化斑\\n3、胆囊切除术后\\n4、酒精性肝硬...</td>\n",
       "      <td>前列腺增生并钙化</td>\n",
       "      <td>前列腺增生</td>\n",
       "      <td>12440100455344205E</td>\n",
       "    </tr>\n",
       "    <tr>\n",
       "      <th>3</th>\n",
       "      <td>1066658</td>\n",
       "      <td>0000182436</td>\n",
       "      <td>182436</td>\n",
       "      <td>ZY010000182436</td>\n",
       "      <td>沈*堂</td>\n",
       "      <td>出院记录\\诊断\\出院诊断</td>\n",
       "      <td>1、慢性阻塞性肺疾病急性加重\\n2、前列腺增生并钙化斑\\n3、胆囊切除术后\\n4、酒精性肝硬...</td>\n",
       "      <td>慢性阻塞性肺疾病急性加重</td>\n",
       "      <td>慢性阻塞性肺疾病急性加重</td>\n",
       "      <td>12440100455344205E</td>\n",
       "    </tr>\n",
       "    <tr>\n",
       "      <th>4</th>\n",
       "      <td>1066658</td>\n",
       "      <td>0000182436</td>\n",
       "      <td>182436</td>\n",
       "      <td>ZY010000182436</td>\n",
       "      <td>沈*堂</td>\n",
       "      <td>出院记录\\诊断\\出院诊断</td>\n",
       "      <td>1、慢性阻塞性肺疾病急性加重\\n2、前列腺增生并钙化斑\\n3、胆囊切除术后\\n4、酒精性肝硬...</td>\n",
       "      <td>声带息肉</td>\n",
       "      <td>声带息肉</td>\n",
       "      <td>12440100455344205E</td>\n",
       "    </tr>\n",
       "  </tbody>\n",
       "</table>\n",
       "</div>"
      ],
      "text/plain": [
       "    SEQ_ID  PATIENT_ID  PATIENT_NO    INPATIENT_NO INDEX2 PARENTNODENAME  \\\n",
       "0  1066658  0000182436      182436  ZY010000182436    沈*堂   出院记录\\诊断\\出院诊断   \n",
       "1  1066658  0000182436      182436  ZY010000182436    沈*堂   出院记录\\诊断\\出院诊断   \n",
       "2  1066658  0000182436      182436  ZY010000182436    沈*堂   出院记录\\诊断\\出院诊断   \n",
       "3  1066658  0000182436      182436  ZY010000182436    沈*堂   出院记录\\诊断\\出院诊断   \n",
       "4  1066658  0000182436      182436  ZY010000182436    沈*堂   出院记录\\诊断\\出院诊断   \n",
       "\n",
       "                                          SOURCEDATA      NODENAME  \\\n",
       "0  1、慢性阻塞性肺疾病急性加重\\n2、前列腺增生并钙化斑\\n3、胆囊切除术后\\n4、酒精性肝硬...             斑   \n",
       "1  1、慢性阻塞性肺疾病急性加重\\n2、前列腺增生并钙化斑\\n3、胆囊切除术后\\n4、酒精性肝硬...        酒精性肝硬化   \n",
       "2  1、慢性阻塞性肺疾病急性加重\\n2、前列腺增生并钙化斑\\n3、胆囊切除术后\\n4、酒精性肝硬...      前列腺增生并钙化   \n",
       "3  1、慢性阻塞性肺疾病急性加重\\n2、前列腺增生并钙化斑\\n3、胆囊切除术后\\n4、酒精性肝硬...  慢性阻塞性肺疾病急性加重   \n",
       "4  1、慢性阻塞性肺疾病急性加重\\n2、前列腺增生并钙化斑\\n3、胆囊切除术后\\n4、酒精性肝硬...          声带息肉   \n",
       "\n",
       "      NODEVALUE       HOSPITAL_CODE  \n",
       "0             无  12440100455344205E  \n",
       "1         酒精性肝病  12440100455344205E  \n",
       "2         前列腺增生  12440100455344205E  \n",
       "3  慢性阻塞性肺疾病急性加重  12440100455344205E  \n",
       "4          声带息肉  12440100455344205E  "
      ]
     },
     "execution_count": 2,
     "metadata": {},
     "output_type": "execute_result"
    }
   ],
   "source": [
    "df_out_daignose = pd.read_csv('out_diagnose.csv')\n",
    "df_out_daignose.head()"
   ]
  },
  {
   "cell_type": "code",
   "execution_count": 3,
   "metadata": {},
   "outputs": [
    {
     "data": {
      "text/html": [
       "<div>\n",
       "<style scoped>\n",
       "    .dataframe tbody tr th:only-of-type {\n",
       "        vertical-align: middle;\n",
       "    }\n",
       "\n",
       "    .dataframe tbody tr th {\n",
       "        vertical-align: top;\n",
       "    }\n",
       "\n",
       "    .dataframe thead th {\n",
       "        text-align: right;\n",
       "    }\n",
       "</style>\n",
       "<table border=\"1\" class=\"dataframe\">\n",
       "  <thead>\n",
       "    <tr style=\"text-align: right;\">\n",
       "      <th></th>\n",
       "      <th>实体性质</th>\n",
       "      <th>实体</th>\n",
       "      <th>实体性质.1</th>\n",
       "      <th>Unnamed: 3</th>\n",
       "    </tr>\n",
       "  </thead>\n",
       "  <tbody>\n",
       "    <tr>\n",
       "      <th>0</th>\n",
       "      <td>共患病</td>\n",
       "      <td>高血压病</td>\n",
       "      <td>非共患病</td>\n",
       "      <td>胆管炎</td>\n",
       "    </tr>\n",
       "    <tr>\n",
       "      <th>1</th>\n",
       "      <td>NaN</td>\n",
       "      <td>高脂血症</td>\n",
       "      <td>NaN</td>\n",
       "      <td>胆囊息肉</td>\n",
       "    </tr>\n",
       "    <tr>\n",
       "      <th>2</th>\n",
       "      <td>NaN</td>\n",
       "      <td>冠心病</td>\n",
       "      <td>NaN</td>\n",
       "      <td>胆石症</td>\n",
       "    </tr>\n",
       "    <tr>\n",
       "      <th>3</th>\n",
       "      <td>NaN</td>\n",
       "      <td>前列腺增生</td>\n",
       "      <td>NaN</td>\n",
       "      <td>风湿性心脏病</td>\n",
       "    </tr>\n",
       "    <tr>\n",
       "      <th>4</th>\n",
       "      <td>NaN</td>\n",
       "      <td>糖尿病</td>\n",
       "      <td>NaN</td>\n",
       "      <td>腹股沟疝</td>\n",
       "    </tr>\n",
       "  </tbody>\n",
       "</table>\n",
       "</div>"
      ],
      "text/plain": [
       "  实体性质     实体 实体性质.1 Unnamed: 3\n",
       "0  共患病   高血压病   非共患病        胆管炎\n",
       "1  NaN   高脂血症    NaN       胆囊息肉\n",
       "2  NaN    冠心病    NaN        胆石症\n",
       "3  NaN  前列腺增生    NaN     风湿性心脏病\n",
       "4  NaN    糖尿病    NaN       腹股沟疝"
      ]
     },
     "execution_count": 3,
     "metadata": {},
     "output_type": "execute_result"
    }
   ],
   "source": [
    "df_entry_codisease = pd.read_excel('实体命名.xlsx',sheet_name='共患病')\n",
    "df_entry_codisease.head()"
   ]
  },
  {
   "cell_type": "code",
   "execution_count": 4,
   "metadata": {},
   "outputs": [
    {
     "name": "stdout",
     "output_type": "stream",
     "text": [
      "<class 'float'>\n",
      "43\n",
      "['高血压病', '高脂血症', '冠心病', '前列腺增生', '糖尿病', '焦虑', '抑郁', '心力衰竭', '心律失常', '脑卒中']\n"
     ]
    }
   ],
   "source": [
    "codisease_list = df_entry_codisease['实体']\n",
    "nan = codisease_list[44]\n",
    "print(type(nan))\n",
    "codisease_list = [x for x in codisease_list if type(x) != float]\n",
    "print(len(codisease_list))\n",
    "print(codisease_list[:10])"
   ]
  },
  {
   "cell_type": "code",
   "execution_count": 5,
   "metadata": {},
   "outputs": [
    {
     "name": "stdout",
     "output_type": "stream",
     "text": [
      "45\n",
      "['胆管炎', '胆囊息肉', '胆石症', '风湿性心脏病', '腹股沟疝', '肝恶性肿瘤', '肝囊肿', '肝血管瘤', '肝硬化', '高尿酸血症']\n"
     ]
    }
   ],
   "source": [
    "notcodisease_list = df_entry_codisease['Unnamed: 3']\n",
    "notcodisease_list = [x for x in notcodisease_list if type(x) != float]\n",
    "print(len(notcodisease_list))\n",
    "print(notcodisease_list[:10])"
   ]
  },
  {
   "cell_type": "code",
   "execution_count": 6,
   "metadata": {},
   "outputs": [
    {
     "name": "stdout",
     "output_type": "stream",
     "text": [
      "     INPATIENT_NO     NODEVALUE\n",
      "0  ZY010000182436             无\n",
      "1  ZY010000182436         酒精性肝病\n",
      "2  ZY010000182436         前列腺增生\n",
      "3  ZY010000182436  慢性阻塞性肺疾病急性加重\n",
      "4  ZY010000182436          声带息肉\n"
     ]
    }
   ],
   "source": [
    "df_out_diagnose_extracted = df_out_daignose[['INPATIENT_NO','NODEVALUE']]\n",
    "print(df_out_diagnose_extracted[:5])"
   ]
  },
  {
   "cell_type": "code",
   "execution_count": 7,
   "metadata": {},
   "outputs": [
    {
     "name": "stdout",
     "output_type": "stream",
     "text": [
      "Empty DataFrame\n",
      "Columns: [关系类型, 头类型, 尾类型, 头主键名, 头主键值, 尾主键名, 尾主键值]\n",
      "Index: []\n"
     ]
    }
   ],
   "source": [
    "df_codisease_relation = pd.DataFrame(columns=['关系类型','头类型','尾类型','头主键名','头主键值','尾主键名','尾主键值'])\n",
    "print(df_codisease_relation.head())"
   ]
  },
  {
   "cell_type": "code",
   "execution_count": 8,
   "metadata": {},
   "outputs": [
    {
     "name": "stdout",
     "output_type": "stream",
     "text": [
      "Empty DataFrame\n",
      "Columns: [关系类型, 头类型, 尾类型, 头主键名, 头主键值, 尾主键名, 尾主键值]\n",
      "Index: []\n"
     ]
    }
   ],
   "source": [
    "df_notcodisease_relation = pd.DataFrame(columns=['关系类型','头类型','尾类型','头主键名','头主键值','尾主键名','尾主键值'])\n",
    "print(df_notcodisease_relation.head())"
   ]
  },
  {
   "cell_type": "code",
   "execution_count": 9,
   "metadata": {},
   "outputs": [
    {
     "name": "stdout",
     "output_type": "stream",
     "text": [
      "  关系类型 头类型  尾类型    头主键名            头主键值   尾主键名    尾主键值\n",
      "0   患病  患者  共患病  患者住院ID  ZY010000182436  共患病名称   前列腺增生\n",
      "1   患病  患者  共患病  患者住院ID  ZY010000362589  共患病名称    呼吸衰竭\n",
      "2   患病  患者  共患病  患者住院ID  ZY010000362589  共患病名称  肺源性心脏病\n",
      "3   患病  患者  共患病  患者住院ID  ZY010000362589  共患病名称   支气管扩张\n",
      "4   患病  患者  共患病  患者住院ID  ZY010000362589  共患病名称     糖尿病\n",
      "  关系类型 头类型   尾类型    头主键名            头主键值    尾主键名      尾主键值\n",
      "0   患病  患者  非共患病  患者住院ID  ZY010000182436  非共患病名称     酒精性肝病\n",
      "1   患病  患者  非共患病  患者住院ID  ZY010000182436  非共患病名称      声带息肉\n",
      "2   患病  患者  非共患病  患者住院ID  ZY010000359659  非共患病名称       结膜炎\n",
      "3   患病  患者  非共患病  患者住院ID  ZY010000361207  非共患病名称        痛风\n",
      "4   患病  患者  非共患病  患者住院ID  ZY010000361542  非共患病名称  下肢动脉粥样硬化\n"
     ]
    }
   ],
   "source": [
    "co_index = 0\n",
    "not_co_index = 0\n",
    "for index,row in df_out_diagnose_extracted.iterrows():\n",
    "    if row['NODEVALUE'] != '无':\n",
    "        head_value = row['INPATIENT_NO']\n",
    "        end_value = row['NODEVALUE']\n",
    "        if end_value in codisease_list:\n",
    "            df_codisease_relation.loc[co_index] = {'关系类型':'患病', '头类型':'患者', '尾类型':'共患病', '头主键名':'患者住院ID','头主键值':head_value, '尾主键名':'共患病名称', '尾主键值':end_value}\n",
    "            co_index += 1\n",
    "        elif end_value in notcodisease_list:\n",
    "            df_notcodisease_relation.loc[not_co_index] = {'关系类型':'患病', '头类型':'患者', '尾类型':'非共患病', '头主键名':'患者住院ID','头主键值':head_value, '尾主键名':'非共患病名称', '尾主键值':end_value}\n",
    "            not_co_index += 1\n",
    "\n",
    "print(df_codisease_relation.head())\n",
    "print(df_notcodisease_relation.head())"
   ]
  },
  {
   "cell_type": "code",
   "execution_count": 90,
   "metadata": {},
   "outputs": [],
   "source": [
    "df_codisease_relation.to_csv(r'./患者与共患病关系.csv',index=False,sep=',')\n",
    "df_notcodisease_relation.to_csv(r'./患者与非共患病关系.csv',index=False,sep=',')"
   ]
  },
  {
   "cell_type": "markdown",
   "metadata": {},
   "source": [
    "# 病人唯一住院ID实体列表提取"
   ]
  },
  {
   "cell_type": "code",
   "execution_count": 10,
   "metadata": {},
   "outputs": [
    {
     "data": {
      "text/html": [
       "<div>\n",
       "<style scoped>\n",
       "    .dataframe tbody tr th:only-of-type {\n",
       "        vertical-align: middle;\n",
       "    }\n",
       "\n",
       "    .dataframe tbody tr th {\n",
       "        vertical-align: top;\n",
       "    }\n",
       "\n",
       "    .dataframe thead th {\n",
       "        text-align: right;\n",
       "    }\n",
       "</style>\n",
       "<table border=\"1\" class=\"dataframe\">\n",
       "  <thead>\n",
       "    <tr style=\"text-align: right;\">\n",
       "      <th></th>\n",
       "      <th>D_MAIN_DIA_STATUS</th>\n",
       "      <th>HOSPITAL_CODE</th>\n",
       "      <th>HOSPITAL_NAME</th>\n",
       "      <th>H_CARD_NO</th>\n",
       "      <th>MR_NO</th>\n",
       "      <th>PATIENT_ID</th>\n",
       "      <th>PATIENT_NO</th>\n",
       "      <th>VISIT_NO</th>\n",
       "      <th>INPATIENT_NO</th>\n",
       "      <th>FEE_TYPE</th>\n",
       "      <th>...</th>\n",
       "      <th>ANE_DOCTOR2_CODE</th>\n",
       "      <th>SEQ_ID</th>\n",
       "      <th>DATA_VERSION</th>\n",
       "      <th>CHILD_OPERATION_FEE</th>\n",
       "      <th>C_PHYSIO_FEE</th>\n",
       "      <th>ANAES_FEE</th>\n",
       "      <th>ICU</th>\n",
       "      <th>ICU_DAY</th>\n",
       "      <th>D_STRUCTURING_DIA</th>\n",
       "      <th>PATI_ID</th>\n",
       "    </tr>\n",
       "  </thead>\n",
       "  <tbody>\n",
       "    <tr>\n",
       "      <th>0</th>\n",
       "      <td>NaN</td>\n",
       "      <td>12440100455344205E</td>\n",
       "      <td>广州医科大学附属第一医院</td>\n",
       "      <td>NaN</td>\n",
       "      <td>NaN</td>\n",
       "      <td>0000574609</td>\n",
       "      <td>295315</td>\n",
       "      <td>6</td>\n",
       "      <td>ZY060000295315</td>\n",
       "      <td>医保</td>\n",
       "      <td>...</td>\n",
       "      <td>NaN</td>\n",
       "      <td>190</td>\n",
       "      <td>0</td>\n",
       "      <td>0.0</td>\n",
       "      <td>0.0</td>\n",
       "      <td>0.0</td>\n",
       "      <td>NaN</td>\n",
       "      <td>NaN</td>\n",
       "      <td>NaN</td>\n",
       "      <td>NaN</td>\n",
       "    </tr>\n",
       "    <tr>\n",
       "      <th>1</th>\n",
       "      <td>NaN</td>\n",
       "      <td>12440100455344205E</td>\n",
       "      <td>广州医科大学附属第一医院</td>\n",
       "      <td>NaN</td>\n",
       "      <td>NaN</td>\n",
       "      <td>0000906345</td>\n",
       "      <td>338471</td>\n",
       "      <td>5</td>\n",
       "      <td>ZY060000338471</td>\n",
       "      <td>医保</td>\n",
       "      <td>...</td>\n",
       "      <td>NaN</td>\n",
       "      <td>192</td>\n",
       "      <td>0</td>\n",
       "      <td>0.0</td>\n",
       "      <td>0.0</td>\n",
       "      <td>0.0</td>\n",
       "      <td>NaN</td>\n",
       "      <td>NaN</td>\n",
       "      <td>NaN</td>\n",
       "      <td>NaN</td>\n",
       "    </tr>\n",
       "    <tr>\n",
       "      <th>2</th>\n",
       "      <td>NaN</td>\n",
       "      <td>12440100455344205E</td>\n",
       "      <td>广州医科大学附属第一医院</td>\n",
       "      <td>NaN</td>\n",
       "      <td>NaN</td>\n",
       "      <td>0000882476</td>\n",
       "      <td>341147</td>\n",
       "      <td>5</td>\n",
       "      <td>ZY050000341147</td>\n",
       "      <td>医保</td>\n",
       "      <td>...</td>\n",
       "      <td>NaN</td>\n",
       "      <td>358</td>\n",
       "      <td>0</td>\n",
       "      <td>0.0</td>\n",
       "      <td>0.0</td>\n",
       "      <td>0.0</td>\n",
       "      <td>NaN</td>\n",
       "      <td>NaN</td>\n",
       "      <td>NaN</td>\n",
       "      <td>NaN</td>\n",
       "    </tr>\n",
       "    <tr>\n",
       "      <th>3</th>\n",
       "      <td>NaN</td>\n",
       "      <td>12440100455344205E</td>\n",
       "      <td>广州医科大学附属第一医院</td>\n",
       "      <td>NaN</td>\n",
       "      <td>NaN</td>\n",
       "      <td>0000841606</td>\n",
       "      <td>329288</td>\n",
       "      <td>2</td>\n",
       "      <td>ZY020000329288</td>\n",
       "      <td>医保</td>\n",
       "      <td>...</td>\n",
       "      <td>NaN</td>\n",
       "      <td>224</td>\n",
       "      <td>0</td>\n",
       "      <td>0.0</td>\n",
       "      <td>0.0</td>\n",
       "      <td>0.0</td>\n",
       "      <td>NaN</td>\n",
       "      <td>NaN</td>\n",
       "      <td>NaN</td>\n",
       "      <td>NaN</td>\n",
       "    </tr>\n",
       "    <tr>\n",
       "      <th>4</th>\n",
       "      <td>NaN</td>\n",
       "      <td>12440100455344205E</td>\n",
       "      <td>广州医科大学附属第一医院</td>\n",
       "      <td>NaN</td>\n",
       "      <td>NaN</td>\n",
       "      <td>0080213699</td>\n",
       "      <td>350407</td>\n",
       "      <td>2</td>\n",
       "      <td>ZY020000350407</td>\n",
       "      <td>自费</td>\n",
       "      <td>...</td>\n",
       "      <td>NaN</td>\n",
       "      <td>226</td>\n",
       "      <td>0</td>\n",
       "      <td>0.0</td>\n",
       "      <td>0.0</td>\n",
       "      <td>0.0</td>\n",
       "      <td>NaN</td>\n",
       "      <td>NaN</td>\n",
       "      <td>NaN</td>\n",
       "      <td>NaN</td>\n",
       "    </tr>\n",
       "  </tbody>\n",
       "</table>\n",
       "<p>5 rows × 204 columns</p>\n",
       "</div>"
      ],
      "text/plain": [
       "   D_MAIN_DIA_STATUS       HOSPITAL_CODE HOSPITAL_NAME  H_CARD_NO  MR_NO  \\\n",
       "0                NaN  12440100455344205E  广州医科大学附属第一医院        NaN    NaN   \n",
       "1                NaN  12440100455344205E  广州医科大学附属第一医院        NaN    NaN   \n",
       "2                NaN  12440100455344205E  广州医科大学附属第一医院        NaN    NaN   \n",
       "3                NaN  12440100455344205E  广州医科大学附属第一医院        NaN    NaN   \n",
       "4                NaN  12440100455344205E  广州医科大学附属第一医院        NaN    NaN   \n",
       "\n",
       "   PATIENT_ID  PATIENT_NO  VISIT_NO    INPATIENT_NO FEE_TYPE   ...    \\\n",
       "0  0000574609      295315         6  ZY060000295315       医保   ...     \n",
       "1  0000906345      338471         5  ZY060000338471       医保   ...     \n",
       "2  0000882476      341147         5  ZY050000341147       医保   ...     \n",
       "3  0000841606      329288         2  ZY020000329288       医保   ...     \n",
       "4  0080213699      350407         2  ZY020000350407       自费   ...     \n",
       "\n",
       "  ANE_DOCTOR2_CODE SEQ_ID DATA_VERSION CHILD_OPERATION_FEE C_PHYSIO_FEE  \\\n",
       "0              NaN    190            0                 0.0          0.0   \n",
       "1              NaN    192            0                 0.0          0.0   \n",
       "2              NaN    358            0                 0.0          0.0   \n",
       "3              NaN    224            0                 0.0          0.0   \n",
       "4              NaN    226            0                 0.0          0.0   \n",
       "\n",
       "  ANAES_FEE ICU ICU_DAY D_STRUCTURING_DIA PATI_ID  \n",
       "0       0.0 NaN     NaN               NaN     NaN  \n",
       "1       0.0 NaN     NaN               NaN     NaN  \n",
       "2       0.0 NaN     NaN               NaN     NaN  \n",
       "3       0.0 NaN     NaN               NaN     NaN  \n",
       "4       0.0 NaN     NaN               NaN     NaN  \n",
       "\n",
       "[5 rows x 204 columns]"
      ]
     },
     "execution_count": 10,
     "metadata": {},
     "output_type": "execute_result"
    }
   ],
   "source": [
    "df_homepage = pd.read_excel('病案首页inp_mr_front_sheet.xlsx', sheet_name='Sheet1')\n",
    "df_homepage.head()"
   ]
  },
  {
   "cell_type": "code",
   "execution_count": 11,
   "metadata": {},
   "outputs": [
    {
     "name": "stdout",
     "output_type": "stream",
     "text": [
      "3051\n"
     ]
    }
   ],
   "source": [
    "print(len(df_homepage))"
   ]
  },
  {
   "cell_type": "code",
   "execution_count": 12,
   "metadata": {},
   "outputs": [
    {
     "name": "stdout",
     "output_type": "stream",
     "text": [
      "Empty DataFrame\n",
      "Columns: [实体类型, 主键名, 主键值, 患者所在医院, 患者ID]\n",
      "Index: []\n"
     ]
    }
   ],
   "source": [
    "df_patient_entry = pd.DataFrame(columns=['实体类型','主键名','主键值','患者所在医院','患者ID'])\n",
    "print(df_patient_entry.head())"
   ]
  },
  {
   "cell_type": "code",
   "execution_count": 13,
   "metadata": {},
   "outputs": [
    {
     "name": "stdout",
     "output_type": "stream",
     "text": [
      "3051\n",
      "   D_MAIN_DIA_STATUS       HOSPITAL_CODE HOSPITAL_NAME  H_CARD_NO  MR_NO  \\\n",
      "0                NaN  12440100455344205E  广州医科大学附属第一医院        NaN    NaN   \n",
      "1                NaN  12440100455344205E  广州医科大学附属第一医院        NaN    NaN   \n",
      "2                NaN  12440100455344205E  广州医科大学附属第一医院        NaN    NaN   \n",
      "3                NaN  12440100455344205E  广州医科大学附属第一医院        NaN    NaN   \n",
      "4                NaN  12440100455344205E  广州医科大学附属第一医院        NaN    NaN   \n",
      "\n",
      "   PATIENT_ID  PATIENT_NO  VISIT_NO    INPATIENT_NO FEE_TYPE   ...    \\\n",
      "0  0000574609      295315         6  ZY060000295315       医保   ...     \n",
      "1  0000906345      338471         5  ZY060000338471       医保   ...     \n",
      "2  0000882476      341147         5  ZY050000341147       医保   ...     \n",
      "3  0000841606      329288         2  ZY020000329288       医保   ...     \n",
      "4  0080213699      350407         2  ZY020000350407       自费   ...     \n",
      "\n",
      "  ANE_DOCTOR2_CODE SEQ_ID DATA_VERSION CHILD_OPERATION_FEE C_PHYSIO_FEE  \\\n",
      "0              NaN    190            0                 0.0          0.0   \n",
      "1              NaN    192            0                 0.0          0.0   \n",
      "2              NaN    358            0                 0.0          0.0   \n",
      "3              NaN    224            0                 0.0          0.0   \n",
      "4              NaN    226            0                 0.0          0.0   \n",
      "\n",
      "  ANAES_FEE ICU ICU_DAY D_STRUCTURING_DIA PATI_ID  \n",
      "0       0.0 NaN     NaN               NaN     NaN  \n",
      "1       0.0 NaN     NaN               NaN     NaN  \n",
      "2       0.0 NaN     NaN               NaN     NaN  \n",
      "3       0.0 NaN     NaN               NaN     NaN  \n",
      "4       0.0 NaN     NaN               NaN     NaN  \n",
      "\n",
      "[5 rows x 204 columns]\n"
     ]
    }
   ],
   "source": [
    "df_homepage = df_homepage.drop_duplicates(['INPATIENT_NO'])\n",
    "print(len(df_homepage))\n",
    "print(df_homepage.head())"
   ]
  },
  {
   "cell_type": "code",
   "execution_count": 14,
   "metadata": {},
   "outputs": [
    {
     "name": "stdout",
     "output_type": "stream",
     "text": [
      "3051\n",
      "  实体类型     主键名             主键值        患者所在医院        患者ID\n",
      "0   患者  患者住院ID  ZY060000295315  广州医科大学附属第一医院  0000574609\n",
      "1   患者  患者住院ID  ZY060000338471  广州医科大学附属第一医院  0000906345\n",
      "2   患者  患者住院ID  ZY050000341147  广州医科大学附属第一医院  0000882476\n",
      "3   患者  患者住院ID  ZY020000329288  广州医科大学附属第一医院  0000841606\n",
      "4   患者  患者住院ID  ZY020000350407  广州医科大学附属第一医院  0080213699\n"
     ]
    }
   ],
   "source": [
    "for index,row in df_homepage.iterrows():\n",
    "    df_patient_entry.loc[index] = {'实体类型':'患者', '主键名':'患者住院ID', '主键值':row['INPATIENT_NO'], '患者所在医院':row['HOSPITAL_NAME'], '患者ID':row['PATIENT_ID']}\n",
    "\n",
    "print(len(df_patient_entry))\n",
    "print(df_patient_entry.head())"
   ]
  },
  {
   "cell_type": "code",
   "execution_count": 96,
   "metadata": {},
   "outputs": [],
   "source": [
    "df_patient_entry.to_csv(r'./患者实体列表.csv',index=False,sep=',')"
   ]
  },
  {
   "cell_type": "markdown",
   "metadata": {},
   "source": [
    "# 患者疾病影响因素：过去1年是否有1次住院史，患者实体与住院史实体关系提取"
   ]
  },
  {
   "cell_type": "code",
   "execution_count": 38,
   "metadata": {},
   "outputs": [
    {
     "data": {
      "text/html": [
       "<div>\n",
       "<style scoped>\n",
       "    .dataframe tbody tr th:only-of-type {\n",
       "        vertical-align: middle;\n",
       "    }\n",
       "\n",
       "    .dataframe tbody tr th {\n",
       "        vertical-align: top;\n",
       "    }\n",
       "\n",
       "    .dataframe thead th {\n",
       "        text-align: right;\n",
       "    }\n",
       "</style>\n",
       "<table border=\"1\" class=\"dataframe\">\n",
       "  <thead>\n",
       "    <tr style=\"text-align: right;\">\n",
       "      <th></th>\n",
       "      <th>D_MAIN_DIA_STATUS</th>\n",
       "      <th>HOSPITAL_CODE</th>\n",
       "      <th>HOSPITAL_NAME</th>\n",
       "      <th>H_CARD_NO</th>\n",
       "      <th>MR_NO</th>\n",
       "      <th>PATIENT_ID</th>\n",
       "      <th>PATIENT_NO</th>\n",
       "      <th>VISIT_NO</th>\n",
       "      <th>INPATIENT_NO</th>\n",
       "      <th>FEE_TYPE</th>\n",
       "      <th>...</th>\n",
       "      <th>ANE_DOCTOR2_CODE</th>\n",
       "      <th>SEQ_ID</th>\n",
       "      <th>DATA_VERSION</th>\n",
       "      <th>CHILD_OPERATION_FEE</th>\n",
       "      <th>C_PHYSIO_FEE</th>\n",
       "      <th>ANAES_FEE</th>\n",
       "      <th>ICU</th>\n",
       "      <th>ICU_DAY</th>\n",
       "      <th>D_STRUCTURING_DIA</th>\n",
       "      <th>PATI_ID</th>\n",
       "    </tr>\n",
       "  </thead>\n",
       "  <tbody>\n",
       "    <tr>\n",
       "      <th>0</th>\n",
       "      <td>NaN</td>\n",
       "      <td>12440100455344205E</td>\n",
       "      <td>广州医科大学附属第一医院</td>\n",
       "      <td>NaN</td>\n",
       "      <td>NaN</td>\n",
       "      <td>0000574609</td>\n",
       "      <td>295315</td>\n",
       "      <td>6</td>\n",
       "      <td>ZY060000295315</td>\n",
       "      <td>医保</td>\n",
       "      <td>...</td>\n",
       "      <td>NaN</td>\n",
       "      <td>190</td>\n",
       "      <td>0</td>\n",
       "      <td>0.0</td>\n",
       "      <td>0.0</td>\n",
       "      <td>0.0</td>\n",
       "      <td>NaN</td>\n",
       "      <td>NaN</td>\n",
       "      <td>NaN</td>\n",
       "      <td>NaN</td>\n",
       "    </tr>\n",
       "    <tr>\n",
       "      <th>1</th>\n",
       "      <td>NaN</td>\n",
       "      <td>12440100455344205E</td>\n",
       "      <td>广州医科大学附属第一医院</td>\n",
       "      <td>NaN</td>\n",
       "      <td>NaN</td>\n",
       "      <td>0000906345</td>\n",
       "      <td>338471</td>\n",
       "      <td>5</td>\n",
       "      <td>ZY060000338471</td>\n",
       "      <td>医保</td>\n",
       "      <td>...</td>\n",
       "      <td>NaN</td>\n",
       "      <td>192</td>\n",
       "      <td>0</td>\n",
       "      <td>0.0</td>\n",
       "      <td>0.0</td>\n",
       "      <td>0.0</td>\n",
       "      <td>NaN</td>\n",
       "      <td>NaN</td>\n",
       "      <td>NaN</td>\n",
       "      <td>NaN</td>\n",
       "    </tr>\n",
       "    <tr>\n",
       "      <th>2</th>\n",
       "      <td>NaN</td>\n",
       "      <td>12440100455344205E</td>\n",
       "      <td>广州医科大学附属第一医院</td>\n",
       "      <td>NaN</td>\n",
       "      <td>NaN</td>\n",
       "      <td>0000882476</td>\n",
       "      <td>341147</td>\n",
       "      <td>5</td>\n",
       "      <td>ZY050000341147</td>\n",
       "      <td>医保</td>\n",
       "      <td>...</td>\n",
       "      <td>NaN</td>\n",
       "      <td>358</td>\n",
       "      <td>0</td>\n",
       "      <td>0.0</td>\n",
       "      <td>0.0</td>\n",
       "      <td>0.0</td>\n",
       "      <td>NaN</td>\n",
       "      <td>NaN</td>\n",
       "      <td>NaN</td>\n",
       "      <td>NaN</td>\n",
       "    </tr>\n",
       "    <tr>\n",
       "      <th>3</th>\n",
       "      <td>NaN</td>\n",
       "      <td>12440100455344205E</td>\n",
       "      <td>广州医科大学附属第一医院</td>\n",
       "      <td>NaN</td>\n",
       "      <td>NaN</td>\n",
       "      <td>0000841606</td>\n",
       "      <td>329288</td>\n",
       "      <td>2</td>\n",
       "      <td>ZY020000329288</td>\n",
       "      <td>医保</td>\n",
       "      <td>...</td>\n",
       "      <td>NaN</td>\n",
       "      <td>224</td>\n",
       "      <td>0</td>\n",
       "      <td>0.0</td>\n",
       "      <td>0.0</td>\n",
       "      <td>0.0</td>\n",
       "      <td>NaN</td>\n",
       "      <td>NaN</td>\n",
       "      <td>NaN</td>\n",
       "      <td>NaN</td>\n",
       "    </tr>\n",
       "    <tr>\n",
       "      <th>4</th>\n",
       "      <td>NaN</td>\n",
       "      <td>12440100455344205E</td>\n",
       "      <td>广州医科大学附属第一医院</td>\n",
       "      <td>NaN</td>\n",
       "      <td>NaN</td>\n",
       "      <td>0080213699</td>\n",
       "      <td>350407</td>\n",
       "      <td>2</td>\n",
       "      <td>ZY020000350407</td>\n",
       "      <td>自费</td>\n",
       "      <td>...</td>\n",
       "      <td>NaN</td>\n",
       "      <td>226</td>\n",
       "      <td>0</td>\n",
       "      <td>0.0</td>\n",
       "      <td>0.0</td>\n",
       "      <td>0.0</td>\n",
       "      <td>NaN</td>\n",
       "      <td>NaN</td>\n",
       "      <td>NaN</td>\n",
       "      <td>NaN</td>\n",
       "    </tr>\n",
       "  </tbody>\n",
       "</table>\n",
       "<p>5 rows × 204 columns</p>\n",
       "</div>"
      ],
      "text/plain": [
       "   D_MAIN_DIA_STATUS       HOSPITAL_CODE HOSPITAL_NAME  H_CARD_NO  MR_NO  \\\n",
       "0                NaN  12440100455344205E  广州医科大学附属第一医院        NaN    NaN   \n",
       "1                NaN  12440100455344205E  广州医科大学附属第一医院        NaN    NaN   \n",
       "2                NaN  12440100455344205E  广州医科大学附属第一医院        NaN    NaN   \n",
       "3                NaN  12440100455344205E  广州医科大学附属第一医院        NaN    NaN   \n",
       "4                NaN  12440100455344205E  广州医科大学附属第一医院        NaN    NaN   \n",
       "\n",
       "   PATIENT_ID  PATIENT_NO  VISIT_NO    INPATIENT_NO FEE_TYPE   ...    \\\n",
       "0  0000574609      295315         6  ZY060000295315       医保   ...     \n",
       "1  0000906345      338471         5  ZY060000338471       医保   ...     \n",
       "2  0000882476      341147         5  ZY050000341147       医保   ...     \n",
       "3  0000841606      329288         2  ZY020000329288       医保   ...     \n",
       "4  0080213699      350407         2  ZY020000350407       自费   ...     \n",
       "\n",
       "  ANE_DOCTOR2_CODE SEQ_ID DATA_VERSION CHILD_OPERATION_FEE C_PHYSIO_FEE  \\\n",
       "0              NaN    190            0                 0.0          0.0   \n",
       "1              NaN    192            0                 0.0          0.0   \n",
       "2              NaN    358            0                 0.0          0.0   \n",
       "3              NaN    224            0                 0.0          0.0   \n",
       "4              NaN    226            0                 0.0          0.0   \n",
       "\n",
       "  ANAES_FEE ICU ICU_DAY D_STRUCTURING_DIA PATI_ID  \n",
       "0       0.0 NaN     NaN               NaN     NaN  \n",
       "1       0.0 NaN     NaN               NaN     NaN  \n",
       "2       0.0 NaN     NaN               NaN     NaN  \n",
       "3       0.0 NaN     NaN               NaN     NaN  \n",
       "4       0.0 NaN     NaN               NaN     NaN  \n",
       "\n",
       "[5 rows x 204 columns]"
      ]
     },
     "execution_count": 38,
     "metadata": {},
     "output_type": "execute_result"
    }
   ],
   "source": [
    "df_homepage = pd.read_excel('病案首页inp_mr_front_sheet.xlsx', sheet_name='Sheet1')\n",
    "df_homepage.head()"
   ]
  },
  {
   "cell_type": "code",
   "execution_count": 39,
   "metadata": {},
   "outputs": [
    {
     "name": "stdout",
     "output_type": "stream",
     "text": [
      "Empty DataFrame\n",
      "Columns: [关系类型, 头类型, 尾类型, 头主键名, 头主键值, 尾主键名, 尾主键值]\n",
      "Index: []\n"
     ]
    }
   ],
   "source": [
    "df_inhospital_history_relation = pd.DataFrame(columns=['关系类型','头类型','尾类型','头主键名','头主键值','尾主键名','尾主键值'])\n",
    "print(df_inhospital_history_relation.head())"
   ]
  },
  {
   "cell_type": "code",
   "execution_count": 42,
   "metadata": {},
   "outputs": [
    {
     "name": "stdout",
     "output_type": "stream",
     "text": [
      "{'0000000663': Int64Index([803], dtype='int64'), '0000001482': Int64Index([395], dtype='int64'), '0000004614': Int64Index([1326], dtype='int64'), '0000008309': Int64Index([228, 635], dtype='int64'), '0000012933': Int64Index([886], dtype='int64'), '0000014934': Int64Index([730, 2403], dtype='int64'), '0000017004': Int64Index([1780], dtype='int64'), '0000017308': Int64Index([17, 61, 79, 223, 243, 420], dtype='int64'), '0000018428': Int64Index([240], dtype='int64'), '0000019041': Int64Index([1134, 1691], dtype='int64'), '0000019165': Int64Index([316], dtype='int64'), '0000019349': Int64Index([2751], dtype='int64'), '0000019725': Int64Index([1064], dtype='int64'), '0000019786': Int64Index([333], dtype='int64'), '0000020585': Int64Index([1901], dtype='int64'), '0000024565': Int64Index([1527, 1593, 1922], dtype='int64'), '0000027044': Int64Index([2528], dtype='int64'), '0000027082': Int64Index([232, 517, 1133, 2043, 2060], dtype='int64'), '0000027269': Int64Index([256], dtype='int64'), '0000029068': Int64Index([28], dtype='int64'), '0000032556': Int64Index([22], dtype='int64'), '0000032572': Int64Index([102, 626, 1458, 1795], dtype='int64'), '0000034009': Int64Index([1187, 1443, 2115, 2176], dtype='int64'), '0000034304': Int64Index([11, 76, 2673], dtype='int64'), '0000034410': Int64Index([844], dtype='int64'), '0000035223': Int64Index([246], dtype='int64'), '0000035983': Int64Index([325], dtype='int64'), '0000036870': Int64Index([1003], dtype='int64'), '0000037091': Int64Index([18], dtype='int64'), '0000038518': Int64Index([862], dtype='int64'), '0000041416': Int64Index([84, 122, 129, 1087, 1245, 1387], dtype='int64'), '0000044953': Int64Index([68, 1150, 1471], dtype='int64'), '0000048471': Int64Index([272, 359, 393, 437, 497, 670, 822], dtype='int64'), '0000050213': Int64Index([80, 273, 278, 513, 825, 1603, 2139], dtype='int64'), '0000051036': Int64Index([24, 107, 1243], dtype='int64'), '0000051885': Int64Index([1377], dtype='int64'), '0000054552': Int64Index([904, 1034], dtype='int64'), '0000054627': Int64Index([1694], dtype='int64'), '0000055186': Int64Index([1484], dtype='int64'), '0000056041': Int64Index([206], dtype='int64'), '0000056545': Int64Index([579], dtype='int64'), '0000058120': Int64Index([120, 1513], dtype='int64'), '0000058953': Int64Index([188, 584, 654, 823, 1503, 1845], dtype='int64'), '0000059090': Int64Index([1032], dtype='int64'), '0000063083': Int64Index([877, 967, 2125, 2678, 2703], dtype='int64'), '0000068666': Int64Index([444, 1012, 1035, 2217, 2859], dtype='int64'), '0000070254': Int64Index([1439], dtype='int64'), '0000072744': Int64Index([681], dtype='int64'), '0000072957': Int64Index([43, 78], dtype='int64'), '0000076570': Int64Index([2461], dtype='int64'), '0000077505': Int64Index([2877, 2891], dtype='int64'), '0000082978': Int64Index([1121], dtype='int64'), '0000083519': Int64Index([69, 152, 353], dtype='int64'), '0000084070': Int64Index([8, 571, 775, 1206], dtype='int64'), '0000091462': Int64Index([988], dtype='int64'), '0000091464': Int64Index([89, 1002], dtype='int64'), '0000091777': Int64Index([1365], dtype='int64'), '0000093598': Int64Index([2348], dtype='int64'), '0000095415': Int64Index([553, 580, 593, 634, 1111, 1173], dtype='int64'), '0000096411': Int64Index([2851], dtype='int64'), '0000097126': Int64Index([891, 1364, 1425, 1888, 1946, 2206, 2353], dtype='int64'), '0000097744': Int64Index([2450], dtype='int64'), '0000100454': Int64Index([1297], dtype='int64'), '0000101019': Int64Index([1659, 2684], dtype='int64'), '0000101692': Int64Index([447], dtype='int64'), '0000102858': Int64Index([2118], dtype='int64'), '0000103171': Int64Index([40], dtype='int64'), '0000103432': Int64Index([1641, 1905, 2243], dtype='int64'), '0000107776': Int64Index([1576], dtype='int64'), '0000110349': Int64Index([2626], dtype='int64'), '0000111252': Int64Index([884], dtype='int64'), '0000115609': Int64Index([249], dtype='int64'), '0000116189': Int64Index([2497], dtype='int64'), '0000117088': Int64Index([311, 1361, 1498, 1903, 2004, 2005, 2074, 2142], dtype='int64'), '0000118393': Int64Index([1259, 1392, 2237], dtype='int64'), '0000118923': Int64Index([197], dtype='int64'), '0000118999': Int64Index([211], dtype='int64'), '0000119891': Int64Index([91, 151], dtype='int64'), '0000123095': Int64Index([60, 627], dtype='int64'), '0000123265': Int64Index([519], dtype='int64'), '0000123905': Int64Index([414, 507], dtype='int64'), '0000130208': Int64Index([1125], dtype='int64'), '0000131389': Int64Index([26], dtype='int64'), '0000132419': Int64Index([646, 2209, 2317, 2573, 2655, 2760], dtype='int64'), '0000133241': Int64Index([827], dtype='int64'), '0000136096': Int64Index([1701], dtype='int64'), '0000136782': Int64Index([5, 1824], dtype='int64'), '0000140045': Int64Index([1135], dtype='int64'), '0000140558': Int64Index([19, 75, 190, 215, 282, 493, 545, 633, 708, 912, 969, 1084], dtype='int64'), '0000140993': Int64Index([77, 1666, 2230, 2542, 2768, 2769, 2786], dtype='int64'), '0000141909': Int64Index([1234], dtype='int64'), '0000142114': Int64Index([2312, 2380, 2530, 2592], dtype='int64'), '0000142690': Int64Index([870], dtype='int64'), '0000143694': Int64Index([181], dtype='int64'), '0000144072': Int64Index([144], dtype='int64'), '0000144358': Int64Index([628, 830, 887, 942, 1341], dtype='int64'), '0000144557': Int64Index([1951], dtype='int64'), '0000145325': Int64Index([2569], dtype='int64'), '0000146109': Int64Index([1256, 2817], dtype='int64'), '0000147307': Int64Index([86, 589], dtype='int64'), '0000147482': Int64Index([410], dtype='int64'), '0000147749': Int64Index([48, 506, 2442], dtype='int64'), '0000148141': Int64Index([266], dtype='int64'), '0000148445': Int64Index([306], dtype='int64'), '0000150826': Int64Index([702], dtype='int64'), '0000154074': Int64Index([1468], dtype='int64'), '0000160540': Int64Index([330, 669, 2021], dtype='int64'), '0000161965': Int64Index([631, 977], dtype='int64'), '0000162218': Int64Index([1203, 1617, 1644, 2432, 2445, 2839], dtype='int64'), '0000163838': Int64Index([1042], dtype='int64'), '0000170603': Int64Index([644, 890, 1447, 1536, 1651, 1952, 2554], dtype='int64'), '0000174204': Int64Index([687], dtype='int64'), '0000176326': Int64Index([491, 816, 1139, 1255, 1556, 1977, 2225, 2235, 2336, 2514], dtype='int64'), '0000177572': Int64Index([1960], dtype='int64'), '0000182436': Int64Index([ 142,  251,  271,  498,  790, 1006, 1015, 1236, 1452, 1457, 1573,\n",
      "            1586, 1613, 1676, 1787, 1818, 1931, 2007, 2097, 2248, 2358, 2375,\n",
      "            2473, 2568],\n",
      "           dtype='int64'), '0000182734': Int64Index([397, 2876], dtype='int64'), '0000187592': Int64Index([962, 2683], dtype='int64'), '0000192371': Int64Index([221, 424, 2315], dtype='int64'), '0000194057': Int64Index([29], dtype='int64'), '0000203114': Int64Index([379], dtype='int64'), '0000232843': Int64Index([2869], dtype='int64'), '0000234740': Int64Index([169], dtype='int64'), '0000237506': Int64Index([1943], dtype='int64'), '0000238240': Int64Index([2186, 2213, 2219, 2259, 2826], dtype='int64'), '0000241926': Int64Index([201], dtype='int64'), '0000244505': Int64Index([253, 448, 568, 1456], dtype='int64'), '0000249004': Int64Index([1760, 2333, 2867], dtype='int64'), '0000250982': Int64Index([1557], dtype='int64'), '0000266239': Int64Index([515], dtype='int64'), '0000270665': Int64Index([876, 1318], dtype='int64'), '0000274364': Int64Index([1261], dtype='int64'), '0000278581': Int64Index([652], dtype='int64'), '0000280109': Int64Index([551], dtype='int64'), '0000282212': Int64Index([239, 1340, 2444], dtype='int64'), '0000283450': Int64Index([192], dtype='int64'), '0000293603': Int64Index([2675, 2712], dtype='int64'), '0000294050': Int64Index([2758], dtype='int64'), '0000297658': Int64Index([2224, 2559, 2861], dtype='int64'), '0000298025': Int64Index([778, 1941, 2721], dtype='int64'), '0000303415': Int64Index([27, 244], dtype='int64'), '0000312199': Int64Index([2464], dtype='int64'), '0000312683': Int64Index([1379], dtype='int64'), '0000315769': Int64Index([2204], dtype='int64'), '0000316279': Int64Index([23, 56, 187], dtype='int64'), '0000316779': Int64Index([692, 2295], dtype='int64'), '0000319257': Int64Index([1683], dtype='int64'), '0000323302': Int64Index([2253], dtype='int64'), '0000323969': Int64Index([247, 309, 369], dtype='int64'), '0000324166': Int64Index([811], dtype='int64'), '0000334021': Int64Index([575], dtype='int64'), '0000340014': Int64Index([234, 2234], dtype='int64'), '0000343454': Int64Index([1222], dtype='int64'), '0000344188': Int64Index([33], dtype='int64'), '0000344233': Int64Index([1937], dtype='int64'), '0000346557': Int64Index([334], dtype='int64'), '0000352350': Int64Index([935], dtype='int64'), '0000355138': Int64Index([352], dtype='int64'), '0000355266': Int64Index([716], dtype='int64'), '0000357726': Int64Index([105, 857, 1017], dtype='int64'), '0000360666': Int64Index([2143], dtype='int64'), '0000361549': Int64Index([1063], dtype='int64'), '0000361588': Int64Index([150], dtype='int64'), '0000365976': Int64Index([1372], dtype='int64'), '0000366315': Int64Index([1693, 1774, 2169, 2386], dtype='int64'), '0000366483': Int64Index([849, 1405], dtype='int64'), '0000366797': Int64Index([259, 300, 779], dtype='int64'), '0000367028': Int64Index([1118], dtype='int64'), '0000367142': Int64Index([367], dtype='int64'), '0000368352': Int64Index([2275], dtype='int64'), '0000371988': Int64Index([290], dtype='int64'), '0000374469': Int64Index([119, 292, 312, 416, 733, 846, 978, 1020, 1168, 1296, 1343, 1723,\n",
      "            2489],\n",
      "           dtype='int64'), '0000374983': Int64Index([896], dtype='int64'), '0000375159': Int64Index([2648], dtype='int64'), '0000375194': Int64Index([948], dtype='int64'), '0000377893': Int64Index([2058], dtype='int64'), '0000381742': Int64Index([2246], dtype='int64'), '0000382229': Int64Index([308], dtype='int64'), '0000385548': Int64Index([1544], dtype='int64'), '0000388640': Int64Index([1627], dtype='int64'), '0000389188': Int64Index([2711], dtype='int64'), '0000389408': Int64Index([673], dtype='int64'), '0000392631': Int64Index([2791], dtype='int64'), '0000393875': Int64Index([405], dtype='int64'), '0000395979': Int64Index([926, 1106], dtype='int64'), '0000399694': Int64Index([10, 724, 793, 855, 1094, 1212, 1339, 1523], dtype='int64'), '0000403049': Int64Index([1492], dtype='int64'), '0000403057': Int64Index([100, 600, 1344, 2117, 2426, 2741], dtype='int64'), '0000405469': Int64Index([2781], dtype='int64'), '0000405623': Int64Index([1526], dtype='int64'), '0000407282': Int64Index([548, 795, 1314, 1546, 1899, 2019, 2045], dtype='int64'), '0000409252': Int64Index([959], dtype='int64'), '0000413776': Int64Index([2322, 2645], dtype='int64'), '0000421710': Int64Index([608, 1582, 1629, 1642, 1978], dtype='int64'), '0000422729': Int64Index([2688], dtype='int64'), '0000429277': Int64Index([1783], dtype='int64'), '0000432606': Int64Index([762, 1019], dtype='int64'), '0000436444': Int64Index([2639], dtype='int64'), '0000438464': Int64Index([1130, 1501, 2071], dtype='int64'), '0000441343': Int64Index([2436], dtype='int64'), '0000447440': Int64Index([235], dtype='int64'), '0000448371': Int64Index([2016], dtype='int64'), '0000453591': Int64Index([54, 341, 482, 607], dtype='int64'), '0000454928': Int64Index([1839], dtype='int64'), '0000454966': Int64Index([1059], dtype='int64'), '0000455268': Int64Index([1496, 1630, 2745], dtype='int64'), '0000456016': Int64Index([231, 376, 1286], dtype='int64'), '0000458026': Int64Index([113, 590], dtype='int64'), '0000461415': Int64Index([2008], dtype='int64'), '0000462304': Int64Index([539, 1562, 1675, 1984], dtype='int64'), '0000462426': Int64Index([2101], dtype='int64'), '0000463992': Int64Index([291], dtype='int64'), '0000465186': Int64Index([1654, 1728, 2431], dtype='int64'), '0000466052': Int64Index([1334], dtype='int64'), '0000467474': Int64Index([1958, 2129, 2696, 2767], dtype='int64'), '0000468536': Int64Index([264, 2267], dtype='int64'), '0000468687': Int64Index([1614], dtype='int64'), '0000468764': Int64Index([2387], dtype='int64'), '0000469006': Int64Index([6], dtype='int64'), '0000473893': Int64Index([2363], dtype='int64'), '0000482622': Int64Index([481, 484, 486, 492, 547, 599, 758, 864, 1041, 1810, 2184, 2622], dtype='int64'), '0000487169': Int64Index([38, 59, 832, 1148], dtype='int64'), '0000491473': Int64Index([958], dtype='int64'), '0000494855': Int64Index([848], dtype='int64'), '0000496008': Int64Index([1976, 2133, 2178, 2287], dtype='int64'), '0000505596': Int64Index([866], dtype='int64'), '0000509011': Int64Index([203, 518], dtype='int64'), '0000515747': Int64Index([162, 526, 1149, 1681, 2054], dtype='int64'), '0000516709': Int64Index([25], dtype='int64'), '0000516727': Int64Index([597], dtype='int64'), '0000517373': Int64Index([47], dtype='int64'), '0000521966': Int64Index([1570], dtype='int64'), '0000522443': Int64Index([1229], dtype='int64'), '0000524299': Int64Index([618], dtype='int64'), '0000536008': Int64Index([2731], dtype='int64'), '0000538436': Int64Index([110, 178, 207, 327, 471, 552, 564, 655, 1024, 1551], dtype='int64'), '0000545965': Int64Index([ 103,  109,  138,  415,  533,  797,  810, 1142, 1291, 1680, 1710,\n",
      "            2041, 2252, 2307, 2612],\n",
      "           dtype='int64'), '0000547841': Int64Index([160, 747], dtype='int64'), '0000548361': Int64Index([1204, 1271, 1423, 1479, 1483], dtype='int64'), '0000552166': Int64Index([1945, 2137], dtype='int64'), '0000558169': Int64Index([350, 417], dtype='int64'), '0000559183': Int64Index([1213, 2730], dtype='int64'), '0000560262': Int64Index([1828], dtype='int64'), '0000562973': Int64Index([411], dtype='int64'), '0000568061': Int64Index([973], dtype='int64'), '0000571279': Int64Index([1955], dtype='int64'), '0000574609': Int64Index([0, 167], dtype='int64'), '0000577735': Int64Index([2847], dtype='int64'), '0000579738': Int64Index([44], dtype='int64'), '0000583997': Int64Index([1182], dtype='int64'), '0000585280': Int64Index([801], dtype='int64'), '0000589946': Int64Index([204, 569, 725, 1319], dtype='int64'), '0000590753': Int64Index([701], dtype='int64'), '0000590917': Int64Index([1146, 1417, 1646, 1672], dtype='int64'), '0000591364': Int64Index([262, 667, 1727], dtype='int64'), '0000591399': Int64Index([200, 777, 1535, 1649], dtype='int64'), '0000592389': Int64Index([2294, 2404], dtype='int64'), '0000594023': Int64Index([362, 549, 745], dtype='int64'), '0000594606': Int64Index([812], dtype='int64'), '0000594932': Int64Index([1065, 1577], dtype='int64'), '0000595087': Int64Index([1267, 1332, 1349, 1422, 1499, 1690, 1886], dtype='int64'), '0000595475': Int64Index([1126], dtype='int64'), '0000596817': Int64Index([1226, 2155], dtype='int64'), '0000597226': Int64Index([35, 321, 435, 713, 961], dtype='int64'), '0000598296': Int64Index([690], dtype='int64'), '0000598373': Int64Index([1426], dtype='int64'), '0000598858': Int64Index([736, 2478], dtype='int64'), '0000602290': Int64Index([2822, 2887], dtype='int64'), '0000603126': Int64Index([1470, 2032], dtype='int64'), '0000610694': Int64Index([345, 480, 751, 1926, 2759], dtype='int64'), '0000611933': Int64Index([1510], dtype='int64'), '0000612121': Int64Index([363, 509, 616, 938], dtype='int64'), '0000612438': Int64Index([1381], dtype='int64'), '0000614180': Int64Index([647, 1806, 2724], dtype='int64'), '0000617121': Int64Index([453], dtype='int64'), '0000617200': Int64Index([96, 685], dtype='int64'), '0000617260': Int64Index([423, 1475, 1726], dtype='int64'), '0000617847': Int64Index([343], dtype='int64'), '0000619909': Int64Index([1785, 1910, 2443], dtype='int64'), '0000620006': Int64Index([582], dtype='int64'), '0000620832': Int64Index([1329], dtype='int64'), '0000621008': Int64Index([1925], dtype='int64'), '0000625185': Int64Index([67], dtype='int64'), '0000628299': Int64Index([1070, 1313, 1605], dtype='int64'), '0000628966': Int64Index([2766], dtype='int64'), '0000630279': Int64Index([1113, 1868, 1947, 2065, 2227], dtype='int64'), '0000634348': Int64Index([140, 348], dtype='int64'), '0000636666': Int64Index([1436], dtype='int64'), '0000638321': Int64Index([2808], dtype='int64'), '0000640500': Int64Index([1210, 1354, 1441, 1548, 2006, 2110, 2271, 2302], dtype='int64'), '0000644196': Int64Index([2838], dtype='int64'), '0000648149': Int64Index([57], dtype='int64'), '0000649678': Int64Index([2372], dtype='int64'), '0000650370': Int64Index([295, 467, 540, 621, 645, 769, 1188, 1619], dtype='int64'), '0000651935': Int64Index([34], dtype='int64'), '0000652972': Int64Index([1351, 1911, 2398, 2414, 2553, 2664], dtype='int64'), '0000654353': Int64Index([1093], dtype='int64'), '0000655379': Int64Index([765, 1051], dtype='int64'), '0000655430': Int64Index([451], dtype='int64'), '0000656468': Int64Index([2756], dtype='int64'), '0000660827': Int64Index([30, 217, 2580], dtype='int64'), '0000664889': Int64Index([53, 555], dtype='int64'), '0000666197': Int64Index([303], dtype='int64'), '0000667257': Int64Index([166, 452, 868, 1348, 1871, 2588, 2818], dtype='int64'), '0000676687': Int64Index([695], dtype='int64'), '0000677139': Int64Index([1072], dtype='int64'), '0000678340': Int64Index([1739], dtype='int64'), '0000678719': Int64Index([2723], dtype='int64'), '0000681408': Int64Index([1754], dtype='int64'), '0000682427': Int64Index([412], dtype='int64'), '0000695424': Int64Index([2198], dtype='int64'), '0000695446': Int64Index([874, 2515], dtype='int64'), '0000696687': Int64Index([72, 698], dtype='int64'), '0000697266': Int64Index([51], dtype='int64'), '0000699475': Int64Index([1827], dtype='int64'), '0000702338': Int64Index([2571], dtype='int64'), '0000703820': Int64Index([2341, 2496], dtype='int64'), '0000706625': Int64Index([1645], dtype='int64'), '0000707127': Int64Index([2059], dtype='int64'), '0000707975': Int64Index([400, 880], dtype='int64'), '0000709617': Int64Index([853, 879, 1321], dtype='int64'), '0000711222': Int64Index([1777, 2823, 2860], dtype='int64'), '0000712452': Int64Index([622, 1196, 1572, 1859, 2488], dtype='int64'), '0000716760': Int64Index([399, 1071, 1119, 1151], dtype='int64'), '0000725221': Int64Index([182], dtype='int64'), '0000732168': Int64Index([755], dtype='int64'), '0000732468': Int64Index([464, 606], dtype='int64'), '0000734983': Int64Index([609, 1138], dtype='int64'), '0000737634': Int64Index([907], dtype='int64'), '0000737852': Int64Index([1721], dtype='int64'), '0000738535': Int64Index([88], dtype='int64'), '0000742487': Int64Index([1788], dtype='int64'), '0000744202': Int64Index([1607], dtype='int64'), '0000745328': Int64Index([349, 1345], dtype='int64'), '0000745653': Int64Index([12], dtype='int64'), '0000745890': Int64Index([133, 465], dtype='int64'), '0000746539': Int64Index([1478, 2108], dtype='int64'), '0000747700': Int64Index([41], dtype='int64'), '0000747891': Int64Index([2355], dtype='int64'), '0000748996': Int64Index([1033, 1822, 2122], dtype='int64'), '0000750490': Int64Index([972], dtype='int64'), '0000751133': Int64Index([1264], dtype='int64'), '0000751199': Int64Index([319], dtype='int64'), '0000752390': Int64Index([387, 1284], dtype='int64'), '0000753653': Int64Index([141, 610, 842, 1500, 1797], dtype='int64'), '0000755309': Int64Index([2150], dtype='int64'), '0000756416': Int64Index([1163], dtype='int64'), '0000757301': Int64Index([161], dtype='int64'), '0000757457': Int64Index([592], dtype='int64'), '0000759474': Int64Index([1248], dtype='int64'), '0000761460': Int64Index([449], dtype='int64'), '0000761462': Int64Index([222, 577, 712, 856], dtype='int64'), '0000763354': Int64Index([1068], dtype='int64'), '0000763611': Int64Index([85], dtype='int64'), '0000764804': Int64Index([2713], dtype='int64'), '0000765220': Int64Index([431], dtype='int64'), '0000765512': Int64Index([814], dtype='int64'), '0000766662': Int64Index([1027], dtype='int64'), '0000766802': Int64Index([1250], dtype='int64'), '0000767688': Int64Index([111], dtype='int64'), '0000769809': Int64Index([2783], dtype='int64'), '0000774244': Int64Index([1892], dtype='int64'), '0000776380': Int64Index([2536], dtype='int64'), '0000778241': Int64Index([1885], dtype='int64'), '0000778415': Int64Index([36, 2250], dtype='int64'), '0000778734': Int64Index([1738], dtype='int64'), '0000779323': Int64Index([1609, 2030, 2419, 2495], dtype='int64'), '0000780863': Int64Index([971], dtype='int64'), '0000781616': Int64Index([2301], dtype='int64'), '0000782615': Int64Index([742, 1597, 1604], dtype='int64'), '0000784128': Int64Index([601], dtype='int64'), '0000785326': Int64Index([195], dtype='int64'), '0000785971': Int64Index([131, 566], dtype='int64'), '0000789362': Int64Index([1201], dtype='int64'), '0000791303': Int64Index([130, 1446], dtype='int64'), '0000794634': Int64Index([39], dtype='int64'), '0000795327': Int64Index([1268, 2185, 2743], dtype='int64'), '0000798639': Int64Index([267], dtype='int64'), '0000802927': Int64Index([1176, 1410], dtype='int64'), '0000804651': Int64Index([375], dtype='int64'), '0000805023': Int64Index([403], dtype='int64'), '0000806438': Int64Index([992, 1265, 2183], dtype='int64'), '0000806958': Int64Index([504, 1973, 2084, 2699], dtype='int64'), '0000808738': Int64Index([963, 2221], dtype='int64'), '0000812489': Int64Index([1540], dtype='int64'), '0000813003': Int64Index([2338], dtype='int64'), '0000814263': Int64Index([2735], dtype='int64'), '0000817180': Int64Index([87], dtype='int64'), '0000817636': Int64Index([1008], dtype='int64'), '0000818157': Int64Index([37], dtype='int64'), '0000820018': Int64Index([1403], dtype='int64'), '0000820177': Int64Index([15, 368, 707], dtype='int64'), '0000820294': Int64Index([1467, 1809, 2103, 2200], dtype='int64'), '0000822000': Int64Index([1253], dtype='int64'), '0000826972': Int64Index([16], dtype='int64'), '0000832484': Int64Index([1047], dtype='int64'), '0000832512': Int64Index([443], dtype='int64'), '0000832522': Int64Index([1162], dtype='int64'), '0000832814': Int64Index([605], dtype='int64'), '0000834437': Int64Index([528, 1462], dtype='int64'), '0000836256': Int64Index([1957], dtype='int64'), '0000837880': Int64Index([2863], dtype='int64'), '0000839505': Int64Index([714], dtype='int64'), '0000840780': Int64Index([469], dtype='int64'), '0000841309': Int64Index([390], dtype='int64'), '0000841606': Int64Index([3], dtype='int64'), '0000845657': Int64Index([1152], dtype='int64'), '0000845814': Int64Index([485], dtype='int64'), '0000848566': Int64Index([1528], dtype='int64'), '0000848889': Int64Index([1445], dtype='int64'), '0000850008': Int64Index([2381], dtype='int64'), '0000850202': Int64Index([867, 910], dtype='int64'), '0000850329': Int64Index([224], dtype='int64'), '0000850651': Int64Index([804], dtype='int64'), '0000851268': Int64Index([236], dtype='int64'), '0000851352': Int64Index([1488], dtype='int64'), '0000851456': Int64Index([209], dtype='int64'), '0000851853': Int64Index([270], dtype='int64'), '0000851968': Int64Index([216], dtype='int64'), '0000852214': Int64Index([252], dtype='int64'), '0000852792': Int64Index([2154, 2706], dtype='int64'), '0000853200': Int64Index([320], dtype='int64'), '0000853225': Int64Index([358], dtype='int64'), '0000853778': Int64Index([336], dtype='int64'), '0000855107': Int64Index([623], dtype='int64'), '0000857692': Int64Index([2138], dtype='int64'), '0000857694': Int64Index([335, 1269, 2753], dtype='int64'), '0000863412': Int64Index([2828], dtype='int64'), '0000866843': Int64Index([238], dtype='int64'), '0000867157': Int64Index([205, 1075], dtype='int64'), '0000868879': Int64Index([440, 785, 999, 1232, 1310], dtype='int64'), '0000876852': Int64Index([1575], dtype='int64'), '0000877027': Int64Index([74], dtype='int64'), '0000877058': Int64Index([394, 740, 924], dtype='int64'), '0000878433': Int64Index([922, 1178], dtype='int64'), '0000878496': Int64Index([615], dtype='int64'), '0000880101': Int64Index([1719, 2023], dtype='int64'), '0000880676': Int64Index([344], dtype='int64'), '0000882147': Int64Index([2001], dtype='int64'), '0000882230': Int64Index([1515], dtype='int64'), '0000882476': Int64Index([2, 156, 748, 997], dtype='int64'), '0000883905': Int64Index([567], dtype='int64'), '0000884529': Int64Index([502], dtype='int64'), '0000884870': Int64Index([445, 1189], dtype='int64'), '0000886945': Int64Index([1837], dtype='int64'), '0000887141': Int64Index([543], dtype='int64'), '0000895081': Int64Index([901], dtype='int64'), '0000895907': Int64Index([1454], dtype='int64'), '0000896981': Int64Index([299, 354, 378], dtype='int64'), '0000900560': Int64Index([269, 1046], dtype='int64'), '0000900915': Int64Index([1880], dtype='int64'), '0000901691': Int64Index([257, 396], dtype='int64'), '0000901817': Int64Index([185, 310], dtype='int64'), '0000902060': Int64Index([114, 155, 337, 818, 821, 1050, 1193, 1300, 2892], dtype='int64'), '0000902245': Int64Index([1109], dtype='int64'), '0000902862': Int64Index([81], dtype='int64'), '0000902908': Int64Index([62, 258], dtype='int64'), '0000904622': Int64Index([173], dtype='int64'), '0000906345': Int64Index([1], dtype='int64'), '0000907809': Int64Index([1120], dtype='int64'), '0000909785': Int64Index([9], dtype='int64'), '0000910233': Int64Index([296], dtype='int64'), '0000912367': Int64Index([530, 767], dtype='int64'), '0000912369': Int64Index([2063], dtype='int64'), '0000912436': Int64Index([458, 1095], dtype='int64'), '0000912762': Int64Index([1399, 2650], dtype='int64'), '0000912806': Int64Index([313], dtype='int64'), '0000912925': Int64Index([1437], dtype='int64'), '0000913680': Int64Index([260], dtype='int64'), '0000914272': Int64Index([1813], dtype='int64'), '0000914393': Int64Index([356, 459], dtype='int64'), '0000917133': Int64Index([2516], dtype='int64'), '0000917565': Int64Index([1594], dtype='int64'), '0000917688': Int64Index([404], dtype='int64'), '0000917927': Int64Index([637, 860, 1590, 2389], dtype='int64'), '000166': Int64Index([2963], dtype='int64'), '000242': Int64Index([2889, 3026], dtype='int64'), '0008010424': Int64Index([1251], dtype='int64'), '0008010546': Int64Index([946, 1056], dtype='int64'), '0008012173': Int64Index([2632], dtype='int64'), '0008012914': Int64Index([98], dtype='int64'), '0008013352': Int64Index([218, 288], dtype='int64'), '0008015953': Int64Index([1995, 2524], dtype='int64'), '0008016929': Int64Index([520], dtype='int64'), '0008020950': Int64Index([1415, 1716, 2131], dtype='int64'), '002829': Int64Index([2957, 2987], dtype='int64'), '0080144665': Int64Index([1852], dtype='int64'), '0080152164': Int64Index([2024, 2882], dtype='int64'), '0080153287': Int64Index([2244, 2529], dtype='int64'), '0080153839': Int64Index([263, 2031], dtype='int64'), '0080155460': Int64Index([2388], dtype='int64'), '0080157080': Int64Index([1679], dtype='int64'), '0080159074': Int64Index([1209, 1817], dtype='int64'), '0080159682': Int64Index([2017, 2596], dtype='int64'), '0080163298': Int64Index([2523], dtype='int64'), '0080165588': Int64Index([213], dtype='int64'), '0080166063': Int64Index([466], dtype='int64'), '0080167688': Int64Index([1101], dtype='int64'), '0080172267': Int64Index([2255], dtype='int64'), '0080174772': Int64Index([1782, 2686], dtype='int64'), '0080175410': Int64Index([596], dtype='int64'), '0080178203': Int64Index([1228], dtype='int64'), '0080181217': Int64Index([900], dtype='int64'), '0080182060': Int64Index([2132, 2794], dtype='int64'), '0080183094': Int64Index([70], dtype='int64'), '0080183472': Int64Index([989], dtype='int64'), '0080184952': Int64Index([280, 1009], dtype='int64'), '0080186351': Int64Index([2782], dtype='int64'), '0080191468': Int64Index([561, 1330], dtype='int64'), '0080193394': Int64Index([248], dtype='int64'), '0080193950': Int64Index([143], dtype='int64'), '0080194887': Int64Index([2033], dtype='int64'), '0080196546': Int64Index([361, 1949], dtype='int64'), '0080196551': Int64Index([432, 763, 911, 1199, 1558], dtype='int64'), '0080199188': Int64Index([148, 1183, 1336, 1419], dtype='int64'), '0080201753': Int64Index([186], dtype='int64'), '0080201924': Int64Index([477], dtype='int64'), '0080204558': Int64Index([124, 198, 881, 920, 1186, 1653, 2428], dtype='int64'), '0080205195': Int64Index([99, 421, 704], dtype='int64'), '0080207459': Int64Index([324, 2201], dtype='int64'), '0080208927': Int64Index([588], dtype='int64'), '0080209085': Int64Index([331], dtype='int64'), '0080209177': Int64Index([754], dtype='int64'), '0080210032': Int64Index([13], dtype='int64'), '0080213637': Int64Index([542], dtype='int64'), '0080213699': Int64Index([4], dtype='int64'), '0080216132': Int64Index([603, 2042], dtype='int64'), '0080216298': Int64Index([936], dtype='int64'), '0080217340': Int64Index([328, 383, 2725], dtype='int64'), '0080217768': Int64Index([508], dtype='int64'), '0080220597': Int64Index([398], dtype='int64'), '0080223364': Int64Index([869], dtype='int64'), '0080229274': Int64Index([2449], dtype='int64'), '0080230789': Int64Index([1732], dtype='int64'), '0080231965': Int64Index([220, 268], dtype='int64'), '0080235853': Int64Index([1028, 1147], dtype='int64'), '0080238972': Int64Index([170, 230, 641, 1529, 1697, 1786, 2256, 2640], dtype='int64'), '0080239647': Int64Index([2121], dtype='int64'), '0080241399': Int64Index([970], dtype='int64'), '0080246028': Int64Index([1453, 1620, 2618, 2852], dtype='int64'), '0080248760': Int64Index([787], dtype='int64'), '0080251155': Int64Index([265, 817, 964], dtype='int64'), '0080251914': Int64Index([1044], dtype='int64'), '0080258610': Int64Index([759], dtype='int64'), '0080259300': Int64Index([196], dtype='int64'), '0080262340': Int64Index([1520], dtype='int64'), '0080263250': Int64Index([116, 1555], dtype='int64'), '0080264790': Int64Index([947], dtype='int64'), '0080265681': Int64Index([158, 434, 1086], dtype='int64'), '0080265952': Int64Index([1807], dtype='int64'), '0080266323': Int64Index([171, 476, 700, 1455], dtype='int64'), '0080267138': Int64Index([301, 326], dtype='int64'), '0080271563': Int64Index([49], dtype='int64'), '0080272227': Int64Index([442], dtype='int64'), '0080274079': Int64Index([2289], dtype='int64'), '0080274602': Int64Index([250, 347], dtype='int64'), '0080274790': Int64Index([183], dtype='int64'), '0080275963': Int64Index([94], dtype='int64'), '0080276675': Int64Index([1916], dtype='int64'), '0080277478': Int64Index([2707], dtype='int64'), '0080279292': Int64Index([1737], dtype='int64'), '0080280714': Int64Index([305], dtype='int64'), '0080284127': Int64Index([1677, 2551], dtype='int64'), '0080284196': Int64Index([104, 108, 276], dtype='int64'), '0080285221': Int64Index([495, 534], dtype='int64'), '0080286175': Int64Index([2093], dtype='int64'), '0080286256': Int64Index([2313], dtype='int64'), '0080289216': Int64Index([1233, 2584], dtype='int64'), '0080291676': Int64Index([21], dtype='int64'), '0080291941': Int64Index([32], dtype='int64'), '0080292880': Int64Index([42], dtype='int64'), '0080292936': Int64Index([52, 499], dtype='int64'), '0080293174': Int64Index([1223], dtype='int64'), '0080294111': Int64Index([14, 1076], dtype='int64'), '0080294647': Int64Index([50], dtype='int64'), '0080295564': Int64Index([165], dtype='int64'), '0080295668': Int64Index([562], dtype='int64'), '0080295934': Int64Index([254], dtype='int64'), '0080297139': Int64Index([7], dtype='int64'), '0080298295': Int64Index([95], dtype='int64'), '0080299246': Int64Index([106], dtype='int64'), '0080299554': Int64Index([92, 112], dtype='int64'), '0080300467': Int64Index([20, 177], dtype='int64'), '0080300479': Int64Index([1266, 1858, 2158], dtype='int64'), '0080301013': Int64Index([71], dtype='int64'), '0080301455': Int64Index([1585], dtype='int64'), '0080301755': Int64Index([2104], dtype='int64'), '0080303501': Int64Index([31, 718], dtype='int64'), '0080303935': Int64Index([55, 462], dtype='int64'), '0080304638': Int64Index([97, 123], dtype='int64'), '0080305140': Int64Index([101], dtype='int64'), '0080305542': Int64Index([753], dtype='int64'), '0080305623': Int64Index([194, 283, 1449, 1773, 2112, 2179, 2483, 2806, 2814, 2848], dtype='int64'), '0080305982': Int64Index([127, 212, 737, 861, 1058, 1325, 1404, 1983, 2048, 2299, 2439, 2481,\n",
      "            2667],\n",
      "           dtype='int64'), '0080306872': Int64Index([90], dtype='int64'), '0080306910': Int64Index([147], dtype='int64'), '0080308114': Int64Index([314], dtype='int64'), '0080309152': Int64Index([45], dtype='int64'), '0080309488': Int64Index([93], dtype='int64'), '0080310585': Int64Index([174], dtype='int64'), '0080311223': Int64Index([118], dtype='int64'), '0080311317': Int64Index([63, 1718], dtype='int64'), '0080311568': Int64Index([125, 2474], dtype='int64'), '0080311630': Int64Index([46], dtype='int64'), '0080311885': Int64Index([960], dtype='int64'), '0080312122': Int64Index([602, 2075], dtype='int64'), '0080312389': Int64Index([172], dtype='int64'), '0080313541': Int64Index([1656], dtype='int64'), '0080315476': Int64Index([145, 1863, 2049], dtype='int64'), '0080315525': Int64Index([83], dtype='int64'), '0080316795': Int64Index([115, 2175], dtype='int64'), '0080317379': Int64Index([537], dtype='int64'), '0080318350': Int64Index([82], dtype='int64'), '0080319338': Int64Index([128, 1524], dtype='int64'), '0080320180': Int64Index([66], dtype='int64'), '0080320325': Int64Index([149], dtype='int64'), '0080320410': Int64Index([2643], dtype='int64'), '0080320843': Int64Index([2862], dtype='int64'), '0080321139': Int64Index([153, 199, 208], dtype='int64'), '0080323145': Int64Index([146], dtype='int64'), '0080323390': Int64Index([65], dtype='int64'), '0080323833': Int64Index([64], dtype='int64'), '0080324092': Int64Index([58], dtype='int64'), '0080324595': Int64Index([73], dtype='int64'), '0080324693': Int64Index([139], dtype='int64'), '0080325064': Int64Index([132], dtype='int64'), '0080327590': Int64Index([135], dtype='int64'), '0080327710': Int64Index([1412], dtype='int64'), '0080328828': Int64Index([163], dtype='int64'), '0080328946': Int64Index([157], dtype='int64'), '0080329173': Int64Index([121, 126, 1409, 1877, 1929, 2258], dtype='int64'), '0080329518': Int64Index([136], dtype='int64'), '0080329811': Int64Index([1145], dtype='int64'), '0080330282': Int64Index([505], dtype='int64'), '0080330625': Int64Index([164], dtype='int64'), '0080330980': Int64Index([180], dtype='int64'), '0080331354': Int64Index([159], dtype='int64'), '0080331790': Int64Index([214], dtype='int64'), '0080332160': Int64Index([154], dtype='int64'), '0080332908': Int64Index([168], dtype='int64'), '0080333000': Int64Index([175], dtype='int64'), '0080333400': Int64Index([2695, 2807], dtype='int64'), '0080333482': Int64Index([134], dtype='int64'), '0080333859': Int64Index([117, 226, 406, 1089], dtype='int64'), '0080334034': Int64Index([1963], dtype='int64'), '0080334239': Int64Index([255], dtype='int64'), '0080335144': Int64Index([184], dtype='int64'), '0080335343': Int64Index([2599], dtype='int64'), '0080335358': Int64Index([176, 1270], dtype='int64'), '0080337153': Int64Index([137], dtype='int64'), '0080337155': Int64Index([241], dtype='int64'), '0080337843': Int64Index([981], dtype='int64'), '0080338333': Int64Index([227, 1258, 1350, 1391], dtype='int64'), '0080342680': Int64Index([229], dtype='int64'), '0080342901': Int64Index([179], dtype='int64'), '0080343401': Int64Index([279, 560], dtype='int64'), '0080344162': Int64Index([242, 302, 651, 941, 1668], dtype='int64'), '0080344458': Int64Index([735], dtype='int64'), '0080344769': Int64Index([287, 1224, 1634], dtype='int64'), '0080346095': Int64Index([286], dtype='int64'), '0080346257': Int64Index([2494], dtype='int64'), '0080346458': Int64Index([2689], dtype='int64'), '0080346932': Int64Index([189], dtype='int64'), '0080348255': Int64Index([219, 993], dtype='int64'), '0080348338': Int64Index([233], dtype='int64'), '0080349041': Int64Index([2448, 2631, 2772], dtype='int64'), '0080349583': Int64Index([193], dtype='int64'), '0080349961': Int64Index([297], dtype='int64'), '0080350163': Int64Index([245], dtype='int64'), '0080350995': Int64Index([237, 430, 574, 757, 929, 1090, 1281], dtype='int64'), '0080351351': Int64Index([202, 294, 538], dtype='int64'), '0080356871': Int64Index([749], dtype='int64'), '0080356925': Int64Index([1010], dtype='int64'), '0080357018': Int64Index([373], dtype='int64'), '0080357277': Int64Index([191], dtype='int64'), '0080357548': Int64Index([210], dtype='int64'), '0080358162': Int64Index([318], dtype='int64'), '0080359607': Int64Index([382, 2282], dtype='int64'), '0080361460': Int64Index([289], dtype='int64'), '0080362074': Int64Index([304], dtype='int64'), '0080362377': Int64Index([351], dtype='int64'), '0080362694': Int64Index([323], dtype='int64'), '0080362891': Int64Index([317], dtype='int64'), '0080363086': Int64Index([307], dtype='int64'), '0080364314': Int64Index([854], dtype='int64'), '0080364603': Int64Index([360], dtype='int64'), '0080364866': Int64Index([835, 1037, 1700, 1923, 2314, 2647], dtype='int64'), '0080366777': Int64Index([342], dtype='int64'), '0080367335': Int64Index([298, 463, 772], dtype='int64'), '0080367696': Int64Index([274, 371, 438], dtype='int64'), '0080369006': Int64Index([315], dtype='int64'), '0080369320': Int64Index([284], dtype='int64'), '0080369755': Int64Index([340], dtype='int64'), '0080369984': Int64Index([364], dtype='int64'), '0080370293': Int64Index([261, 285, 1355], dtype='int64'), '0080370624': Int64Index([1791], dtype='int64'), '0080371189': Int64Index([446], dtype='int64'), '0080373225': Int64Index([2565, 2875], dtype='int64'), '0080374750': Int64Index([322], dtype='int64'), '0080377369': Int64Index([2546], dtype='int64'), '0080377569': Int64Index([293], dtype='int64'), '0080379348': Int64Index([625], dtype='int64'), '0080379614': Int64Index([275], dtype='int64'), '0080379829': Int64Index([927, 1876], dtype='int64'), '0080381656': Int64Index([281], dtype='int64'), '0080383240': Int64Index([277], dtype='int64'), '0080383309': Int64Index([355], dtype='int64'), '0080385661': Int64Index([380], dtype='int64'), '0080386093': Int64Index([357], dtype='int64'), '0080386467': Int64Index([1628], dtype='int64'), '0080386752': Int64Index([836], dtype='int64'), '0080386906': Int64Index([1315, 1375, 1571], dtype='int64'), '0080389145': Int64Index([338], dtype='int64'), '0080389401': Int64Index([370], dtype='int64'), '0080391799': Int64Index([2232], dtype='int64'), '0080392565': Int64Index([372], dtype='int64'), '0080393290': Int64Index([413, 656], dtype='int64'), '0080393362': Int64Index([332, 422], dtype='int64'), '0080395478': Int64Index([339, 1413, 1695], dtype='int64'), '0080396228': Int64Index([828], dtype='int64'), '0080396893': Int64Index([905, 991], dtype='int64'), '0080398439': Int64Index([366], dtype='int64'), '0080398614': Int64Index([346, 909], dtype='int64'), '0080399006': Int64Index([611], dtype='int64'), '0080399778': Int64Index([475, 501], dtype='int64'), '0080399782': Int64Index([381], dtype='int64'), '0080401269': Int64Index([377], dtype='int64'), '0080402065': Int64Index([743], dtype='int64'), '0080402927': Int64Index([457], dtype='int64'), '0080403388': Int64Index([407], dtype='int64'), '0080406893': Int64Index([402], dtype='int64'), '0080407095': Int64Index([374], dtype='int64'), '0080410325': Int64Index([365, 761], dtype='int64'), '0080411360': Int64Index([384], dtype='int64'), '0080411439': Int64Index([1766, 1855], dtype='int64'), '0080413211': Int64Index([2484], dtype='int64'), '0080413544': Int64Index([418], dtype='int64'), '0080414606': Int64Index([392], dtype='int64'), '0080415019': Int64Index([401], dtype='int64'), '0080415083': Int64Index([1831, 2345], dtype='int64'), '0080415581': Int64Index([731], dtype='int64'), '0080416154': Int64Index([388], dtype='int64'), '0080417040': Int64Index([428], dtype='int64'), '0080417699': Int64Index([851], dtype='int64'), '0080417909': Int64Index([1030, 1237, 1363], dtype='int64'), '0080418052': Int64Index([419, 723], dtype='int64'), '0080418860': Int64Index([429], dtype='int64'), '0080418883': Int64Index([473], dtype='int64'), '0080419244': Int64Index([1770], dtype='int64'), '0080419860': Int64Index([427], dtype='int64'), '0080420451': Int64Index([389, 439], dtype='int64'), '0080420717': Int64Index([489], dtype='int64'), '0080422515': Int64Index([433], dtype='int64'), '0080422861': Int64Index([441], dtype='int64'), '0080423144': Int64Index([409], dtype='int64'), '0080423499': Int64Index([425, 2623], dtype='int64'), '0080425006': Int64Index([426], dtype='int64'), '0080425798': Int64Index([436], dtype='int64'), '0080426719': Int64Index([2102, 2413], dtype='int64'), '0080427285': Int64Index([653, 771, 950, 1272, 1444], dtype='int64'), '0080428447': Int64Index([391], dtype='int64'), '0080429751': Int64Index([711, 1491, 1648, 2327], dtype='int64'), '0080430246': Int64Index([385, 535, 684, 1927, 2120], dtype='int64'), '0080431009': Int64Index([386], dtype='int64'), '0080431313': Int64Index([573, 1091], dtype='int64'), '0080431886': Int64Index([490], dtype='int64'), '0080432510': Int64Index([1661], dtype='int64'), '0080433261': Int64Index([454], dtype='int64'), '0080434191': Int64Index([456], dtype='int64'), '0080434679': Int64Index([1850], dtype='int64'), '0080435373': Int64Index([796], dtype='int64'), '0080435692': Int64Index([523], dtype='int64'), '0080436541': Int64Index([496], dtype='int64'), '0080436837': Int64Index([460], dtype='int64'), '0080438406': Int64Index([468], dtype='int64'), '0080438893': Int64Index([450, 1298], dtype='int64'), '0080438897': Int64Index([494], dtype='int64'), '0080440062': Int64Index([470, 671, 676, 1016], dtype='int64'), '0080440896': Int64Index([455], dtype='int64'), '0080441272': Int64Index([478], dtype='int64'), '0080441323': Int64Index([461, 570], dtype='int64'), '0080442874': Int64Index([408], dtype='int64'), '0080444222': Int64Index([1647, 1829], dtype='int64'), '0080446876': Int64Index([541, 2113, 2465, 2717], dtype='int64'), '0080447294': Int64Index([1174], dtype='int64'), '0080449152': Int64Index([479], dtype='int64'), '0080449512': Int64Index([488, 516, 721, 768, 841, 1078, 1102, 1198, 1219, 1292, 2803], dtype='int64'), '0080449524': Int64Index([472], dtype='int64'), '0080452027': Int64Index([525], dtype='int64'), '0080452578': Int64Index([474], dtype='int64'), '0080453300': Int64Index([487], dtype='int64'), '0080455704': Int64Index([510], dtype='int64'), '0080456629': Int64Index([554], dtype='int64'), '0080458161': Int64Index([550], dtype='int64'), '0080458237': Int64Index([559], dtype='int64'), '0080458747': Int64Index([511], dtype='int64'), '0080458749': Int64Index([514], dtype='int64'), '0080460329': Int64Index([885, 937], dtype='int64'), '0080460830': Int64Index([619], dtype='int64'), '0080461524': Int64Index([512], dtype='int64'), '0080461550': Int64Index([483], dtype='int64'), '0080461784': Int64Index([544, 1069], dtype='int64'), '0080463448': Int64Index([503], dtype='int64'), '0080463649': Int64Index([598], dtype='int64'), '0080463689': Int64Index([558], dtype='int64'), '0080464019': Int64Index([604], dtype='int64'), '0080464036': Int64Index([500], dtype='int64'), '0080464201': Int64Index([536, 546, 1202, 1308, 1512, 1781, 1942, 1950, 1993, 2020], dtype='int64'), '0080464605': Int64Index([802], dtype='int64'), '0080465903': Int64Index([524], dtype='int64'), '0080467843': Int64Index([527], dtype='int64'), '0080468109': Int64Index([557], dtype='int64'), '0080468545': Int64Index([521], dtype='int64'), '0080469602': Int64Index([934, 1580], dtype='int64'), '0080469682': Int64Index([529], dtype='int64'), '0080470133': Int64Index([2850], dtype='int64'), '0080470393': Int64Index([556, 1132], dtype='int64'), '0080474443': Int64Index([586], dtype='int64'), '0080475254': Int64Index([531, 2055, 2100], dtype='int64'), '0080479345': Int64Index([532], dtype='int64'), '0080479782': Int64Index([614], dtype='int64'), '0080480051': Int64Index([587], dtype='int64'), '0080480472': Int64Index([591, 2038], dtype='int64'), '0080481533': Int64Index([612, 968], dtype='int64'), '0080482684': Int64Index([595], dtype='int64'), '0080484127': Int64Index([563], dtype='int64'), '0080484208': Int64Index([1303, 1705, 2392], dtype='int64'), '0080486629': Int64Index([1036], dtype='int64'), '0080486885': Int64Index([636, 648], dtype='int64'), '0080487984': Int64Index([624], dtype='int64'), '0080488690': Int64Index([664, 682], dtype='int64'), '0080489195': Int64Index([576], dtype='int64'), '0080489653': Int64Index([1671], dtype='int64'), '0080489678': Int64Index([594], dtype='int64'), '0080489684': Int64Index([694, 2220, 2649], dtype='int64'), '0080489905': Int64Index([578], dtype='int64'), '0080490765': Int64Index([715], dtype='int64'), '0080490936': Int64Index([585], dtype='int64'), '0080492419': Int64Index([613], dtype='int64'), '0080492711': Int64Index([1684], dtype='int64'), '0080493315': Int64Index([572], dtype='int64'), '0080493603': Int64Index([2189], dtype='int64'), '0080493961': Int64Index([629], dtype='int64'), '0080494008': Int64Index([729], dtype='int64'), '0080494427': Int64Index([2628, 2853], dtype='int64'), '0080495264': Int64Index([583], dtype='int64'), '0080495428': Int64Index([703], dtype='int64'), '0080495808': Int64Index([617], dtype='int64'), '0080496427': Int64Index([565], dtype='int64'), '0080496449': Int64Index([630, 2027, 2607], dtype='int64'), '0080498749': Int64Index([1920, 2266], dtype='int64'), '0080498797': Int64Index([2821], dtype='int64'), '0080499071': Int64Index([734], dtype='int64'), '0080499415': Int64Index([719], dtype='int64'), '0080499747': Int64Index([720], dtype='int64'), '0080502100': Int64Index([1711], dtype='int64'), '0080502157': Int64Index([706, 789, 1317], dtype='int64'), '0080502630': Int64Index([1708], dtype='int64'), '0080502647': Int64Index([705, 826], dtype='int64'), '0080503266': Int64Index([699], dtype='int64'), '0080503627': Int64Index([1067, 1406], dtype='int64'), '0080504077': Int64Index([709], dtype='int64'), '0080504512': Int64Index([722], dtype='int64'), '0080505733': Int64Index([746, 800], dtype='int64'), '0080505991': Int64Index([741], dtype='int64'), '0080506719': Int64Index([717], dtype='int64'), '0080508278': Int64Index([2525], dtype='int64'), '0080508372': Int64Index([788], dtype='int64'), '0080509035': Int64Index([998, 1477], dtype='int64'), '0080510303': Int64Index([726], dtype='int64'), '0080510676': Int64Index([738, 899], dtype='int64'), '0080511034': Int64Index([744], dtype='int64'), '0080511457': Int64Index([728], dtype='int64'), '0080511754': Int64Index([865], dtype='int64'), '0080511974': Int64Index([732], dtype='int64'), '0080513936': Int64Index([1218], dtype='int64'), '0080514410': Int64Index([739], dtype='int64'), '0080514656': Int64Index([658, 798], dtype='int64'), '0080515649': Int64Index([1981], dtype='int64'), '0080515930': Int64Index([1136], dtype='int64'), '0080516483': Int64Index([727], dtype='int64'), '0080516926': Int64Index([1287], dtype='int64'), '0080517382': Int64Index([650, 696, 1532, 1848], dtype='int64'), '0080518337': Int64Index([1190, 1333], dtype='int64'), '0080518854': Int64Index([955], dtype='int64'), '0080519206': Int64Index([782], dtype='int64'), '0080519293': Int64Index([987, 2379], dtype='int64'), '0080520256': Int64Index([2590], dtype='int64'), '0080520626': Int64Index([660], dtype='int64'), '0080520985': Int64Index([1636, 2651], dtype='int64'), '0080522466': Int64Index([1569], dtype='int64'), '0080522595': Int64Index([781], dtype='int64'), '0080522929': Int64Index([2170], dtype='int64'), '0080523352': Int64Index([661], dtype='int64'), '0080524529': Int64Index([1110, 2451], dtype='int64'), '0080524621': Int64Index([639], dtype='int64'), '0080524668': Int64Index([774, 1612], dtype='int64'), '0080524698': Int64Index([581], dtype='int64'), '0080524853': Int64Index([632, 1191, 1304, 1566], dtype='int64'), '0080525321': Int64Index([686], dtype='int64'), '0080525472': Int64Index([659], dtype='int64'), '0080527276': Int64Index([688], dtype='int64'), '0080527891': Int64Index([1873, 2511], dtype='int64'), '0080528867': Int64Index([672], dtype='int64'), '0080529576': Int64Index([674, 1165, 1474], dtype='int64'), '0080529886': Int64Index([1045], dtype='int64'), '0080531908': Int64Index([689], dtype='int64'), '0080532210': Int64Index([1747], dtype='int64'), '0080532308': Int64Index([850], dtype='int64'), '0080532342': Int64Index([678], dtype='int64'), '0080532563': Int64Index([683, 2539], dtype='int64'), '0080532761': Int64Index([1200], dtype='int64'), '0080534254': Int64Index([966], dtype='int64'), '0080534327': Int64Index([1040, 1750, 2067], dtype='int64'), '0080534971': Int64Index([1394], dtype='int64'), '0080538235': Int64Index([640], dtype='int64'), '0080538837': Int64Index([677], dtype='int64'), '0080539501': Int64Index([662], dtype='int64'), '0080539617': Int64Index([679], dtype='int64'), '0080539618': Int64Index([668], dtype='int64'), '0080541525': Int64Index([666], dtype='int64'), '0080541736': Int64Index([663], dtype='int64'), '0080541741': Int64Index([680], dtype='int64'), '0080542119': Int64Index([1023, 1137, 1140, 1490, 2012], dtype='int64'), '0080542404': Int64Index([2761], dtype='int64'), '0080542705': Int64Index([691, 1328], dtype='int64'), '0080542999': Int64Index([824, 1073, 1522, 1966], dtype='int64'), '0080543511': Int64Index([843], dtype='int64'), '0080543915': Int64Index([665], dtype='int64'), '0080545249': Int64Index([675], dtype='int64'), '0080545500': Int64Index([840], dtype='int64'), '0080545818': Int64Index([638], dtype='int64'), '0080546189': Int64Index([1424, 2002], dtype='int64'), '0080546843': Int64Index([852, 915, 940, 1112, 1123, 1533, 1759], dtype='int64'), '0080547882': Int64Index([859, 1924, 2210], dtype='int64'), '0080549845': Int64Index([815], dtype='int64'), '0080550804': Int64Index([833], dtype='int64'), '0080551551': Int64Index([1327], dtype='int64'), '0080551634': Int64Index([642], dtype='int64'), '0080552519': Int64Index([773, 829, 1208], dtype='int64'), '0080552996': Int64Index([839, 1841], dtype='int64'), '0080553069': Int64Index([750], dtype='int64'), '0080554527': Int64Index([643, 2780], dtype='int64'), '0080554650': Int64Index([863], dtype='int64'), '0080554764': Int64Index([657], dtype='int64'), '0080555173': Int64Index([847], dtype='int64'), '0080556671': Int64Index([820], dtype='int64'), '0080557577': Int64Index([819], dtype='int64'), '0080558012': Int64Index([806], dtype='int64'), '0080558339': Int64Index([805], dtype='int64'), '0080558678': Int64Index([809], dtype='int64'), '0080559028': Int64Index([2167], dtype='int64'), '0080559259': Int64Index([858, 2635], dtype='int64'), '0080559318': Int64Index([834, 1025, 1048], dtype='int64'), '0080560229': Int64Index([845], dtype='int64'), '0080562274': Int64Index([838], dtype='int64'), '0080562540': Int64Index([925], dtype='int64'), '0080564018': Int64Index([813], dtype='int64'), '0080564109': Int64Index([1401, 1729], dtype='int64'), '0080564908': Int64Index([2197], dtype='int64'), '0080564996': Int64Index([903], dtype='int64'), '0080565384': Int64Index([808], dtype='int64'), '0080565814': Int64Index([792], dtype='int64'), '0080565991': Int64Index([1074], dtype='int64'), '0080566912': Int64Index([939], dtype='int64'), '0080568760': Int64Index([786, 1039], dtype='int64'), '0080568817': Int64Index([1789], dtype='int64'), '0080568850': Int64Index([986], dtype='int64'), '0080570233': Int64Index([883], dtype='int64'), '0080570298': Int64Index([794, 1211], dtype='int64'), '0080570725': Int64Index([1509, 1674, 1881], dtype='int64'), '0080571100': Int64Index([831], dtype='int64'), '0080571448': Int64Index([791, 873, 1155, 1320, 1382, 1734, 1832, 2304], dtype='int64'), '0080572460': Int64Index([2368], dtype='int64'), '0080572794': Int64Index([1385, 1435, 1494], dtype='int64'), '0080572911': Int64Index([957], dtype='int64'), '0080573302': Int64Index([954], dtype='int64'), '0080573933': Int64Index([2831], dtype='int64'), '0080574547': Int64Index([878], dtype='int64'), '0080575583': Int64Index([1735], dtype='int64'), '0080576933': Int64Index([770], dtype='int64'), '0080577009': Int64Index([943, 1257, 1633], dtype='int64'), '0080577114': Int64Index([975, 1713], dtype='int64'), '0080577621': Int64Index([902, 1043], dtype='int64'), '0080578349': Int64Index([807, 1450], dtype='int64'), '0080579105': Int64Index([1897], dtype='int64'), '0080580191': Int64Index([2182], dtype='int64'), '0080581081': Int64Index([893, 976], dtype='int64'), '0080581372': Int64Index([1427, 1592], dtype='int64'), '0080581607': Int64Index([780], dtype='int64'), '0080582227': Int64Index([756], dtype='int64'), '0080582598': Int64Index([945], dtype='int64'), '0080582626': Int64Index([1599], dtype='int64'), '0080582673': Int64Index([799], dtype='int64'), '0080585536': Int64Index([2377], dtype='int64'), '0080586559': Int64Index([783], dtype='int64'), '0080587363': Int64Index([980], dtype='int64'), '0080587390': Int64Index([974], dtype='int64'), '0080587560': Int64Index([956], dtype='int64'), '0080587987': Int64Index([951], dtype='int64'), '0080588334': Int64Index([766], dtype='int64'), '0080588882': Int64Index([982, 1172], dtype='int64'), '0080590092': Int64Index([990], dtype='int64'), '0080591067': Int64Index([983], dtype='int64'), '0080593066': Int64Index([949], dtype='int64'), '0080594235': Int64Index([764], dtype='int64'), '0080594484': Int64Index([837], dtype='int64'), '0080595008': Int64Index([952], dtype='int64'), '0080595150': Int64Index([916], dtype='int64'), '0080597750': Int64Index([889], dtype='int64'), '0080597773': Int64Index([1811], dtype='int64'), '0080598688': Int64Index([953], dtype='int64'), '0080599456': Int64Index([752, 1274], dtype='int64'), '0080599573': Int64Index([965], dtype='int64'), '0080599852': Int64Index([776], dtype='int64'), '0080601118': Int64Index([898], dtype='int64'), '0080602530': Int64Index([1724], dtype='int64'), '0080604270': Int64Index([1565, 2111, 2268], dtype='int64'), '0080604615': Int64Index([1370], dtype='int64'), '0080610066': Int64Index([1099], dtype='int64'), '0080611298': Int64Index([760], dtype='int64'), '0080611299': Int64Index([1157], dtype='int64'), '0080611501': Int64Index([1169, 1742], dtype='int64'), '0080611596': Int64Index([1156], dtype='int64'), '0080611743': Int64Index([1080], dtype='int64'), '0080611875': Int64Index([921, 1085], dtype='int64'), '0080613014': Int64Index([928], dtype='int64'), '0080615043': Int64Index([2418], dtype='int64'), '0080615536': Int64Index([1083, 1225], dtype='int64'), '0080616426': Int64Index([1060, 1062], dtype='int64'), '0080618236': Int64Index([2670], dtype='int64'), '0080620165': Int64Index([1053], dtype='int64'), '0080620994': Int64Index([1096], dtype='int64'), '0080621839': Int64Index([1049], dtype='int64'), '0080622618': Int64Index([932], dtype='int64'), '0080622820': Int64Index([888], dtype='int64'), '0080625203': Int64Index([2254], dtype='int64'), '0080626247': Int64Index([882], dtype='int64'), '0080626903': Int64Index([1103], dtype='int64'), '0080626947': Int64Index([1013], dtype='int64'), '0080627044': Int64Index([2096], dtype='int64'), '0080627896': Int64Index([1105], dtype='int64'), '0080628074': Int64Index([1061], dtype='int64'), '0080628385': Int64Index([895], dtype='int64'), '0080628415': Int64Index([1273], dtype='int64'), '0080629379': Int64Index([784, 2357], dtype='int64'), '0080629682': Int64Index([1581], dtype='int64'), '0080631648': Int64Index([931], dtype='int64'), '0080631672': Int64Index([984], dtype='int64'), '0080632235': Int64Index([1082], dtype='int64'), '0080632567': Int64Index([919], dtype='int64'), '0080633962': Int64Index([1660, 2625], dtype='int64'), '0080634886': Int64Index([933], dtype='int64'), '0080635314': Int64Index([923], dtype='int64'), '0080637383': Int64Index([1079], dtype='int64'), '0080637723': Int64Index([1054], dtype='int64'), '0080637833': Int64Index([985, 2397], dtype='int64'), '0080640883': Int64Index([2665], dtype='int64'), '0080641497': Int64Index([1097], dtype='int64'), '0080643058': Int64Index([1696], dtype='int64'), '0080643744': Int64Index([1323], dtype='int64'), '0080643973': Int64Index([944], dtype='int64'), '0080644638': Int64Index([1004], dtype='int64'), '0080645178': Int64Index([1066], dtype='int64'), '0080645425': Int64Index([1052, 1260], dtype='int64'), '0080645898': Int64Index([917], dtype='int64'), '0080647493': Int64Index([1088], dtype='int64'), '0080647684': Int64Index([1005], dtype='int64'), '0080648475': Int64Index([1077], dtype='int64'), '0080649001': Int64Index([1001], dtype='int64'), '0080649218': Int64Index([1021], dtype='int64'), '0080650716': Int64Index([892, 914], dtype='int64'), '0080653377': Int64Index([1216, 1371], dtype='int64'), '0080654067': Int64Index([2492], dtype='int64'), '0080659003': Int64Index([2066, 2144], dtype='int64'), '0080659575': Int64Index([2003], dtype='int64'), '0080661865': Int64Index([1231], dtype='int64'), '0080662653': Int64Index([1473, 1749], dtype='int64'), '0080662906': Int64Index([1184, 1505, 1688, 2264, 2308], dtype='int64'), '0080663808': Int64Index([1276], dtype='int64'), '0080665301': Int64Index([996], dtype='int64'), '0080666184': Int64Index([918], dtype='int64'), '0080668646': Int64Index([2834], dtype='int64'), '0080668684': Int64Index([871], dtype='int64'), '0080669129': Int64Index([908], dtype='int64'), '0080669467': Int64Index([1552], dtype='int64'), '0080669794': Int64Index([995], dtype='int64'), '0080671285': Int64Index([1011], dtype='int64'), '0080671517': Int64Index([1131, 1230], dtype='int64'), '0080671715': Int64Index([897], dtype='int64'), '0080672760': Int64Index([906], dtype='int64'), '0080673312': Int64Index([1018, 1481], dtype='int64'), '0080673798': Int64Index([979, 1421], dtype='int64'), '0080674424': Int64Index([913], dtype='int64'), '0080675462': Int64Index([1022], dtype='int64'), '0080676952': Int64Index([872], dtype='int64'), '0080677252': Int64Index([930], dtype='int64'), '0080677486': Int64Index([2873], dtype='int64'), '0080677800': Int64Index([2260], dtype='int64'), '0080678461': Int64Index([1221], dtype='int64'), '0080678662': Int64Index([894], dtype='int64'), '0080679256': Int64Index([875], dtype='int64'), '0080679680': Int64Index([1154], dtype='int64'), '0080680828': Int64Index([1356, 2242], dtype='int64'), '0080681981': Int64Index([1164, 1560], dtype='int64'), '0080682224': Int64Index([1305, 1402, 1461, 2077], dtype='int64'), '0080684698': Int64Index([2888], dtype='int64'), '0080685700': Int64Index([1117], dtype='int64'), '0080686312': Int64Index([1180], dtype='int64'), '0080686314': Int64Index([2425], dtype='int64'), '0080686948': Int64Index([1882], dtype='int64'), '0080688938': Int64Index([2293], dtype='int64'), '0080689048': Int64Index([1177], dtype='int64'), '0080689149': Int64Index([1448], dtype='int64'), '0080689493': Int64Index([1107], dtype='int64'), '0080689982': Int64Index([1373, 2394], dtype='int64'), '0080691628': Int64Index([1302, 2755], dtype='int64'), '0080694519': Int64Index([1311, 1378], dtype='int64'), '0080694520': Int64Index([1026], dtype='int64'), '0080695678': Int64Index([1567], dtype='int64'), '0080696859': Int64Index([1358], dtype='int64'), '0080696889': Int64Index([1220], dtype='int64'), '0080697999': Int64Index([1301, 2226], dtype='int64'), '0080699104': Int64Index([1352], dtype='int64'), '0080700840': Int64Index([1285], dtype='int64'), '0080700886': Int64Index([2868], dtype='int64'), '0080701066': Int64Index([1289], dtype='int64'), '0080701302': Int64Index([1346, 1591], dtype='int64'), '0080701548': Int64Index([1244], dtype='int64'), '0080701660': Int64Index([1055], dtype='int64'), '0080702213': Int64Index([1280, 1282, 1438, 1440, 1489, 1720, 1743], dtype='int64'), '0080702797': Int64Index([2190, 2297], dtype='int64'), '0080703404': Int64Index([1324, 1342], dtype='int64'), '0080704484': Int64Index([1160, 1397, 2051, 2595], dtype='int64'), '0080705119': Int64Index([1299], dtype='int64'), '0080705577': Int64Index([1197], dtype='int64'), '0080706508': Int64Index([1362], dtype='int64'), '0080707323': Int64Index([1194], dtype='int64'), '0080708039': Int64Index([1235], dtype='int64'), '0080708860': Int64Index([1007, 2810], dtype='int64'), '0080709245': Int64Index([1171], dtype='int64'), '0080710909': Int64Index([1596, 1625], dtype='int64'), '0080711006': Int64Index([1464], dtype='int64'), '0080711587': Int64Index([1554], dtype='int64'), '0080711950': Int64Index([1312], dtype='int64'), '0080712204': Int64Index([1347], dtype='int64'), '0080712606': Int64Index([1000, 1322], dtype='int64'), '0080712977': Int64Index([1306, 1997], dtype='int64'), '0080713003': Int64Index([1487], dtype='int64'), '0080713542': Int64Index([1433], dtype='int64'), '0080714138': Int64Index([1288], dtype='int64'), '0080715007': Int64Index([1241], dtype='int64'), '0080716411': Int64Index([1652], dtype='int64'), '0080717397': Int64Index([1538], dtype='int64'), '0080718257': Int64Index([1295], dtype='int64'), '0080718649': Int64Index([1247], dtype='int64'), '0080719858': Int64Index([1366], dtype='int64'), '0080720102': Int64Index([1374], dtype='int64'), '0080721042': Int64Index([1353], dtype='int64'), '0080721518': Int64Index([1290], dtype='int64'), '0080722160': Int64Index([1263], dtype='int64'), '0080722789': Int64Index([1384], dtype='int64'), '0080724083': Int64Index([1598], dtype='int64'), '0080725181': Int64Index([1217, 2273], dtype='int64'), '0080725432': Int64Index([1309], dtype='int64'), '0080726175': Int64Index([2172, 2771], dtype='int64'), '0080726989': Int64Index([1460], dtype='int64'), '0080727336': Int64Index([1465], dtype='int64'), '0080727586': Int64Index([1279], dtype='int64'), '0080728204': Int64Index([1400], dtype='int64'), '0080728346': Int64Index([1463], dtype='int64'), '0080729238': Int64Index([1115], dtype='int64'), '0080729829': Int64Index([1108], dtype='int64'), '0080731863': Int64Index([1124], dtype='int64'), '0080733560': Int64Index([1031, 1368, 2018], dtype='int64'), '0080734499': Int64Index([1195, 1968, 2330], dtype='int64'), '0080736464': Int64Index([1915], dtype='int64'), '0080736520': Int64Index([1865], dtype='int64'), '0080736547': Int64Index([1862], dtype='int64'), '0080736873': Int64Index([1294], dtype='int64'), '0080738389': Int64Index([1192], dtype='int64'), '0080739509': Int64Index([1246], dtype='int64'), '0080739586': Int64Index([1278], dtype='int64'), '0080739640': Int64Index([2378], dtype='int64'), '0080739833': Int64Index([1396], dtype='int64'), '0080741478': Int64Index([1442, 1518, 1779, 2047, 2589], dtype='int64'), '0080742634': Int64Index([1360], dtype='int64'), '0080744412': Int64Index([1383], dtype='int64'), '0080744808': Int64Index([1143], dtype='int64'), '0080745085': Int64Index([1104], dtype='int64'), '0080745337': Int64Index([1982], dtype='int64'), '0080745942': Int64Index([1242], dtype='int64'), '0080747264': Int64Index([1367], dtype='int64'), '0080747728': Int64Index([1393], dtype='int64'), '0080747921': Int64Index([1595], dtype='int64'), '0080748324': Int64Index([1175], dtype='int64'), '0080749216': Int64Index([1185, 1563, 1622], dtype='int64'), '0080749390': Int64Index([2617], dtype='int64'), '0080749484': Int64Index([1428, 2091, 2429], dtype='int64'), '0080749581': Int64Index([994], dtype='int64'), '0080751335': Int64Index([1214], dtype='int64'), '0080752036': Int64Index([1207], dtype='int64'), '0080752646': Int64Index([1167], dtype='int64'), '0080753513': Int64Index([1179], dtype='int64'), '0080753618': Int64Index([1338], dtype='int64'), '0080754923': Int64Index([1388], dtype='int64'), '0080754992': Int64Index([1521], dtype='int64'), '0080755114': Int64Index([1161], dtype='int64'), '0080756677': Int64Index([1158], dtype='int64'), '0080757675': Int64Index([1740], dtype='int64'), '0080757917': Int64Index([1057], dtype='int64'), '0080758277': Int64Index([1114], dtype='int64'), '0080758834': Int64Index([2053], dtype='int64'), '0080759719': Int64Index([1277], dtype='int64'), '0080760843': Int64Index([2633], dtype='int64'), '0080760965': Int64Index([1669], dtype='int64'), '0080761180': Int64Index([1486, 2740], dtype='int64'), '0080761358': Int64Index([1663], dtype='int64'), '0080762244': Int64Index([1153], dtype='int64'), '0080762836': Int64Index([1275, 2837], dtype='int64'), '0080762872': Int64Index([1293, 1476], dtype='int64'), '0080763179': Int64Index([1519], dtype='int64'), '0080763303': Int64Index([1459], dtype='int64'), '0080763509': Int64Index([1238], dtype='int64'), '0080763566': Int64Index([1249], dtype='int64'), '0080764978': Int64Index([1600], dtype='int64'), '0080765646': Int64Index([1502], dtype='int64'), '0080766873': Int64Index([2087, 2212, 2531], dtype='int64'), '0080767819': Int64Index([1380, 2790], dtype='int64'), '0080768015': Int64Index([1029, 1116], dtype='int64'), '0080768259': Int64Index([2657], dtype='int64'), '0080768375': Int64Index([1369], dtype='int64'), '0080769943': Int64Index([1227], dtype='int64'), '0080770048': Int64Index([1883, 2329], dtype='int64'), '0080770196': Int64Index([1316], dtype='int64'), '0080770987': Int64Index([1254, 1702], dtype='int64'), '0080771372': Int64Index([1602], dtype='int64'), '0080772767': Int64Index([1252], dtype='int64'), '0080772809': Int64Index([1181, 1283], dtype='int64'), '0080774729': Int64Index([1420], dtype='int64'), '0080775005': Int64Index([1127, 1128], dtype='int64'), '0080775548': Int64Index([1239], dtype='int64'), '0080776769': Int64Index([1159], dtype='int64'), '0080779765': Int64Index([1480], dtype='int64'), '0080781871': Int64Index([1337], dtype='int64'), '0080782313': Int64Index([2318], dtype='int64'), '0080782763': Int64Index([1482], dtype='int64'), '0080784934': Int64Index([1092], dtype='int64'), '0080786254': Int64Index([1601], dtype='int64'), '0080786877': Int64Index([1376], dtype='int64'), '0080787873': Int64Index([1357, 1472, 1664, 1821], dtype='int64'), '0080788469': Int64Index([2421], dtype='int64'), '0080792572': Int64Index([2825], dtype='int64'), '0080793763': Int64Index([1469], dtype='int64'), '0080794005': Int64Index([2257], dtype='int64'), '0080796020': Int64Index([1014], dtype='int64'), '0080796111': Int64Index([1559], dtype='int64'), '0080797141': Int64Index([1418], dtype='int64'), '0080797934': Int64Index([1389], dtype='int64'), '0080797987': Int64Index([1466], dtype='int64'), '0080800377': Int64Index([1895], dtype='int64'), '0080801536': Int64Index([1307, 2343], dtype='int64'), '0080801773': Int64Index([1122], dtype='int64'), '0080803341': Int64Index([1098], dtype='int64'), '0080804295': Int64Index([1144, 1205], dtype='int64'), '0080807214': Int64Index([1335], dtype='int64'), '0080807499': Int64Index([1587], dtype='int64'), '0080807743': Int64Index([1081], dtype='int64'), '0080808909': Int64Index([1331], dtype='int64'), '0080810500': Int64Index([1359], dtype='int64'), '0080811743': Int64Index([1495, 1553, 1800], dtype='int64'), '0080811841': Int64Index([1514], dtype='int64'), '0080812318': Int64Index([2373], dtype='int64'), '0080812413': Int64Index([1395], dtype='int64'), '0080812518': Int64Index([1434], dtype='int64'), '0080813559': Int64Index([1141], dtype='int64'), '0080813881': Int64Index([1129], dtype='int64'), '0080814212': Int64Index([1262], dtype='int64'), '0080814776': Int64Index([1561, 2188], dtype='int64'), '0080814779': Int64Index([1408], dtype='int64'), '0080815440': Int64Index([1623, 1667], dtype='int64'), '0080816645': Int64Index([1170], dtype='int64'), '0080817619': Int64Index([1451], dtype='int64'), '0080819545': Int64Index([1240], dtype='int64'), '0080820084': Int64Index([1215], dtype='int64'), '0080821785': Int64Index([1166], dtype='int64'), '0080824051': Int64Index([2587], dtype='int64'), '0080824851': Int64Index([1574], dtype='int64'), '0080826323': Int64Index([1640], dtype='int64'), '0080826886': Int64Index([1655], dtype='int64'), '0080827627': Int64Index([1429], dtype='int64'), '0080828124': Int64Index([1386], dtype='int64'), '0080832614': Int64Index([1531], dtype='int64'), '0080833511': Int64Index([2663], dtype='int64'), '0080833749': Int64Index([1493], dtype='int64'), '0080834514': Int64Index([2832], dtype='int64'), '0080836393': Int64Index([1432, 2309], dtype='int64'), '0080837696': Int64Index([1407], dtype='int64'), '0080839557': Int64Index([1790], dtype='int64'), '0080840125': Int64Index([1618], dtype='int64'), '0080841267': Int64Index([1579], dtype='int64'), '0080842407': Int64Index([1398], dtype='int64'), '0080843946': Int64Index([1764], dtype='int64'), '0080845061': Int64Index([1485], dtype='int64'), '0080845377': Int64Index([1511], dtype='int64'), '0080846750': Int64Index([1706], dtype='int64'), '0080848673': Int64Index([1430, 1517, 2236], dtype='int64'), '0080849845': Int64Index([2157], dtype='int64'), '0080850335': Int64Index([2653], dtype='int64'), '0080851114': Int64Index([1543], dtype='int64'), '0080851427': Int64Index([1530], dtype='int64'), '0080852622': Int64Index([1541], dtype='int64'), '0080853194': Int64Index([1542, 1803], dtype='int64'), '0080854458': Int64Index([1550], dtype='int64'), '0080856173': Int64Index([1516, 2166], dtype='int64'), '0080856970': Int64Index([1658, 2073], dtype='int64'), '0080857896': Int64Index([1712], dtype='int64'), '0080858357': Int64Index([1534], dtype='int64'), '0080858466': Int64Index([1497], dtype='int64'), '0080861224': Int64Index([1431], dtype='int64'), '0080861526': Int64Index([1416], dtype='int64'), '0080862319': Int64Index([1506], dtype='int64'), '0080862790': Int64Index([1537], dtype='int64'), '0080863336': Int64Index([1626, 1709], dtype='int64'), '0080863384': Int64Index([1589, 1878], dtype='int64'), '0080863930': Int64Index([1525], dtype='int64'), '0080864699': Int64Index([1588, 1765, 1971, 2326, 2393, 2519, 2552], dtype='int64'), '0080865328': Int64Index([1662], dtype='int64'), '0080865499': Int64Index([2493], dtype='int64'), '0080865538': Int64Index([1657], dtype='int64'), '0080865664': Int64Index([1578], dtype='int64'), '0080868427': Int64Index([1757], dtype='int64'), '0080869887': Int64Index([1717], dtype='int64'), '0080870106': Int64Index([2088], dtype='int64'), '0080870686': Int64Index([2127], dtype='int64'), '0080870911': Int64Index([1508], dtype='int64'), '0080870973': Int64Index([1584], dtype='int64'), '0080872085': Int64Index([2784], dtype='int64'), '0080876581': Int64Index([1635, 1919], dtype='int64'), '0080876805': Int64Index([1643], dtype='int64'), '0080878333': Int64Index([1414], dtype='int64'), '0080878352': Int64Index([2323], dtype='int64'), '0080878617': Int64Index([1545], dtype='int64'), '0080878782': Int64Index([1507], dtype='int64'), '0080878990': Int64Index([1736], dtype='int64'), '0080881329': Int64Index([2276], dtype='int64'), '0080881477': Int64Index([1961, 1991, 2009], dtype='int64'), '0080882490': Int64Index([1547], dtype='int64'), '0080883051': Int64Index([1539], dtype='int64'), '0080883310': Int64Index([1504], dtype='int64'), '0080883470': Int64Index([1390, 1894], dtype='int64'), '0080884953': Int64Index([1842], dtype='int64'), '0080885864': Int64Index([1665], dtype='int64'), '0080886743': Int64Index([1564], dtype='int64'), '0080888017': Int64Index([1730, 1744], dtype='int64'), '0080889418': Int64Index([1714], dtype='int64'), '0080890407': Int64Index([1836], dtype='int64'), '0080892748': Int64Index([1830], dtype='int64'), '0080893079': Int64Index([1794], dtype='int64'), '0080895083': Int64Index([1753], dtype='int64'), '0080895268': Int64Index([1856], dtype='int64'), '0080896640': Int64Index([1804], dtype='int64'), '0080896947': Int64Index([1748], dtype='int64'), '0080896959': Int64Index([1722], dtype='int64'), '0080898176': Int64Index([1741], dtype='int64'), '0080899076': Int64Index([1703], dtype='int64'), '0080899191': Int64Index([1761], dtype='int64'), '0080899459': Int64Index([1778], dtype='int64'), '0080899685': Int64Index([2356], dtype='int64'), '0080899736': Int64Index([1891], dtype='int64'), '0080899759': Int64Index([1751], dtype='int64'), '0080899826': Int64Index([2849], dtype='int64'), '0080900459': Int64Index([1799], dtype='int64'), '0080901358': Int64Index([1784], dtype='int64'), '0080902771': Int64Index([1685], dtype='int64'), '0080903255': Int64Index([2652], dtype='int64'), '0080903391': Int64Index([1819], dtype='int64'), '0080903667': Int64Index([1624], dtype='int64'), '0080904757': Int64Index([1610], dtype='int64'), '0080905413': Int64Index([1650], dtype='int64'), '0080907452': Int64Index([1768], dtype='int64'), '0080908924': Int64Index([1771], dtype='int64'), '0080909072': Int64Index([1745], dtype='int64'), '0080909257': Int64Index([1917], dtype='int64'), '0080909333': Int64Index([1616, 1847], dtype='int64'), '0080909437': Int64Index([1698], dtype='int64'), '0080910187': Int64Index([1801, 1851], dtype='int64'), '0080911018': Int64Index([1689], dtype='int64'), '0080913068': Int64Index([1731], dtype='int64'), '0080913360': Int64Index([1762, 2086, 2229, 2247], dtype='int64'), '0080913406': Int64Index([1699, 2490], dtype='int64'), '0080913437': Int64Index([1834], dtype='int64'), '0080913910': Int64Index([1898, 2082, 2463], dtype='int64'), '0080914662': Int64Index([1606], dtype='int64'), '0080914807': Int64Index([2727, 2733], dtype='int64'), '0080915564': Int64Index([1808], dtype='int64'), '0080915743': Int64Index([1815], dtype='int64'), '0080916099': Int64Index([1772], dtype='int64'), '0080916494': Int64Index([1816], dtype='int64'), '0080916746': Int64Index([2594], dtype='int64'), '0080917779': Int64Index([1637], dtype='int64'), '0080917845': Int64Index([1835], dtype='int64'), '0080918624': Int64Index([1989], dtype='int64'), '0080919598': Int64Index([1849], dtype='int64'), '0080920054': Int64Index([1793], dtype='int64'), '0080921040': Int64Index([1796], dtype='int64'), '0080921362': Int64Index([1692], dtype='int64'), '0080921659': Int64Index([1869, 2476, 2512], dtype='int64'), '0080921997': Int64Index([1907], dtype='int64'), '0080922207': Int64Index([1638], dtype='int64'), '0080922521': Int64Index([1775], dtype='int64'), '0080922959': Int64Index([1823], dtype='int64'), '0080924025': Int64Index([1673], dtype='int64'), '0080924402': Int64Index([1621], dtype='int64'), '0080924625': Int64Index([1812], dtype='int64'), '0080925799': Int64Index([1798], dtype='int64'), '0080926072': Int64Index([2056], dtype='int64'), '0080926242': Int64Index([1776], dtype='int64'), '0080926811': Int64Index([1802], dtype='int64'), '0080926909': Int64Index([1639], dtype='int64'), '0080927325': Int64Index([1611], dtype='int64'), '0080928363': Int64Index([2339], dtype='int64'), '0080928636': Int64Index([2482], dtype='int64'), '0080931782': Int64Index([1814], dtype='int64'), '0080932137': Int64Index([1918], dtype='int64'), '0080932532': Int64Index([1678, 1846], dtype='int64'), '0080933085': Int64Index([1826, 2364, 2796], dtype='int64'), '0080934025': Int64Index([2627], dtype='int64'), '0080936728': Int64Index([1853], dtype='int64'), '0080936889': Int64Index([1687], dtype='int64'), '0080937377': Int64Index([1631], dtype='int64'), '0080937548': Int64Index([1682], dtype='int64'), '0080938323': Int64Index([2350, 2420, 2504, 2561], dtype='int64'), '0080939037': Int64Index([1632], dtype='int64'), '0080940121': Int64Index([1900], dtype='int64'), '0080941346': Int64Index([1769], dtype='int64'), '0080941390': Int64Index([1767], dtype='int64'), '0080941756': Int64Index([1805], dtype='int64'), '0080945363': Int64Index([1844], dtype='int64'), '0080946279': Int64Index([1608], dtype='int64'), '0080946481': Int64Index([1707], dtype='int64'), '0080946758': Int64Index([1792], dtype='int64'), '0080947650': Int64Index([2507], dtype='int64'), '0080948224': Int64Index([1733], dtype='int64'), '0080951101': Int64Index([1936], dtype='int64'), '0080951369': Int64Index([1715, 1914, 2076, 2367, 2477, 2550, 2669], dtype='int64'), '0080953681': Int64Index([2789], dtype='int64'), '0080954334': Int64Index([1913], dtype='int64'), '0080954889': Int64Index([1906], dtype='int64'), '0080955189': Int64Index([1670], dtype='int64'), '0080955561': Int64Index([1755], dtype='int64'), '0080956642': Int64Index([1756], dtype='int64'), '0080957877': Int64Index([1746], dtype='int64'), '0080958417': Int64Index([1752], dtype='int64'), '0080959146': Int64Index([1820], dtype='int64'), '0080959253': Int64Index([1758], dtype='int64'), '0080959558': Int64Index([1890], dtype='int64'), '0080960036': Int64Index([2034], dtype='int64'), '0080960543': Int64Index([1838], dtype='int64'), '0080961666': Int64Index([2401], dtype='int64'), '0080962643': Int64Index([1704], dtype='int64'), '0080962962': Int64Index([1944], dtype='int64'), '0080962974': Int64Index([1864], dtype='int64'), '0080964980': Int64Index([2249], dtype='int64'), '0080965011': Int64Index([2427], dtype='int64'), '0080968047': Int64Index([1954], dtype='int64'), '0080968104': Int64Index([1857], dtype='int64'), '0080969175': Int64Index([1615], dtype='int64'), '0080972333': Int64Index([1866], dtype='int64'), '0080972864': Int64Index([2013], dtype='int64'), '0080973146': Int64Index([1889], dtype='int64'), '0080973191': Int64Index([2238], dtype='int64'), '0080973387': Int64Index([1940, 2310, 2337, 2506], dtype='int64'), '0080974154': Int64Index([1959], dtype='int64'), '0080975335': Int64Index([1763], dtype='int64'), '0080976264': Int64Index([1870], dtype='int64'), '0080976268': Int64Index([1988], dtype='int64'), '0080977190': Int64Index([2306], dtype='int64'), '0080977842': Int64Index([2035], dtype='int64'), '0080978694': Int64Index([2014], dtype='int64'), '0080980190': Int64Index([2040], dtype='int64'), '0080980737': Int64Index([1933], dtype='int64'), '0080984365': Int64Index([1964], dtype='int64'), '0080985119': Int64Index([2000], dtype='int64'), '0080985142': Int64Index([1874], dtype='int64'), '0080985203': Int64Index([2710], dtype='int64'), '0080985442': Int64Index([1998], dtype='int64'), '0080985510': Int64Index([2611, 2629], dtype='int64'), '0080987241': Int64Index([1965, 1996, 2547, 2813], dtype='int64'), '0080987977': Int64Index([1843], dtype='int64'), '0080988764': Int64Index([1956, 2044], dtype='int64'), '0080988778': Int64Index([1932], dtype='int64'), '0080989479': Int64Index([2795], dtype='int64'), '0080989654': Int64Index([1930, 2036, 2119, 2836], dtype='int64'), '0080991564': Int64Index([1987], dtype='int64'), '0080992135': Int64Index([2026], dtype='int64'), '0080993347': Int64Index([2095], dtype='int64'), '0080993786': Int64Index([1861], dtype='int64'), '0080993928': Int64Index([1860, 2280], dtype='int64'), '0080994388': Int64Index([1986], dtype='int64'), '0080994885': Int64Index([2462], dtype='int64'), '0080995055': Int64Index([2061], dtype='int64'), '0080995152': Int64Index([1969], dtype='int64'), '0080996607': Int64Index([1854], dtype='int64'), '0080999882': Int64Index([1979], dtype='int64'), '0080999939': Int64Index([2039, 2454], dtype='int64'), '0081000069': Int64Index([1928], dtype='int64'), '0081000728': Int64Index([1825], dtype='int64'), '0081001206': Int64Index([2540], dtype='int64'), '0081001708': Int64Index([1994, 2214], dtype='int64'), '0081001825': Int64Index([1872], dtype='int64'), '0081002178': Int64Index([1948], dtype='int64'), '0081002497': Int64Index([1999], dtype='int64'), '0081004427': Int64Index([2046], dtype='int64'), '0081007825': Int64Index([1962, 2153], dtype='int64'), '0081008288': Int64Index([2015], dtype='int64'), '0081009851': Int64Index([1875], dtype='int64'), '0081012499': Int64Index([2517], dtype='int64'), '0081012936': Int64Index([1970], dtype='int64'), '0081012957': Int64Index([1879], dtype='int64'), '0081013383': Int64Index([1867], dtype='int64'), '0081013872': Int64Index([2022, 2083, 2171, 2283, 2324, 2344, 2382, 2475, 2654], dtype='int64'), '0081013962': Int64Index([1992, 2037, 2099], dtype='int64'), '0081014964': Int64Index([2708], dtype='int64'), '0081016197': Int64Index([1921], dtype='int64'), '0081016292': Int64Index([1934], dtype='int64'), '0081016381': Int64Index([1893, 2502], dtype='int64'), '0081016396': Int64Index([1908], dtype='int64'), '0081017082': Int64Index([1896], dtype='int64'), '0081017162': Int64Index([1887, 1985], dtype='int64'), '0081017517': Int64Index([1939, 1980], dtype='int64'), '0081017867': Int64Index([1840], dtype='int64'), '0081018427': Int64Index([1912], dtype='int64'), '0081021332': Int64Index([2011], dtype='int64'), '0081021407': Int64Index([2106], dtype='int64'), '0081021676': Int64Index([2147], dtype='int64'), '0081022325': Int64Index([1935], dtype='int64'), '0081024203': Int64Index([2025], dtype='int64'), '0081024421': Int64Index([2159], dtype='int64'), '0081024634': Int64Index([2698], dtype='int64'), '0081025265': Int64Index([2010], dtype='int64'), '0081026015': Int64Index([2098], dtype='int64'), '0081028036': Int64Index([1909], dtype='int64'), '0081028229': Int64Index([2123, 2408], dtype='int64'), '0081030376': Int64Index([1938], dtype='int64'), '0081030730': Int64Index([2092], dtype='int64'), '0081030868': Int64Index([2089], dtype='int64'), '0081031556': Int64Index([2149], dtype='int64'), '0081034116': Int64Index([2057], dtype='int64'), '0081035627': Int64Index([2029, 2215, 2263], dtype='int64'), '0081038632': Int64Index([2415], dtype='int64'), '0081039476': Int64Index([2105], dtype='int64'), '0081039655': Int64Index([1975], dtype='int64'), '0081039664': Int64Index([1974], dtype='int64'), '0081040250': Int64Index([1967], dtype='int64'), '0081040431': Int64Index([2070], dtype='int64'), '0081042124': Int64Index([2107], dtype='int64'), '0081042755': Int64Index([2646], dtype='int64'), '0081044503': Int64Index([2109], dtype='int64'), '0081044619': Int64Index([2052], dtype='int64'), '0081046037': Int64Index([1953], dtype='int64'), '0081046693': Int64Index([1972], dtype='int64'), '0081047384': Int64Index([2028], dtype='int64'), '0081047825': Int64Index([1902], dtype='int64'), '0081048090': Int64Index([1904], dtype='int64'), '0081048450': Int64Index([1990], dtype='int64'), '0081052387': Int64Index([2146, 2196], dtype='int64'), '0081053357': Int64Index([2216], dtype='int64'), '0081053498': Int64Index([2126], dtype='int64'), '0081054780': Int64Index([2222, 2286], dtype='int64'), '0081056369': Int64Index([2160, 2218], dtype='int64'), '0081057116': Int64Index([2130], dtype='int64'), '0081058228': Int64Index([2116], dtype='int64'), '0081059053': Int64Index([2135], dtype='int64'), '0081061502': Int64Index([2697], dtype='int64'), '0081061731': Int64Index([2241], dtype='int64'), '0081063308': Int64Index([2251], dtype='int64'), '0081066328': Int64Index([2265], dtype='int64'), '0081066893': Int64Index([2233], dtype='int64'), '0081067996': Int64Index([2151], dtype='int64'), '0081068247': Int64Index([2114, 2833], dtype='int64'), '0081068933': Int64Index([2124], dtype='int64'), '0081068990': Int64Index([2136], dtype='int64'), '0081070183': Int64Index([2434], dtype='int64'), '0081070655': Int64Index([2134], dtype='int64'), '0081070675': Int64Index([2145, 2369], dtype='int64'), '0081070962': Int64Index([2156], dtype='int64'), '0081071664': Int64Index([2165], dtype='int64'), '0081072489': Int64Index([2228], dtype='int64'), '0081073103': Int64Index([2202], dtype='int64'), '0081073207': Int64Index([2152], dtype='int64'), '0081073733': Int64Index([2459, 2460, 2797], dtype='int64'), '0081075668': Int64Index([2148], dtype='int64'), '0081076416': Int64Index([2319, 2456], dtype='int64'), '0081077335': Int64Index([2359], dtype='int64'), '0081078382': Int64Index([2472], dtype='int64'), '0081078695': Int64Index([2195], dtype='int64'), '0081078967': Int64Index([2290], dtype='int64'), '0081079945': Int64Index([2062], dtype='int64'), '0081080353': Int64Index([2168], dtype='int64'), '0081081359': Int64Index([2331, 2470, 2576], dtype='int64'), '0081082332': Int64Index([2194], dtype='int64'), '0081082860': Int64Index([2385], dtype='int64'), '0081083476': Int64Index([2193], dtype='int64'), '0081085442': Int64Index([2231, 2239, 2543, 2578], dtype='int64'), '0081086710': Int64Index([2261], dtype='int64'), '0081087166': Int64Index([2180, 2608], dtype='int64'), '0081090148': Int64Index([2527], dtype='int64'), '0081090242': Int64Index([2141], dtype='int64'), '0081090870': Int64Index([2208], dtype='int64'), '0081091127': Int64Index([2211], dtype='int64'), '0081092760': Int64Index([2840], dtype='int64'), '0081093095': Int64Index([2203], dtype='int64'), '0081093106': Int64Index([2830], dtype='int64'), '0081095449': Int64Index([2471], dtype='int64'), '0081095492': Int64Index([2298], dtype='int64'), '0081096091': Int64Index([2094, 2354, 2362], dtype='int64'), '0081096387': Int64Index([2349], dtype='int64'), '0081096491': Int64Index([2223], dtype='int64'), '0081096718': Int64Index([2162], dtype='int64'), '0081097592': Int64Index([2207], dtype='int64'), '0081097729': Int64Index([2291], dtype='int64'), '0081099336': Int64Index([2744], dtype='int64'), '0081099557': Int64Index([2262], dtype='int64'), '0081100502': Int64Index([2068], dtype='int64'), '0081101084': Int64Index([2078], dtype='int64'), '0081102109': Int64Index([2347], dtype='int64'), '0081102576': Int64Index([2072, 2334, 2804], dtype='int64'), '0081102898': Int64Index([2080], dtype='int64'), '0081104751': Int64Index([2270], dtype='int64'), '0081105763': Int64Index([2245, 2366, 2384, 2668], dtype='int64'), '0081106614': Int64Index([2064], dtype='int64'), '0081108217': Int64Index([2192], dtype='int64'), '0081112432': Int64Index([2659], dtype='int64'), '0081112546': Int64Index([2374], dtype='int64'), '0081113141': Int64Index([2405], dtype='int64'), '0081113687': Int64Index([2498, 2844], dtype='int64'), '0081113942': Int64Index([2090], dtype='int64'), '0081115745': Int64Index([2069, 2163, 2452], dtype='int64'), '0081116164': Int64Index([2566], dtype='int64'), '0081116231': Int64Index([2284], dtype='int64'), '0081118961': Int64Index([2240], dtype='int64'), '0081119048': Int64Index([2296], dtype='int64'), '0081119495': Int64Index([2205], dtype='int64'), '0081120288': Int64Index([2351], dtype='int64'), '0081122102': Int64Index([2409], dtype='int64'), '0081122631': Int64Index([2303], dtype='int64'), '0081123005': Int64Index([2079], dtype='int64'), '0081123922': Int64Index([2548], dtype='int64'), '0081123988': Int64Index([2177], dtype='int64'), '0081127952': Int64Index([2376], dtype='int64'), '0081128757': Int64Index([2292], dtype='int64'), '0081128781': Int64Index([2466], dtype='int64'), '0081131822': Int64Index([2591], dtype='int64'), '0081132060': Int64Index([2085, 2325], dtype='int64'), '0081133218': Int64Index([2199], dtype='int64'), '0081133533': Int64Index([2422], dtype='int64'), '0081135167': Int64Index([2732], dtype='int64'), '0081136081': Int64Index([2173], dtype='int64'), '0081136129': Int64Index([2396], dtype='int64'), '0081137057': Int64Index([2437], dtype='int64'), '0081137257': Int64Index([2174], dtype='int64'), '0081137306': Int64Index([2081], dtype='int64'), '0081137448': Int64Index([2700], dtype='int64'), '0081137562': Int64Index([2128], dtype='int64'), '0081138495': Int64Index([2269], dtype='int64'), '0081140202': Int64Index([2361], dtype='int64'), '0081140413': Int64Index([2140], dtype='int64'), '0081140643': Int64Index([2346], dtype='int64'), '0081141218': Int64Index([2340], dtype='int64'), '0081141892': Int64Index([2181], dtype='int64'), '0081145348': Int64Index([2365], dtype='int64'), '0081146240': Int64Index([2277], dtype='int64'), '0081147763': Int64Index([2161, 2320, 2342], dtype='int64'), '0081148402': Int64Index([2187], dtype='int64'), '0081149521': Int64Index([2416, 2779, 2878], dtype='int64'), '0081150896': Int64Index([2402], dtype='int64'), '0081151178': Int64Index([2305], dtype='int64'), '0081151269': Int64Index([2715], dtype='int64'), '0081151383': Int64Index([2278], dtype='int64'), '0081155547': Int64Index([2636], dtype='int64'), '0081156171': Int64Index([2606], dtype='int64'), '0081156454': Int64Index([2279], dtype='int64'), '0081157403': Int64Index([2274], dtype='int64'), '0081158089': Int64Index([2285], dtype='int64'), '0081158673': Int64Index([2288], dtype='int64'), '0081159094': Int64Index([2272], dtype='int64'), '0081159302': Int64Index([2328], dtype='int64'), '0081159551': Int64Index([2311], dtype='int64'), '0081159801': Int64Index([2701], dtype='int64'), '0081160000': Int64Index([2281], dtype='int64'), '0081160442': Int64Index([2352], dtype='int64'), '0081162593': Int64Index([2300], dtype='int64'), '0081163831': Int64Index([2321], dtype='int64'), '0081165675': Int64Index([2469], dtype='int64'), '0081167509': Int64Index([2570], dtype='int64'), '0081168121': Int64Index([2410, 2718], dtype='int64'), '0081168230': Int64Index([2446], dtype='int64'), '0081168763': Int64Index([2457], dtype='int64'), '0081170287': Int64Index([2630], dtype='int64'), '0081173600': Int64Index([2164], dtype='int64'), '0081174560': Int64Index([2467], dtype='int64'), '0081176180': Int64Index([2583], dtype='int64'), '0081179828': Int64Index([2453, 2567], dtype='int64'), '0081181446': Int64Index([2522], dtype='int64'), '0081181944': Int64Index([2564], dtype='int64'), '0081182006': Int64Index([2441], dtype='int64'), '0081182139': Int64Index([2610], dtype='int64'), '0081183946': Int64Index([2557], dtype='int64'), '0081184305': Int64Index([2544], dtype='int64'), '0081185261': Int64Index([2505], dtype='int64'), '0081185651': Int64Index([2391], dtype='int64'), '0081185702': Int64Index([2503], dtype='int64'), '0081185977': Int64Index([2435], dtype='int64'), '0081186092': Int64Index([2855], dtype='int64'), '0081188164': Int64Index([2538], dtype='int64'), '0081189067': Int64Index([2572], dtype='int64'), '0081189369': Int64Index([2412], dtype='int64'), '0081190801': Int64Index([2455, 2577, 2582], dtype='int64'), '0081194166': Int64Index([2407], dtype='int64'), '0081194437': Int64Index([2335], dtype='int64'), '0081196865': Int64Index([2560], dtype='int64'), '0081198399': Int64Index([2395], dtype='int64'), '0081199145': Int64Index([2400], dtype='int64'), '0081199374': Int64Index([2558], dtype='int64'), '0081199702': Int64Index([2485], dtype='int64'), '0081200151': Int64Index([2656], dtype='int64'), '0081200676': Int64Index([2586], dtype='int64'), '0081200725': Int64Index([2545], dtype='int64'), '0081201270': Int64Index([2430], dtype='int64'), '0081201601': Int64Index([2433], dtype='int64'), '0081203339': Int64Index([2479], dtype='int64'), '0081203410': Int64Index([2411], dtype='int64'), '0081205003': Int64Index([2360], dtype='int64'), '0081207825': Int64Index([2541], dtype='int64'), '0081208166': Int64Index([2871], dtype='int64'), '0081209034': Int64Index([2556], dtype='int64'), '0081210224': Int64Index([2513], dtype='int64'), '0081210810': Int64Index([2555], dtype='int64'), '0081210957': Int64Index([2491], dtype='int64'), '0081211075': Int64Index([2406], dtype='int64'), '0081211655': Int64Index([2509], dtype='int64'), '0081212288': Int64Index([2598], dtype='int64'), '0081214996': Int64Index([2480], dtype='int64'), '0081216770': Int64Index([2440], dtype='int64'), '0081217233': Int64Index([2383], dtype='int64'), '0081217328': Int64Index([2535], dtype='int64'), '0081217939': Int64Index([2520], dtype='int64'), '0081218717': Int64Index([2719], dtype='int64'), '0081219616': Int64Index([2680], dtype='int64'), '0081221421': Int64Index([2508], dtype='int64'), '0081221585': Int64Index([2417], dtype='int64'), '0081221926': Int64Index([2597], dtype='int64'), '0081222832': Int64Index([2562], dtype='int64'), '0081223673': Int64Index([2593], dtype='int64'), '0081224233': Int64Index([2526], dtype='int64'), '0081224484': Int64Index([2447, 2615], dtype='int64'), '0081228036': Int64Index([2399], dtype='int64'), '0081229402': Int64Index([2370, 2702], dtype='int64'), '0081229964': Int64Index([2637, 2679], dtype='int64'), '0081230567': Int64Index([2581], dtype='int64'), '0081231077': Int64Index([2500], dtype='int64'), '0081231936': Int64Index([2613, 2638], dtype='int64'), '0081231970': Int64Index([2634], dtype='int64'), '0081232127': Int64Index([2486], dtype='int64'), '0081232544': Int64Index([2510], dtype='int64'), '0081232640': Int64Index([2537], dtype='int64'), '0081232751': Int64Index([2661], dtype='int64'), '0081233194': Int64Index([2674], dtype='int64'), '0081233202': Int64Index([2747], dtype='int64'), '0081235237': Int64Index([2662], dtype='int64'), '0081235357': Int64Index([2666], dtype='int64'), '0081235972': Int64Index([2619], dtype='int64'), '0081239029': Int64Index([2533], dtype='int64'), '0081240040': Int64Index([2579], dtype='int64'), '0081241086': Int64Index([2714, 2793], dtype='int64'), '0081241731': Int64Index([2621], dtype='int64'), '0081246842': Int64Index([2609], dtype='int64'), '0081247040': Int64Index([2739], dtype='int64'), '0081247819': Int64Index([2620], dtype='int64'), '0081249005': Int64Index([2642], dtype='int64'), '0081251559': Int64Index([2549], dtype='int64'), '0081252515': Int64Index([2726], dtype='int64'), '0081252848': Int64Index([2614], dtype='int64'), '0081253407': Int64Index([2603], dtype='int64'), '0081253925': Int64Index([2644], dtype='int64'), '0081254235': Int64Index([2616], dtype='int64'), '0081255374': Int64Index([2438], dtype='int64'), '0081255851': Int64Index([2694], dtype='int64'), '0081258227': Int64Index([2532], dtype='int64'), '0081258421': Int64Index([2501], dtype='int64'), '0081258922': Int64Index([2605], dtype='int64'), '0081259475': Int64Index([2687], dtype='int64'), '0081260102': Int64Index([2824], dtype='int64'), '0081260281': Int64Index([2468], dtype='int64'), '0081261914': Int64Index([2423], dtype='int64'), '0081262260': Int64Index([2487], dtype='int64'), '0081262270': Int64Index([2499], dtype='int64'), '0081264412': Int64Index([2604], dtype='int64'), '0081264756': Int64Index([2574], dtype='int64'), '0081265015': Int64Index([2600, 2624], dtype='int64'), '0081265062': Int64Index([2872], dtype='int64'), '0081265768': Int64Index([2521], dtype='int64'), '0081265853': Int64Index([2575], dtype='int64'), '0081268766': Int64Index([2518], dtype='int64'), '0081269400': Int64Index([2682], dtype='int64'), '0081271502': Int64Index([2690], dtype='int64'), '0081271943': Int64Index([2681], dtype='int64'), '0081272293': Int64Index([2728], dtype='int64'), '0081273374': Int64Index([2676], dtype='int64'), '0081274070': Int64Index([2685], dtype='int64'), '0081274164': Int64Index([2563], dtype='int64'), '0081274732': Int64Index([2846], dtype='int64'), '0081275048': Int64Index([2641], dtype='int64'), '0081275925': Int64Index([2602], dtype='int64'), '0081276316': Int64Index([2845], dtype='int64'), '0081276661': Int64Index([2672], dtype='int64'), '0081277386': Int64Index([2842], dtype='int64'), '0081278479': Int64Index([2843], dtype='int64'), '0081279917': Int64Index([2835], dtype='int64'), '0081281031': Int64Index([2716], dtype='int64'), '0081281246': Int64Index([2802], dtype='int64'), '0081281408': Int64Index([2841], dtype='int64'), '0081283602': Int64Index([2881], dtype='int64'), '0081283873': Int64Index([2660], dtype='int64'), '0081283995': Int64Index([2858], dtype='int64'), '0081284157': Int64Index([2754], dtype='int64'), '0081285319': Int64Index([2879], dtype='int64'), '0081286084': Int64Index([2866, 2880], dtype='int64'), '0081288175': Int64Index([2856], dtype='int64'), '0081289842': Int64Index([2819], dtype='int64'), '0081290540': Int64Index([2857], dtype='int64'), '0081290941': Int64Index([2774], dtype='int64'), '0081291990': Int64Index([2765], dtype='int64'), '0081292610': Int64Index([2757], dtype='int64'), '0081298212': Int64Index([2692], dtype='int64'), '0081298507': Int64Index([2677], dtype='int64'), '0081298632': Int64Index([2704], dtype='int64'), '0081299084': Int64Index([2693, 2729, 2737, 2820], dtype='int64'), '0081303799': Int64Index([2776], dtype='int64'), '0081303897': Int64Index([2749], dtype='int64'), '0081305701': Int64Index([2773], dtype='int64'), '0081306442': Int64Index([2865], dtype='int64'), '0081306672': Int64Index([2805], dtype='int64'), '0081307636': Int64Index([2658], dtype='int64'), '0081308174': Int64Index([2691], dtype='int64'), '0081308212': Int64Index([2671], dtype='int64'), '0081310665': Int64Index([2720], dtype='int64'), '0081310944': Int64Index([2722], dtype='int64'), '0081312303': Int64Index([2709], dtype='int64'), '0081312570': Int64Index([2854], dtype='int64'), '0081313610': Int64Index([2742], dtype='int64'), '0081315046': Int64Index([2870], dtype='int64'), '0081315511': Int64Index([2601], dtype='int64'), '0081315540': Int64Index([2705], dtype='int64'), '0081317261': Int64Index([2763], dtype='int64'), '0081320524': Int64Index([2734], dtype='int64'), '0081321533': Int64Index([2746], dtype='int64'), '0081322078': Int64Index([2778], dtype='int64'), '0081323618': Int64Index([2748], dtype='int64'), '0081325244': Int64Index([2738], dtype='int64'), '0081327500': Int64Index([2752], dtype='int64'), '0081327956': Int64Index([2775], dtype='int64'), '0081331146': Int64Index([2787], dtype='int64'), '0081332823': Int64Index([2829], dtype='int64'), '0081334165': Int64Index([2770], dtype='int64'), '0081335677': Int64Index([2809], dtype='int64'), '0081335750': Int64Index([2785], dtype='int64'), '0081335912': Int64Index([2815], dtype='int64'), '0081336120': Int64Index([2864], dtype='int64'), '0081336321': Int64Index([2788], dtype='int64'), '0081337937': Int64Index([2816], dtype='int64'), '0081337965': Int64Index([2764], dtype='int64'), '0081337983': Int64Index([2827], dtype='int64'), '0081338499': Int64Index([2777], dtype='int64'), '0081341249': Int64Index([2801], dtype='int64'), '0081343140': Int64Index([2800], dtype='int64'), '0081344158': Int64Index([2812], dtype='int64'), '0081344378': Int64Index([2750], dtype='int64'), '0081345663': Int64Index([2792], dtype='int64'), '0081347491': Int64Index([2890], dtype='int64'), '0081348019': Int64Index([2798], dtype='int64'), '0081354386': Int64Index([2762], dtype='int64'), '0081355242': Int64Index([2874], dtype='int64'), '0081357342': Int64Index([2811], dtype='int64'), '0081357358': Int64Index([2799], dtype='int64'), '0099001028': Int64Index([2946, 2950], dtype='int64'), '0099002676': Int64Index([2919, 2940, 2958, 2989, 2995, 3033], dtype='int64'), '0099004735': Int64Index([2923, 2934, 2939, 2973, 3003, 3021], dtype='int64'), '0099005933': Int64Index([2886], dtype='int64'), '0099010269': Int64Index([3014], dtype='int64'), '0101053546': Int64Index([2988], dtype='int64'), '0102054766': Int64Index([2907], dtype='int64'), '0102086714': Int64Index([3018], dtype='int64'), '0102187184': Int64Index([2984], dtype='int64'), '0103024338': Int64Index([2930, 2969], dtype='int64'), '0103059979': Int64Index([2965], dtype='int64'), '0103113879': Int64Index([2903], dtype='int64'), '0111068965': Int64Index([2980], dtype='int64'), '0111071356': Int64Index([2885], dtype='int64'), '0111170117': Int64Index([2945], dtype='int64'), '0112058660': Int64Index([3043], dtype='int64'), '0127067380': Int64Index([2932], dtype='int64'), '0201230953': Int64Index([710], dtype='int64'), '1000008911': Int64Index([2904, 2983, 2992, 2994, 3019], dtype='int64'), '1000008941': Int64Index([2893, 2954, 3042], dtype='int64'), '1000009076': Int64Index([2899, 2947, 3032, 3041], dtype='int64'), '1000009107': Int64Index([2956], dtype='int64'), '1000030368': Int64Index([2921], dtype='int64'), '1000220015': Int64Index([2966], dtype='int64'), '1000423583': Int64Index([2926], dtype='int64'), '1000468065': Int64Index([2986], dtype='int64'), '1000487011': Int64Index([3010], dtype='int64'), '1000498386': Int64Index([3000], dtype='int64'), '1000499820': Int64Index([3027], dtype='int64'), '1000500459': Int64Index([2915], dtype='int64'), '1000510043': Int64Index([2912], dtype='int64'), '1000511819': Int64Index([2931], dtype='int64'), '1000516447': Int64Index([3013], dtype='int64'), '1000587748': Int64Index([2920], dtype='int64'), '1000612604': Int64Index([2894], dtype='int64'), '1000628718': Int64Index([2959], dtype='int64'), '1000664548': Int64Index([3016], dtype='int64'), '1000703922': Int64Index([2909], dtype='int64'), '1000737249': Int64Index([2911], dtype='int64'), '1000748920': Int64Index([2884], dtype='int64'), '1000803372': Int64Index([2976], dtype='int64'), '1000827739': Int64Index([2968], dtype='int64'), '1000835520': Int64Index([2898], dtype='int64'), '1000836616': Int64Index([2961], dtype='int64'), '1000842404': Int64Index([3030], dtype='int64'), '1000844376': Int64Index([2951], dtype='int64'), '1000848061': Int64Index([2981], dtype='int64'), '1000857513': Int64Index([3031], dtype='int64'), '1000867887': Int64Index([2975], dtype='int64'), '1000875850': Int64Index([2948], dtype='int64'), '5300-0000034968': Int64Index([2927], dtype='int64'), '5300-0000049867': Int64Index([2970], dtype='int64'), '5300-0000082819': Int64Index([3022], dtype='int64'), '5300-0000117275': Int64Index([3038], dtype='int64'), '5300-0000216393': Int64Index([3050], dtype='int64'), '5300-0000228654': Int64Index([3046], dtype='int64'), '5300-0000243776': Int64Index([3017], dtype='int64'), '5300-0099000612': Int64Index([2896, 2900, 2971, 3004, 3005], dtype='int64'), '5300-0099001298': Int64Index([2917, 2952, 3020, 3039], dtype='int64'), '5300-0099001661': Int64Index([2905, 2906, 2908, 2916, 2918, 2922, 2924, 2943, 2997, 3008, 3024,\n",
      "            3036, 3040, 3044],\n",
      "           dtype='int64'), '5300-0099001672': Int64Index([2897, 2938, 3034], dtype='int64'), '5300-0099001900': Int64Index([2985], dtype='int64'), '5300-0099005114': Int64Index([2901, 2910, 2935, 2953, 2964, 2967, 2990, 2993, 3001, 3006, 3015,\n",
      "            3025, 3045, 3047],\n",
      "           dtype='int64'), '5300-0099005483': Int64Index([2913], dtype='int64'), '5300-0099006571': Int64Index([2936, 3012], dtype='int64'), '5300-0099006775': Int64Index([2914, 2996], dtype='int64'), '5300-0099007698': Int64Index([2925], dtype='int64'), '5300-0099009381': Int64Index([2928], dtype='int64'), '5300-0099009885': Int64Index([2955, 2999], dtype='int64'), '5300-0099009959': Int64Index([2942, 2944, 2949, 2962, 2972, 2979, 2991, 3028], dtype='int64'), '5300-0099010196': Int64Index([3048], dtype='int64'), '5303-0301026718': Int64Index([3035], dtype='int64'), '5303-0302008270': Int64Index([2937, 2960, 2982], dtype='int64'), '5303-0322004139': Int64Index([3007], dtype='int64'), '5303-0328035011': Int64Index([3002, 3029], dtype='int64'), '5303-0381058585': Int64Index([3009], dtype='int64'), '5303-5035233236': Int64Index([2895], dtype='int64'), '5304-0401023700': Int64Index([2902], dtype='int64'), '5304-0425008371': Int64Index([3037], dtype='int64'), '5306-0623006389': Int64Index([2974], dtype='int64'), '5306-0625002269': Int64Index([2933], dtype='int64'), '5306-0625012327': Int64Index([3011], dtype='int64'), '5306-0627017052': Int64Index([3023], dtype='int64'), '5307-0702002337': Int64Index([2929], dtype='int64'), '5307-0724007809': Int64Index([2883], dtype='int64'), '5323-5230825793': Int64Index([2941], dtype='int64'), '5325-6255249837': Int64Index([2998], dtype='int64'), '5327-2700022732': Int64Index([2978], dtype='int64'), '5329-2927013103': Int64Index([3049], dtype='int64'), '5330-3023000368': Int64Index([2977], dtype='int64'), '9000445161': Int64Index([620], dtype='int64'), '9000540128': Int64Index([693], dtype='int64'), '9000740294': Int64Index([1411], dtype='int64'), '9000796267': Int64Index([1583], dtype='int64'), '9000806520': Int64Index([1038], dtype='int64'), '9000844690': Int64Index([1686], dtype='int64'), '9000946945': Int64Index([1884], dtype='int64'), '9001160301': Int64Index([2332], dtype='int64'), '9001170139': Int64Index([2585], dtype='int64'), '9001179913': Int64Index([2371], dtype='int64'), '9001310222': Int64Index([2736], dtype='int64'), 'T000277087': Int64Index([697], dtype='int64'), 'T000306606': Int64Index([2424], dtype='int64'), 'T000308654': Int64Index([225, 1568, 1725, 2050], dtype='int64'), 'T000342859': Int64Index([2390], dtype='int64'), 'T000353326': Int64Index([1549], dtype='int64'), 'T000366735': Int64Index([329], dtype='int64'), 'T000372854': Int64Index([1100], dtype='int64'), 'T000383552': Int64Index([522], dtype='int64'), 'T000389736': Int64Index([649], dtype='int64'), 'T000529009': Int64Index([2316, 2458], dtype='int64'), 'T000553462': Int64Index([1833], dtype='int64'), 'T000577054': Int64Index([2191], dtype='int64'), 'T000595511': Int64Index([2534], dtype='int64')}\n"
     ]
    }
   ],
   "source": [
    "df_grouped_homepage = df_homepage.groupby(['PATIENT_ID'])\n",
    "print(df_grouped_homepage.groups)"
   ]
  },
  {
   "cell_type": "code",
   "execution_count": 80,
   "metadata": {},
   "outputs": [
    {
     "name": "stdout",
     "output_type": "stream",
     "text": [
      "824\n",
      "       关系类型 头类型   尾类型    头主键名            头主键值  尾主键名        尾主键值\n",
      "0  患者疾病影响因素  患者  流行病学  患者住院ID  ZY070000293973  影响因素  过去1年有1次住院史\n",
      "1  患者疾病影响因素  患者  流行病学  患者住院ID  ZY060000239320  影响因素  过去1年有1次住院史\n",
      "2  患者疾病影响因素  患者  流行病学  患者住院ID  ZY210000171888  影响因素  过去1年有1次住院史\n",
      "3  患者疾病影响因素  患者  流行病学  患者住院ID  ZY040000302696  影响因素  过去1年有1次住院史\n",
      "4  患者疾病影响因素  患者  流行病学  患者住院ID  ZY090000328623  影响因素  过去1年有1次住院史\n"
     ]
    }
   ],
   "source": [
    "from datetime import datetime\n",
    "\n",
    "count = 0\n",
    "for index,row in df_homepage.iterrows():\n",
    "    patient_id = row['PATIENT_ID']\n",
    "    patient_rows = df_grouped_homepage.groups[patient_id]\n",
    "    current_visit_date_str = row['VISIT_DATE']\n",
    "    current_visit_date = datetime.strptime(current_visit_date_str.split(' ')[0], '%Y/%m/%d')\n",
    "    head_value = row['INPATIENT_NO']\n",
    "    \n",
    "    #没有或只有1条记录就进入下一条记录的判断\n",
    "    if len(patient_rows) <= 1:\n",
    "        continue\n",
    "    \n",
    "    for rowNo in patient_rows:\n",
    "        row_visti_date_str = df_homepage.iloc[rowNo]['VISIT_DATE']\n",
    "        row_visti_date = datetime.strptime(row_visti_date_str.split(' ')[0], '%Y/%m/%d')   \n",
    "        diff = current_visit_date - row_visti_date\n",
    "\n",
    "        if diff.days > 0 and diff.days <= 365:\n",
    "            df_inhospital_history_relation.loc[count] = {'关系类型':'患者疾病影响因素', '头类型':'患者', '尾类型':'流行病学', '头主键名':'患者住院ID','头主键值':head_value, '尾主键名':'影响因素', '尾主键值':'过去1年有1次住院史'}\n",
    "            count += 1\n",
    "            break\n",
    "    \n",
    "            \n",
    "print(len(df_inhospital_history_relation))\n",
    "print(df_inhospital_history_relation.head())"
   ]
  },
  {
   "cell_type": "code",
   "execution_count": 81,
   "metadata": {
    "scrolled": false
   },
   "outputs": [],
   "source": [
    "df_inhospital_history_relation.to_csv(r'./患者与住院史关系.csv',index=False,sep=',')"
   ]
  },
  {
   "cell_type": "markdown",
   "metadata": {},
   "source": [
    "# 患者与吸烟史关系"
   ]
  },
  {
   "cell_type": "code",
   "execution_count": 83,
   "metadata": {},
   "outputs": [
    {
     "name": "stdout",
     "output_type": "stream",
     "text": [
      "             无吸烟史            有吸烟史           有吸烟包年    包年  Unnamed: 4  \\\n",
      "0  ZY200000171888  ZY020000334826  ZY070000271055  20.0         NaN   \n",
      "1  ZY030000338472  ZY010000362613  ZY030000312662  40.0         NaN   \n",
      "2  ZY050000307391  ZY010000361951  ZY070000315053  40.0         NaN   \n",
      "3  ZY060000341147  ZY010000362756  ZY030000349184  40.0         NaN   \n",
      "4  ZY210000171888  ZY010000360912  ZY020000323501   7.5         NaN   \n",
      "\n",
      "   Unnamed: 5 Unnamed: 6  \n",
      "0         NaN        NaN  \n",
      "1         NaN        NaN  \n",
      "2         NaN        NaN  \n",
      "3         NaN       无吸烟史  \n",
      "4         NaN     吸烟包年不明  \n"
     ]
    }
   ],
   "source": [
    "df_smoking_history = pd.read_excel('吸烟人数.xlsx', sheet_name='Sheet3')\n",
    "print(df_smoking_history.head())"
   ]
  },
  {
   "cell_type": "code",
   "execution_count": 114,
   "metadata": {},
   "outputs": [
    {
     "name": "stdout",
     "output_type": "stream",
     "text": [
      "Empty DataFrame\n",
      "Columns: [关系类型, 头类型, 尾类型, 头主键名, 头主键值, 尾主键名, 尾主键值]\n",
      "Index: []\n"
     ]
    }
   ],
   "source": [
    "df_smoking_history_relation = pd.DataFrame(columns=['关系类型','头类型','尾类型','头主键名','头主键值','尾主键名','尾主键值'])\n",
    "print(df_smoking_history_relation.head())"
   ]
  },
  {
   "cell_type": "code",
   "execution_count": 115,
   "metadata": {},
   "outputs": [
    {
     "name": "stdout",
     "output_type": "stream",
     "text": [
      "       关系类型 头类型   尾类型    头主键名            头主键值  尾主键名          尾主键值\n",
      "0  患者疾病影响因素  患者  流行病学  患者住院ID  ZY200000171888  影响因素          无吸烟史\n",
      "1  患者疾病影响因素  患者  流行病学  患者住院ID  ZY020000334826  影响因素        吸烟包年不明\n",
      "2  患者疾病影响因素  患者  流行病学  患者住院ID  ZY070000271055  影响因素  吸烟史>=20-29包年\n",
      "3  患者疾病影响因素  患者  流行病学  患者住院ID  ZY030000338472  影响因素          无吸烟史\n",
      "4  患者疾病影响因素  患者  流行病学  患者住院ID  ZY010000362613  影响因素        吸烟包年不明\n"
     ]
    }
   ],
   "source": [
    "smoke_count = 0\n",
    "\n",
    "for index,row in df_smoking_history.iterrows():\n",
    "    #通过是否等于自身判断是否是nan，不等于自身则是nan\n",
    "    if not row['无吸烟史'] !=  row['无吸烟史']:\n",
    "        df_smoking_history_relation.loc[smoke_count] = {'关系类型':'患者疾病影响因素', '头类型':'患者', '尾类型':'流行病学', '头主键名':'患者住院ID','头主键值':row['无吸烟史'], '尾主键名':'影响因素', '尾主键值':'无吸烟史'}\n",
    "        smoke_count += 1\n",
    "    if not row['有吸烟史'] != row['有吸烟史']:\n",
    "        df_smoking_history_relation.loc[smoke_count] = {'关系类型':'患者疾病影响因素', '头类型':'患者', '尾类型':'流行病学', '头主键名':'患者住院ID','头主键值':row['有吸烟史'], '尾主键名':'影响因素', '尾主键值':'吸烟包年不明'}\n",
    "        smoke_count += 1\n",
    "    if not row['有吸烟包年'] != row['有吸烟包年'] and not row['包年'] != row['包年']:\n",
    "        nodevalue = row['包年']\n",
    "        if nodevalue < 10.0:\n",
    "            df_smoking_history_relation.loc[smoke_count] = {'关系类型':'患者疾病影响因素', '头类型':'患者', '尾类型':'流行病学', '头主键名':'患者住院ID','头主键值':row['有吸烟包年'], '尾主键名':'影响因素', '尾主键值':'吸烟史<10包年'}\n",
    "        elif 10.0 <= nodevalue < 20.0:\n",
    "            df_smoking_history_relation.loc[smoke_count] = {'关系类型':'患者疾病影响因素', '头类型':'患者', '尾类型':'流行病学', '头主键名':'患者住院ID','头主键值':row['有吸烟包年'], '尾主键名':'影响因素', '尾主键值':'吸烟史>=10-19包年'}\n",
    "        elif 20.0 <= nodevalue < 30.0:\n",
    "            df_smoking_history_relation.loc[smoke_count] = {'关系类型':'患者疾病影响因素', '头类型':'患者', '尾类型':'流行病学', '头主键名':'患者住院ID','头主键值':row['有吸烟包年'], '尾主键名':'影响因素', '尾主键值':'吸烟史>=20-29包年'}\n",
    "        else:\n",
    "            df_smoking_history_relation.loc[smoke_count] = {'关系类型':'患者疾病影响因素', '头类型':'患者', '尾类型':'流行病学', '头主键名':'患者住院ID','头主键值':row['有吸烟包年'], '尾主键名':'影响因素', '尾主键值':'吸烟史>=30包年'}\n",
    "        smoke_count += 1  \n",
    "        \n",
    "print(df_smoking_history_relation.head())"
   ]
  },
  {
   "cell_type": "code",
   "execution_count": 116,
   "metadata": {},
   "outputs": [],
   "source": [
    "df_smoking_history_relation.to_csv(r'./患者与吸烟史关系.csv', index=False, sep=',')"
   ]
  },
  {
   "cell_type": "markdown",
   "metadata": {},
   "source": [
    "# 共患病及非共患病实体提取"
   ]
  },
  {
   "cell_type": "code",
   "execution_count": null,
   "metadata": {},
   "outputs": [],
   "source": [
    "df_codisease_entry = pd.DataFrame(columns=['实体类型','主键名','主键值','患者所在医院','患者ID'])\n",
    "print(df_patient_entry.head())"
   ]
  },
  {
   "cell_type": "code",
   "execution_count": null,
   "metadata": {},
   "outputs": [],
   "source": []
  },
  {
   "cell_type": "markdown",
   "metadata": {},
   "source": [
    "# 构建知识图谱流程"
   ]
  },
  {
   "cell_type": "code",
   "execution_count": 30,
   "metadata": {},
   "outputs": [],
   "source": [
    "from py2neo import Graph, Node, Relationship, Database"
   ]
  },
  {
   "cell_type": "code",
   "execution_count": 34,
   "metadata": {},
   "outputs": [],
   "source": [
    "db = Database(\"bolt://localhost:11001\", password = '123456')"
   ]
  },
  {
   "cell_type": "code",
   "execution_count": 35,
   "metadata": {},
   "outputs": [
    {
     "name": "stdout",
     "output_type": "stream",
     "text": [
      "<Database uri='bolt://localhost:11001' secure=False user_agent='py2neo/4.1.0 neo4j-python/1.6.2 Python/3.6.6-final-0 (win32)'>\n"
     ]
    }
   ],
   "source": [
    "print(db)"
   ]
  },
  {
   "cell_type": "code",
   "execution_count": 36,
   "metadata": {},
   "outputs": [],
   "source": [
    "# graph = Graph(password='123456')\n",
    "graph = Graph(\"bolt://localhost:11001\", password = '123456')"
   ]
  },
  {
   "cell_type": "code",
   "execution_count": 37,
   "metadata": {},
   "outputs": [],
   "source": [
    "for index,row in df_patient_entry.iterrows():\n",
    "    a = Node('Patient')\n",
    "    a.update(dict(row))\n",
    "    graph.create(a)"
   ]
  },
  {
   "cell_type": "markdown",
   "metadata": {},
   "source": [
    "# 原知识图谱构建示例"
   ]
  },
  {
   "cell_type": "code",
   "execution_count": 1,
   "metadata": {},
   "outputs": [],
   "source": [
    "from py2neo import Graph,Node, Relationship"
   ]
  },
  {
   "cell_type": "code",
   "execution_count": 3,
   "metadata": {},
   "outputs": [
    {
     "name": "stdout",
     "output_type": "stream",
     "text": [
      "(:Person {name: 'Alice'}) (:Person {name: 'Bob'}) (Alice)-[:KNOWS {}]->(Bob)\n"
     ]
    }
   ],
   "source": [
    "a = Node('Person', name='Alice')\n",
    "b = Node('Person', name='Bob')\n",
    "r = Relationship(a, 'KNOWS', b)\n",
    "print(a, b, r)"
   ]
  },
  {
   "cell_type": "code",
   "execution_count": 4,
   "metadata": {},
   "outputs": [
    {
     "name": "stdout",
     "output_type": "stream",
     "text": [
      "(:Person {age: 20, name: 'Alice'}) (:Person {age: 21, name: 'Bob'}) (Alice)-[:KNOWS {time: '2017/08/31'}]->(Bob)\n"
     ]
    }
   ],
   "source": [
    "a['age'] = 20\n",
    "b['age'] = 21\n",
    "r['time'] = '2017/08/31'\n",
    "print(a, b, r)"
   ]
  },
  {
   "cell_type": "code",
   "execution_count": 7,
   "metadata": {},
   "outputs": [
    {
     "name": "stdout",
     "output_type": "stream",
     "text": [
      "(:Person {age: 20, location: '\\u5317\\u4eac', name: 'Alice'})\n"
     ]
    }
   ],
   "source": [
    "a.setdefault('location', 'beijing')\n",
    "print(a)"
   ]
  },
  {
   "cell_type": "code",
   "execution_count": 9,
   "metadata": {},
   "outputs": [
    {
     "name": "stdout",
     "output_type": "stream",
     "text": [
      "(:Person {age: 20, location: 'shanghai', name: 'Alice'})\n"
     ]
    }
   ],
   "source": [
    "a['location'] = 'shanghai'\n",
    "a.setdefault('location', '北京')\n",
    "print(a)"
   ]
  },
  {
   "cell_type": "code",
   "execution_count": 11,
   "metadata": {},
   "outputs": [
    {
     "name": "stdout",
     "output_type": "stream",
     "text": [
      "(:Person {age: 25, location: 'shanghai', name: 'Kara'})\n"
     ]
    }
   ],
   "source": [
    "data = {\n",
    "    'age': 25,\n",
    "    'name': 'Kara'\n",
    "}\n",
    "a.update(data)\n",
    "print(a)"
   ]
  },
  {
   "cell_type": "code",
   "execution_count": 14,
   "metadata": {},
   "outputs": [
    {
     "name": "stdout",
     "output_type": "stream",
     "text": [
      "<py2neo.data.Subgraph object at 0x000001B906487E48>\n"
     ]
    }
   ],
   "source": [
    "a = Node('Person', name='Alice')\n",
    "b = Node('Person', name='Bob')\n",
    "r = Relationship(a, 'KNOWS', b)\n",
    "s = a | b | r\n",
    "print(s)"
   ]
  },
  {
   "cell_type": "code",
   "execution_count": 16,
   "metadata": {},
   "outputs": [
    {
     "name": "stdout",
     "output_type": "stream",
     "text": [
      "<py2neo.internal.collections.SetView object at 0x000001B906487898>\n",
      "<py2neo.internal.collections.SetView object at 0x000001B906487DA0>\n"
     ]
    }
   ],
   "source": [
    "print(s.nodes)\n",
    "print(s.relationships)"
   ]
  },
  {
   "cell_type": "code",
   "execution_count": 17,
   "metadata": {},
   "outputs": [
    {
     "name": "stdout",
     "output_type": "stream",
     "text": [
      "<py2neo.data.Subgraph object at 0x000001B90649F080>\n"
     ]
    }
   ],
   "source": [
    "s1 = a | b | r\n",
    "s2 = a | b\n",
    "print(s1 & s2)"
   ]
  },
  {
   "cell_type": "code",
   "execution_count": 18,
   "metadata": {},
   "outputs": [
    {
     "name": "stdout",
     "output_type": "stream",
     "text": [
      "<bound method Subgraph.keys of <py2neo.data.Subgraph object at 0x000001B90649F550>>\n",
      "frozenset({'Person'})\n",
      "<py2neo.internal.collections.SetView object at 0x000001B90649F4E0>\n",
      "<py2neo.internal.collections.SetView object at 0x000001B906487E48>\n",
      "<bound method Subgraph.types of <py2neo.data.Subgraph object at 0x000001B90649F550>>\n"
     ]
    }
   ],
   "source": [
    "s = a | b | r\n",
    "print(s.keys)\n",
    "print(s.labels)\n",
    "print(s.nodes)\n",
    "print(s.relationships)\n",
    "print(s.types)"
   ]
  },
  {
   "cell_type": "code",
   "execution_count": 23,
   "metadata": {},
   "outputs": [],
   "source": [
    "from py2neo import Node, Relationship\n",
    " \n",
    "a = Node('Person', name='Alice')\n",
    "b = Node('Person', name='Bob')\n",
    "c = Node('Person', name='Mike')\n",
    "ab = Relationship(a, \"KNOWS\", b)\n",
    "ac = Relationship(a, \"KNOWS\", c)\n",
    "w = ab + Relationship(b, \"LIKES\", c) + ac\n",
    "# print(w)"
   ]
  },
  {
   "cell_type": "code",
   "execution_count": 24,
   "metadata": {},
   "outputs": [],
   "source": [
    "from py2neo import Graph, Node, Relationship\n",
    " \n",
    "graph = Graph(password='123456')\n",
    "a = Node('Person', name='Alice')\n",
    "graph.create(a)\n",
    "b = Node('Person', name='Bob')\n",
    "ab = Relationship(a, 'KNOWS', b)\n",
    "graph.create(ab)"
   ]
  },
  {
   "cell_type": "code",
   "execution_count": 33,
   "metadata": {},
   "outputs": [
    {
     "name": "stdout",
     "output_type": "stream",
     "text": [
      "[{'p': (_0:Person {name: 'Eric'})}, {'p': (_40:Person {name: 'Alice'})}, {'p': (_60:Person {name: 'Bob'})}]\n"
     ]
    }
   ],
   "source": [
    "graph = Graph(password='123456')\n",
    "data = graph.run('MATCH (p:Person) return p').data()\n",
    "print(data)"
   ]
  },
  {
   "cell_type": "code",
   "execution_count": 49,
   "metadata": {},
   "outputs": [
    {
     "name": "stdout",
     "output_type": "stream",
     "text": [
      "                   p\n",
      "0   {'name': 'Eric'}\n",
      "1  {'name': 'Alice'}\n",
      "2    {'name': 'Bob'}\n"
     ]
    }
   ],
   "source": [
    "from pandas import DataFrame\n",
    "\n",
    "graph = Graph(password='123456')\n",
    "data = graph.run('MATCH (p:Person) return p').data()\n",
    "df = DataFrame(data)\n",
    "print(df)"
   ]
  },
  {
   "cell_type": "code",
   "execution_count": 52,
   "metadata": {},
   "outputs": [
    {
     "name": "stdout",
     "output_type": "stream",
     "text": [
      "[(_0:Person {name: 'Eric'}), (_40:Person {name: 'Alice'}), (_60:Person {name: 'Bob'})]\n",
      "(Alice)-[:KNOWS {}]->(Bob)\n"
     ]
    }
   ],
   "source": [
    "graph = Graph(password='123456')\n",
    "# node = graph.find_one(label='Person')\n",
    "node = graph.nodes.match(\"Person\")\n",
    "print(list(node))\n",
    "relationship = graph.match_one(r_type='KNOWS')\n",
    "print(relationship)"
   ]
  },
  {
   "cell_type": "code",
   "execution_count": 58,
   "metadata": {},
   "outputs": [
    {
     "name": "stdout",
     "output_type": "stream",
     "text": [
      "(_0:Person {name: 'Eric'})\n",
      "(_0:Person {age: 21, name: 'Eric'})\n"
     ]
    }
   ],
   "source": [
    "from py2neo import Graph, Node\n",
    " \n",
    "graph = Graph(password='123456')\n",
    "a = Node('Person', name='Alice')\n",
    "node = graph.nodes.match('Person').first()\n",
    "print(node)\n",
    "node['age'] = 21\n",
    "graph.push(node)\n",
    "print(graph.nodes.match('Person').first())"
   ]
  },
  {
   "cell_type": "code",
   "execution_count": 61,
   "metadata": {},
   "outputs": [
    {
     "name": "stdout",
     "output_type": "stream",
     "text": [
      "(_40:Person {name: 'Alice'})\n",
      "(Alice)-[:KNOWS {}]->(Bob)\n"
     ]
    }
   ],
   "source": [
    "graph = Graph(password='123456')\n",
    "node = graph.nodes.match('Person',name='Alice').first()\n",
    "print(node)\n",
    "relationship = graph.match_one(r_type='KNOWS')\n",
    "print(relationship)\n",
    "graph.delete(relationship)\n",
    "graph.delete(node)"
   ]
  },
  {
   "cell_type": "code",
   "execution_count": 62,
   "metadata": {},
   "outputs": [
    {
     "name": "stdout",
     "output_type": "stream",
     "text": [
      "[<Record p=(_0:Person {age: 21, name: 'Eric'})>]\n"
     ]
    }
   ],
   "source": [
    "graph = Graph(password='123456')\n",
    "data = graph.run('MATCH (p:Person) RETURN p LIMIT 5')\n",
    "print(list(data))"
   ]
  },
  {
   "cell_type": "code",
   "execution_count": 63,
   "metadata": {},
   "outputs": [],
   "source": [
    "graph = Graph(password='123456')\n",
    "a = Node('Person', name='Alice', age=21, location='guangzhou')\n",
    "b = Node('Person', name='Bob', age=22, location='shanghai')\n",
    "c = Node('Person', name='Mike', age=21, location='beijing')\n",
    "r1 = Relationship(a, 'KNOWS', b)\n",
    "r2 = Relationship(b, 'KNOWS', c)\n",
    "graph.create(a)\n",
    "graph.create(r1)\n",
    "graph.create(r2)"
   ]
  },
  {
   "cell_type": "code",
   "execution_count": 69,
   "metadata": {},
   "outputs": [
    {
     "name": "stdout",
     "output_type": "stream",
     "text": [
      "[(_0:Person {age: 21, name: 'Eric'}), (_40:Person {age: 21, location: 'guangzhou', name: 'Alice'}), (_80:Person {age: 21, location: 'beijing', name: 'Mike'})]\n"
     ]
    }
   ],
   "source": [
    "from py2neo import NodeMatcher\n",
    "graph = Graph(password='123456')\n",
    "matcher = NodeMatcher(graph)\n",
    "persons = matcher.match('Person', age=21)\n",
    "print(list(persons))"
   ]
  },
  {
   "cell_type": "code",
   "execution_count": 70,
   "metadata": {},
   "outputs": [
    {
     "name": "stdout",
     "output_type": "stream",
     "text": [
      "[(_40:Person {age: 21, location: 'guangzhou', name: 'Alice'})]\n"
     ]
    }
   ],
   "source": [
    "persons = matcher.match('Person').where('_.name =~ \"A.*\"')\n",
    "print(list(persons))"
   ]
  },
  {
   "cell_type": "code",
   "execution_count": 71,
   "metadata": {},
   "outputs": [
    {
     "name": "stdout",
     "output_type": "stream",
     "text": [
      "[(_0:Person {age: 21, name: 'Eric'}), (_40:Person {age: 21, location: 'guangzhou', name: 'Alice'}), (_80:Person {age: 21, location: 'beijing', name: 'Mike'}), (_79:Person {age: 22, location: 'shanghai', name: 'Bob'})]\n"
     ]
    }
   ],
   "source": [
    "persons = matcher.match('Person').order_by('_.age')\n",
    "print(list(persons))"
   ]
  },
  {
   "cell_type": "code",
   "execution_count": 72,
   "metadata": {},
   "outputs": [
    {
     "name": "stdout",
     "output_type": "stream",
     "text": [
      "(_40:Person {age: 21, location: 'guangzhou', name: 'Alice'})\n"
     ]
    }
   ],
   "source": [
    "person = matcher.match('Person').where('_.name =~ \"A.*\"').first()\n",
    "print(person)"
   ]
  },
  {
   "cell_type": "markdown",
   "metadata": {},
   "source": [
    "# OGM: OGM 类似于 ORM，意为 Object Graph Mapping，这样可以实现一个对象和 Node 的关联"
   ]
  },
  {
   "cell_type": "code",
   "execution_count": 73,
   "metadata": {},
   "outputs": [],
   "source": [
    "from py2neo.ogm import GraphObject, Property, RelatedTo, RelatedFrom\n",
    " \n",
    " \n",
    "class Movie(GraphObject):\n",
    "    __primarykey__ = 'title'\n",
    " \n",
    "    title = Property()\n",
    "    released = Property()\n",
    "    actors = RelatedFrom('Person', 'ACTED_IN')\n",
    "    directors = RelatedFrom('Person', 'DIRECTED')\n",
    "    producers = RelatedFrom('Person', 'PRODUCED')\n",
    " \n",
    "class Person(GraphObject):\n",
    "    __primarykey__ = 'name'\n",
    " \n",
    "    name = Property()\n",
    "    born = Property()\n",
    "    acted_in = RelatedTo('Movie')\n",
    "    directed = RelatedTo('Movie')\n",
    "    produced = RelatedTo('Movie')"
   ]
  },
  {
   "cell_type": "code",
   "execution_count": 75,
   "metadata": {},
   "outputs": [
    {
     "name": "stdout",
     "output_type": "stream",
     "text": [
      "<Person name='Eric'>\n",
      "Eric\n",
      "21\n"
     ]
    }
   ],
   "source": [
    "graph = Graph(password='123456')\n",
    " \n",
    " \n",
    "class Person(GraphObject):\n",
    "    __primarykey__ = 'name'\n",
    " \n",
    "    name = Property()\n",
    "    age = Property()\n",
    "    location = Property()\n",
    " \n",
    "person = Person.match(graph).where(age=21).first()\n",
    "print(person)\n",
    "print(person.name)\n",
    "print(person.age)"
   ]
  },
  {
   "cell_type": "code",
   "execution_count": 76,
   "metadata": {},
   "outputs": [
    {
     "name": "stdout",
     "output_type": "stream",
     "text": [
      "(_0:Person {age: 21, name: 'Eric'})\n",
      "(_0:Person {age: 22, name: 'Eric'})\n"
     ]
    }
   ],
   "source": [
    "person = Person.match(graph).where(age=21).first()\n",
    "print(person.__ogm__.node)\n",
    "person.age = 22\n",
    "print(person.__ogm__.node)\n",
    "graph.push(person)"
   ]
  },
  {
   "cell_type": "code",
   "execution_count": 77,
   "metadata": {},
   "outputs": [
    {
     "name": "stdout",
     "output_type": "stream",
     "text": [
      "[<Person name='Bob'>]\n",
      "[<Person name='Bob'>, <Person name='Durant'>]\n"
     ]
    }
   ],
   "source": [
    "class Person(GraphObject):\n",
    "    __primarykey__ = 'name'\n",
    " \n",
    "    name = Property()\n",
    "    age = Property()\n",
    "    location = Property()\n",
    "    knows = RelatedTo('Person', 'KNOWS')\n",
    " \n",
    "person = Person.match(graph).where(age=21).first()\n",
    "print(list(person.knows))\n",
    "new_person = Person()\n",
    "new_person.name = 'Durant'\n",
    "new_person.age = 28\n",
    "person.knows.add(new_person)\n",
    "print(list(person.knows))"
   ]
  },
  {
   "cell_type": "code",
   "execution_count": 78,
   "metadata": {},
   "outputs": [],
   "source": [
    "graph.push(person)"
   ]
  },
  {
   "cell_type": "code",
   "execution_count": null,
   "metadata": {},
   "outputs": [],
   "source": [
    "person = Person.match(graph).where(name='Alice').first()\n",
    "target = Person.match(graph).where(name='Durant').first()\n",
    "person.knows.remove(target)\n",
    "graph.push(person)\n",
    "graph.delete(target)"
   ]
  },
  {
   "cell_type": "markdown",
   "metadata": {},
   "source": [
    "# Node2Vec 节点向量化"
   ]
  },
  {
   "cell_type": "code",
   "execution_count": 4,
   "metadata": {},
   "outputs": [
    {
     "name": "stderr",
     "output_type": "stream",
     "text": [
      "Computing transition probabilities: 100%|████████████████████████████████████████████| 100/100 [00:01<00:00, 78.76it/s]\n",
      "Generating walks (CPU: 1): 100%|█████████████████████████████████████████████████████| 200/200 [00:28<00:00,  7.39it/s]\n",
      "D:\\program\\Anaconda\\lib\\site-packages\\gensim\\matutils.py:737: FutureWarning: Conversion of the second argument of issubdtype from `int` to `np.signedinteger` is deprecated. In future, it will be treated as `np.int32 == np.dtype(int).type`.\n",
      "  if np.issubdtype(vec.dtype, np.int):\n",
      "Generating edge features: 100%|██████████████████████████████████████████████| 5050/5050.0 [00:00<00:00, 126588.15it/s]\n"
     ]
    }
   ],
   "source": [
    "EMBEDDING_FILENAME = 'Node2VecDemoEmbedding.txt'\n",
    "EMBEDDING_MODEL_FILENAME = 'Node2VecDemoEmbeddingModel.txt'\n",
    "EDGES_EMBEDDING_FILENAME = 'Node2VecDemoEdgesEmbedding.txt'\n",
    "\n",
    "import networkx as nx\n",
    "from node2vec import Node2Vec\n",
    "\n",
    "# Create a graph\n",
    "graph = nx.fast_gnp_random_graph(n=100, p=0.5)\n",
    "\n",
    "# Precompute probabilities and generate walks - **ON WINDOWS ONLY WORKS WITH workers=1**\n",
    "node2vec = Node2Vec(graph, dimensions=64, walk_length=30, num_walks=200, workers=1) \n",
    "\n",
    "# Embed nodes\n",
    "model = node2vec.fit(window=10, min_count=1, batch_words=4)  # Any keywords acceptable by gensim.Word2Vec can be passed, `diemnsions` and `workers` are automatically passed (from the Node2Vec constructor)\n",
    "\n",
    "# Look for most similar nodes\n",
    "model.wv.most_similar('2')  # Output node names are always strings\n",
    "\n",
    "# Save embeddings for later use\n",
    "model.wv.save_word2vec_format(EMBEDDING_FILENAME)\n",
    "\n",
    "# Save model for later use\n",
    "model.save(EMBEDDING_MODEL_FILENAME)\n",
    "\n",
    "# Embed edges using Hadamard method\n",
    "from node2vec.edges import HadamardEmbedder\n",
    "\n",
    "edges_embs = HadamardEmbedder(keyed_vectors=model.wv)\n",
    "\n",
    "# Look for embeddings on the fly - here we pass normal tuples\n",
    "edges_embs[('1', '2')]\n",
    "''' OUTPUT\n",
    "array([ 5.75068220e-03, -1.10937878e-02,  3.76693785e-01,  2.69105062e-02,\n",
    "       ... ... ....\n",
    "       ..................................................................],\n",
    "      dtype=float32)\n",
    "'''\n",
    "\n",
    "# Get all edges in a separate KeyedVectors instance - use with caution could be huge for big networks\n",
    "edges_kv = edges_embs.as_keyed_vectors()\n",
    "\n",
    "# Look for most similar edges - this time tuples must be sorted and as str\n",
    "edges_kv.most_similar(str(('1', '2')))\n",
    "\n",
    "# Save embeddings for later use\n",
    "edges_kv.save_word2vec_format(EDGES_EMBEDDING_FILENAME)"
   ]
  },
  {
   "cell_type": "code",
   "execution_count": null,
   "metadata": {},
   "outputs": [],
   "source": []
  }
 ],
 "metadata": {
  "kernelspec": {
   "display_name": "Python 3",
   "language": "python",
   "name": "python3"
  },
  "language_info": {
   "codemirror_mode": {
    "name": "ipython",
    "version": 3
   },
   "file_extension": ".py",
   "mimetype": "text/x-python",
   "name": "python",
   "nbconvert_exporter": "python",
   "pygments_lexer": "ipython3",
   "version": "3.6.6"
  }
 },
 "nbformat": 4,
 "nbformat_minor": 2
}

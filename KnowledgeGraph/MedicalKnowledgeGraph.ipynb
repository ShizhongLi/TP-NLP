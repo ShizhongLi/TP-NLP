{
 "cells": [
  {
   "cell_type": "code",
   "execution_count": 1,
   "metadata": {},
   "outputs": [],
   "source": [
    "%matplotlib inline\n",
    "import pandas as pd\n",
    "import numpy as np"
   ]
  },
  {
   "cell_type": "code",
   "execution_count": 5,
   "metadata": {},
   "outputs": [
    {
     "data": {
      "text/html": [
       "<div>\n",
       "<style scoped>\n",
       "    .dataframe tbody tr th:only-of-type {\n",
       "        vertical-align: middle;\n",
       "    }\n",
       "\n",
       "    .dataframe tbody tr th {\n",
       "        vertical-align: top;\n",
       "    }\n",
       "\n",
       "    .dataframe thead th {\n",
       "        text-align: right;\n",
       "    }\n",
       "</style>\n",
       "<table border=\"1\" class=\"dataframe\">\n",
       "  <thead>\n",
       "    <tr style=\"text-align: right;\">\n",
       "      <th></th>\n",
       "      <th>SEQ_ID</th>\n",
       "      <th>PATIENT_ID</th>\n",
       "      <th>PATIENT_NO</th>\n",
       "      <th>INPATIENT_NO</th>\n",
       "      <th>INDEX2</th>\n",
       "      <th>PARENTNODENAME</th>\n",
       "      <th>SOURCEDATA</th>\n",
       "      <th>NODENAME</th>\n",
       "      <th>NODEVALUE</th>\n",
       "      <th>HOSPITAL_CODE</th>\n",
       "    </tr>\n",
       "  </thead>\n",
       "  <tbody>\n",
       "    <tr>\n",
       "      <th>0</th>\n",
       "      <td>1066658</td>\n",
       "      <td>0000182436</td>\n",
       "      <td>182436</td>\n",
       "      <td>ZY010000182436</td>\n",
       "      <td>沈*堂</td>\n",
       "      <td>出院记录\\诊断\\出院诊断</td>\n",
       "      <td>1、慢性阻塞性肺疾病急性加重\\n2、前列腺增生并钙化斑\\n3、胆囊切除术后\\n4、酒精性肝硬...</td>\n",
       "      <td>斑</td>\n",
       "      <td>无</td>\n",
       "      <td>12440100455344205E</td>\n",
       "    </tr>\n",
       "    <tr>\n",
       "      <th>1</th>\n",
       "      <td>1066658</td>\n",
       "      <td>0000182436</td>\n",
       "      <td>182436</td>\n",
       "      <td>ZY010000182436</td>\n",
       "      <td>沈*堂</td>\n",
       "      <td>出院记录\\诊断\\出院诊断</td>\n",
       "      <td>1、慢性阻塞性肺疾病急性加重\\n2、前列腺增生并钙化斑\\n3、胆囊切除术后\\n4、酒精性肝硬...</td>\n",
       "      <td>酒精性肝硬化</td>\n",
       "      <td>酒精性肝病</td>\n",
       "      <td>12440100455344205E</td>\n",
       "    </tr>\n",
       "    <tr>\n",
       "      <th>2</th>\n",
       "      <td>1066658</td>\n",
       "      <td>0000182436</td>\n",
       "      <td>182436</td>\n",
       "      <td>ZY010000182436</td>\n",
       "      <td>沈*堂</td>\n",
       "      <td>出院记录\\诊断\\出院诊断</td>\n",
       "      <td>1、慢性阻塞性肺疾病急性加重\\n2、前列腺增生并钙化斑\\n3、胆囊切除术后\\n4、酒精性肝硬...</td>\n",
       "      <td>前列腺增生并钙化</td>\n",
       "      <td>前列腺增生</td>\n",
       "      <td>12440100455344205E</td>\n",
       "    </tr>\n",
       "    <tr>\n",
       "      <th>3</th>\n",
       "      <td>1066658</td>\n",
       "      <td>0000182436</td>\n",
       "      <td>182436</td>\n",
       "      <td>ZY010000182436</td>\n",
       "      <td>沈*堂</td>\n",
       "      <td>出院记录\\诊断\\出院诊断</td>\n",
       "      <td>1、慢性阻塞性肺疾病急性加重\\n2、前列腺增生并钙化斑\\n3、胆囊切除术后\\n4、酒精性肝硬...</td>\n",
       "      <td>慢性阻塞性肺疾病急性加重</td>\n",
       "      <td>慢性阻塞性肺疾病急性加重</td>\n",
       "      <td>12440100455344205E</td>\n",
       "    </tr>\n",
       "    <tr>\n",
       "      <th>4</th>\n",
       "      <td>1066658</td>\n",
       "      <td>0000182436</td>\n",
       "      <td>182436</td>\n",
       "      <td>ZY010000182436</td>\n",
       "      <td>沈*堂</td>\n",
       "      <td>出院记录\\诊断\\出院诊断</td>\n",
       "      <td>1、慢性阻塞性肺疾病急性加重\\n2、前列腺增生并钙化斑\\n3、胆囊切除术后\\n4、酒精性肝硬...</td>\n",
       "      <td>声带息肉</td>\n",
       "      <td>声带息肉</td>\n",
       "      <td>12440100455344205E</td>\n",
       "    </tr>\n",
       "  </tbody>\n",
       "</table>\n",
       "</div>"
      ],
      "text/plain": [
       "    SEQ_ID  PATIENT_ID  PATIENT_NO    INPATIENT_NO INDEX2 PARENTNODENAME  \\\n",
       "0  1066658  0000182436      182436  ZY010000182436    沈*堂   出院记录\\诊断\\出院诊断   \n",
       "1  1066658  0000182436      182436  ZY010000182436    沈*堂   出院记录\\诊断\\出院诊断   \n",
       "2  1066658  0000182436      182436  ZY010000182436    沈*堂   出院记录\\诊断\\出院诊断   \n",
       "3  1066658  0000182436      182436  ZY010000182436    沈*堂   出院记录\\诊断\\出院诊断   \n",
       "4  1066658  0000182436      182436  ZY010000182436    沈*堂   出院记录\\诊断\\出院诊断   \n",
       "\n",
       "                                          SOURCEDATA      NODENAME  \\\n",
       "0  1、慢性阻塞性肺疾病急性加重\\n2、前列腺增生并钙化斑\\n3、胆囊切除术后\\n4、酒精性肝硬...             斑   \n",
       "1  1、慢性阻塞性肺疾病急性加重\\n2、前列腺增生并钙化斑\\n3、胆囊切除术后\\n4、酒精性肝硬...        酒精性肝硬化   \n",
       "2  1、慢性阻塞性肺疾病急性加重\\n2、前列腺增生并钙化斑\\n3、胆囊切除术后\\n4、酒精性肝硬...      前列腺增生并钙化   \n",
       "3  1、慢性阻塞性肺疾病急性加重\\n2、前列腺增生并钙化斑\\n3、胆囊切除术后\\n4、酒精性肝硬...  慢性阻塞性肺疾病急性加重   \n",
       "4  1、慢性阻塞性肺疾病急性加重\\n2、前列腺增生并钙化斑\\n3、胆囊切除术后\\n4、酒精性肝硬...          声带息肉   \n",
       "\n",
       "      NODEVALUE       HOSPITAL_CODE  \n",
       "0             无  12440100455344205E  \n",
       "1         酒精性肝病  12440100455344205E  \n",
       "2         前列腺增生  12440100455344205E  \n",
       "3  慢性阻塞性肺疾病急性加重  12440100455344205E  \n",
       "4          声带息肉  12440100455344205E  "
      ]
     },
     "execution_count": 5,
     "metadata": {},
     "output_type": "execute_result"
    }
   ],
   "source": [
    "df_out_daignose = pd.read_csv('out_diagnose.csv')\n",
    "df_out_daignose.head()"
   ]
  },
  {
   "cell_type": "code",
   "execution_count": 7,
   "metadata": {},
   "outputs": [
    {
     "data": {
      "text/html": [
       "<div>\n",
       "<style scoped>\n",
       "    .dataframe tbody tr th:only-of-type {\n",
       "        vertical-align: middle;\n",
       "    }\n",
       "\n",
       "    .dataframe tbody tr th {\n",
       "        vertical-align: top;\n",
       "    }\n",
       "\n",
       "    .dataframe thead th {\n",
       "        text-align: right;\n",
       "    }\n",
       "</style>\n",
       "<table border=\"1\" class=\"dataframe\">\n",
       "  <thead>\n",
       "    <tr style=\"text-align: right;\">\n",
       "      <th></th>\n",
       "      <th>实体性质</th>\n",
       "      <th>实体</th>\n",
       "      <th>实体性质.1</th>\n",
       "      <th>Unnamed: 3</th>\n",
       "    </tr>\n",
       "  </thead>\n",
       "  <tbody>\n",
       "    <tr>\n",
       "      <th>0</th>\n",
       "      <td>共患病</td>\n",
       "      <td>高血压病</td>\n",
       "      <td>非共患病</td>\n",
       "      <td>胆管炎</td>\n",
       "    </tr>\n",
       "    <tr>\n",
       "      <th>1</th>\n",
       "      <td>NaN</td>\n",
       "      <td>高脂血症</td>\n",
       "      <td>NaN</td>\n",
       "      <td>胆囊息肉</td>\n",
       "    </tr>\n",
       "    <tr>\n",
       "      <th>2</th>\n",
       "      <td>NaN</td>\n",
       "      <td>冠心病</td>\n",
       "      <td>NaN</td>\n",
       "      <td>胆石症</td>\n",
       "    </tr>\n",
       "    <tr>\n",
       "      <th>3</th>\n",
       "      <td>NaN</td>\n",
       "      <td>前列腺增生</td>\n",
       "      <td>NaN</td>\n",
       "      <td>风湿性心脏病</td>\n",
       "    </tr>\n",
       "    <tr>\n",
       "      <th>4</th>\n",
       "      <td>NaN</td>\n",
       "      <td>糖尿病</td>\n",
       "      <td>NaN</td>\n",
       "      <td>腹股沟疝</td>\n",
       "    </tr>\n",
       "  </tbody>\n",
       "</table>\n",
       "</div>"
      ],
      "text/plain": [
       "  实体性质     实体 实体性质.1 Unnamed: 3\n",
       "0  共患病   高血压病   非共患病        胆管炎\n",
       "1  NaN   高脂血症    NaN       胆囊息肉\n",
       "2  NaN    冠心病    NaN        胆石症\n",
       "3  NaN  前列腺增生    NaN     风湿性心脏病\n",
       "4  NaN    糖尿病    NaN       腹股沟疝"
      ]
     },
     "execution_count": 7,
     "metadata": {},
     "output_type": "execute_result"
    }
   ],
   "source": [
    "df_entry_codisease = pd.read_excel('实体命名.xlsx',sheet_name='共患病')\n",
    "df_entry_codisease.head()"
   ]
  },
  {
   "cell_type": "code",
   "execution_count": 37,
   "metadata": {},
   "outputs": [
    {
     "name": "stdout",
     "output_type": "stream",
     "text": [
      "<class 'float'>\n",
      "43\n",
      "['高血压病', '高脂血症', '冠心病', '前列腺增生', '糖尿病', '焦虑', '抑郁', '心力衰竭', '心律失常', '脑卒中']\n"
     ]
    }
   ],
   "source": [
    "codisease_list = df_entry_codisease['实体']\n",
    "nan = codisease_list[44]\n",
    "print(type(nan))\n",
    "codisease_list = [x for x in codisease_list if type(x) != float]\n",
    "print(len(codisease_list))\n",
    "print(codisease_list[:10])"
   ]
  },
  {
   "cell_type": "code",
   "execution_count": 38,
   "metadata": {},
   "outputs": [
    {
     "name": "stdout",
     "output_type": "stream",
     "text": [
      "45\n",
      "['胆管炎', '胆囊息肉', '胆石症', '风湿性心脏病', '腹股沟疝', '肝恶性肿瘤', '肝囊肿', '肝血管瘤', '肝硬化', '高尿酸血症']\n"
     ]
    }
   ],
   "source": [
    "notcodisease_list = df_entry_codisease['Unnamed: 3']\n",
    "notcodisease_list = [x for x in notcodisease_list if type(x) != float]\n",
    "print(len(notcodisease_list))\n",
    "print(notcodisease_list[:10])"
   ]
  },
  {
   "cell_type": "code",
   "execution_count": 64,
   "metadata": {},
   "outputs": [
    {
     "name": "stdout",
     "output_type": "stream",
     "text": [
      "     INPATIENT_NO     NODEVALUE\n",
      "0  ZY010000182436             无\n",
      "1  ZY010000182436         酒精性肝病\n",
      "2  ZY010000182436         前列腺增生\n",
      "3  ZY010000182436  慢性阻塞性肺疾病急性加重\n",
      "4  ZY010000182436          声带息肉\n"
     ]
    }
   ],
   "source": [
    "df_out_diagnose_extracted = df_out_daignose[['INPATIENT_NO','NODEVALUE']]\n",
    "print(df_out_diagnose_extracted[:5])"
   ]
  },
  {
   "cell_type": "code",
   "execution_count": 87,
   "metadata": {},
   "outputs": [
    {
     "name": "stdout",
     "output_type": "stream",
     "text": [
      "Empty DataFrame\n",
      "Columns: [关系类型, 头类型, 尾类型, 头主键名, 头主键值, 尾主键名, 尾主键值]\n",
      "Index: []\n"
     ]
    }
   ],
   "source": [
    "df_codisease_relation = pd.DataFrame(columns=['关系类型','头类型','尾类型','头主键名','头主键值','尾主键名','尾主键值'])\n",
    "print(df_codisease_relation.head())"
   ]
  },
  {
   "cell_type": "code",
   "execution_count": 88,
   "metadata": {},
   "outputs": [
    {
     "name": "stdout",
     "output_type": "stream",
     "text": [
      "Empty DataFrame\n",
      "Columns: [关系类型, 头类型, 尾类型, 头主键名, 头主键值, 尾主键名, 尾主键值]\n",
      "Index: []\n"
     ]
    }
   ],
   "source": [
    "df_notcodisease_relation = pd.DataFrame(columns=['关系类型','头类型','尾类型','头主键名','头主键值','尾主键名','尾主键值'])\n",
    "print(df_notcodisease_relation.head())"
   ]
  },
  {
   "cell_type": "code",
   "execution_count": 89,
   "metadata": {},
   "outputs": [
    {
     "name": "stdout",
     "output_type": "stream",
     "text": [
      "  关系类型 头类型  尾类型    头主键名            头主键值   尾主键名    尾主键值\n",
      "0   患病  患者  共患病  患者住院ID  ZY010000182436  共患病名称   前列腺增生\n",
      "1   患病  患者  共患病  患者住院ID  ZY010000362589  共患病名称    呼吸衰竭\n",
      "2   患病  患者  共患病  患者住院ID  ZY010000362589  共患病名称  肺源性心脏病\n",
      "3   患病  患者  共患病  患者住院ID  ZY010000362589  共患病名称   支气管扩张\n",
      "4   患病  患者  共患病  患者住院ID  ZY010000362589  共患病名称     糖尿病\n",
      "  关系类型 头类型   尾类型    头主键名            头主键值    尾主键名      尾主键值\n",
      "0   患病  患者  非共患病  患者住院ID  ZY010000182436  非共患病名称     酒精性肝病\n",
      "1   患病  患者  非共患病  患者住院ID  ZY010000182436  非共患病名称      声带息肉\n",
      "2   患病  患者  非共患病  患者住院ID  ZY010000359659  非共患病名称       结膜炎\n",
      "3   患病  患者  非共患病  患者住院ID  ZY010000361207  非共患病名称        痛风\n",
      "4   患病  患者  非共患病  患者住院ID  ZY010000361542  非共患病名称  下肢动脉粥样硬化\n"
     ]
    }
   ],
   "source": [
    "co_index = 0\n",
    "not_co_index = 0\n",
    "for index,row in df_out_diagnose_extracted.iterrows():\n",
    "    if row['NODEVALUE'] != '无':\n",
    "        head_value = row['INPATIENT_NO']\n",
    "        end_value = row['NODEVALUE']\n",
    "        if end_value in codisease_list:\n",
    "            df_codisease_relation.loc[co_index] = {'关系类型':'患病', '头类型':'患者', '尾类型':'共患病', '头主键名':'患者住院ID','头主键值':head_value, '尾主键名':'共患病名称', '尾主键值':end_value}\n",
    "            co_index += 1\n",
    "        elif end_value in notcodisease_list:\n",
    "            df_notcodisease_relation.loc[not_co_index] = {'关系类型':'患病', '头类型':'患者', '尾类型':'非共患病', '头主键名':'患者住院ID','头主键值':head_value, '尾主键名':'非共患病名称', '尾主键值':end_value}\n",
    "            not_co_index += 1\n",
    "\n",
    "print(df_codisease_relation.head())\n",
    "print(df_notcodisease_relation.head())"
   ]
  },
  {
   "cell_type": "code",
   "execution_count": 90,
   "metadata": {},
   "outputs": [],
   "source": [
    "df_codisease_relation.to_csv(r'./患者与共患病关系.csv',index=False,sep=',')\n",
    "df_notcodisease_relation.to_csv(r'./患者与非共患病关系.csv',index=False,sep=',')"
   ]
  },
  {
   "cell_type": "markdown",
   "metadata": {},
   "source": [
    "# 病人唯一住院ID实体列表提取"
   ]
  },
  {
   "cell_type": "code",
   "execution_count": 91,
   "metadata": {},
   "outputs": [
    {
     "data": {
      "text/html": [
       "<div>\n",
       "<style scoped>\n",
       "    .dataframe tbody tr th:only-of-type {\n",
       "        vertical-align: middle;\n",
       "    }\n",
       "\n",
       "    .dataframe tbody tr th {\n",
       "        vertical-align: top;\n",
       "    }\n",
       "\n",
       "    .dataframe thead th {\n",
       "        text-align: right;\n",
       "    }\n",
       "</style>\n",
       "<table border=\"1\" class=\"dataframe\">\n",
       "  <thead>\n",
       "    <tr style=\"text-align: right;\">\n",
       "      <th></th>\n",
       "      <th>D_MAIN_DIA_STATUS</th>\n",
       "      <th>HOSPITAL_CODE</th>\n",
       "      <th>HOSPITAL_NAME</th>\n",
       "      <th>H_CARD_NO</th>\n",
       "      <th>MR_NO</th>\n",
       "      <th>PATIENT_ID</th>\n",
       "      <th>PATIENT_NO</th>\n",
       "      <th>VISIT_NO</th>\n",
       "      <th>INPATIENT_NO</th>\n",
       "      <th>FEE_TYPE</th>\n",
       "      <th>...</th>\n",
       "      <th>ANE_DOCTOR2_CODE</th>\n",
       "      <th>SEQ_ID</th>\n",
       "      <th>DATA_VERSION</th>\n",
       "      <th>CHILD_OPERATION_FEE</th>\n",
       "      <th>C_PHYSIO_FEE</th>\n",
       "      <th>ANAES_FEE</th>\n",
       "      <th>ICU</th>\n",
       "      <th>ICU_DAY</th>\n",
       "      <th>D_STRUCTURING_DIA</th>\n",
       "      <th>PATI_ID</th>\n",
       "    </tr>\n",
       "  </thead>\n",
       "  <tbody>\n",
       "    <tr>\n",
       "      <th>0</th>\n",
       "      <td>NaN</td>\n",
       "      <td>12440100455344205E</td>\n",
       "      <td>广州医科大学附属第一医院</td>\n",
       "      <td>NaN</td>\n",
       "      <td>NaN</td>\n",
       "      <td>0000574609</td>\n",
       "      <td>295315</td>\n",
       "      <td>6</td>\n",
       "      <td>ZY060000295315</td>\n",
       "      <td>医保</td>\n",
       "      <td>...</td>\n",
       "      <td>NaN</td>\n",
       "      <td>190</td>\n",
       "      <td>0</td>\n",
       "      <td>0.0</td>\n",
       "      <td>0.0</td>\n",
       "      <td>0.0</td>\n",
       "      <td>NaN</td>\n",
       "      <td>NaN</td>\n",
       "      <td>NaN</td>\n",
       "      <td>NaN</td>\n",
       "    </tr>\n",
       "    <tr>\n",
       "      <th>1</th>\n",
       "      <td>NaN</td>\n",
       "      <td>12440100455344205E</td>\n",
       "      <td>广州医科大学附属第一医院</td>\n",
       "      <td>NaN</td>\n",
       "      <td>NaN</td>\n",
       "      <td>0000906345</td>\n",
       "      <td>338471</td>\n",
       "      <td>5</td>\n",
       "      <td>ZY060000338471</td>\n",
       "      <td>医保</td>\n",
       "      <td>...</td>\n",
       "      <td>NaN</td>\n",
       "      <td>192</td>\n",
       "      <td>0</td>\n",
       "      <td>0.0</td>\n",
       "      <td>0.0</td>\n",
       "      <td>0.0</td>\n",
       "      <td>NaN</td>\n",
       "      <td>NaN</td>\n",
       "      <td>NaN</td>\n",
       "      <td>NaN</td>\n",
       "    </tr>\n",
       "    <tr>\n",
       "      <th>2</th>\n",
       "      <td>NaN</td>\n",
       "      <td>12440100455344205E</td>\n",
       "      <td>广州医科大学附属第一医院</td>\n",
       "      <td>NaN</td>\n",
       "      <td>NaN</td>\n",
       "      <td>0000882476</td>\n",
       "      <td>341147</td>\n",
       "      <td>5</td>\n",
       "      <td>ZY050000341147</td>\n",
       "      <td>医保</td>\n",
       "      <td>...</td>\n",
       "      <td>NaN</td>\n",
       "      <td>358</td>\n",
       "      <td>0</td>\n",
       "      <td>0.0</td>\n",
       "      <td>0.0</td>\n",
       "      <td>0.0</td>\n",
       "      <td>NaN</td>\n",
       "      <td>NaN</td>\n",
       "      <td>NaN</td>\n",
       "      <td>NaN</td>\n",
       "    </tr>\n",
       "    <tr>\n",
       "      <th>3</th>\n",
       "      <td>NaN</td>\n",
       "      <td>12440100455344205E</td>\n",
       "      <td>广州医科大学附属第一医院</td>\n",
       "      <td>NaN</td>\n",
       "      <td>NaN</td>\n",
       "      <td>0000841606</td>\n",
       "      <td>329288</td>\n",
       "      <td>2</td>\n",
       "      <td>ZY020000329288</td>\n",
       "      <td>医保</td>\n",
       "      <td>...</td>\n",
       "      <td>NaN</td>\n",
       "      <td>224</td>\n",
       "      <td>0</td>\n",
       "      <td>0.0</td>\n",
       "      <td>0.0</td>\n",
       "      <td>0.0</td>\n",
       "      <td>NaN</td>\n",
       "      <td>NaN</td>\n",
       "      <td>NaN</td>\n",
       "      <td>NaN</td>\n",
       "    </tr>\n",
       "    <tr>\n",
       "      <th>4</th>\n",
       "      <td>NaN</td>\n",
       "      <td>12440100455344205E</td>\n",
       "      <td>广州医科大学附属第一医院</td>\n",
       "      <td>NaN</td>\n",
       "      <td>NaN</td>\n",
       "      <td>0080213699</td>\n",
       "      <td>350407</td>\n",
       "      <td>2</td>\n",
       "      <td>ZY020000350407</td>\n",
       "      <td>自费</td>\n",
       "      <td>...</td>\n",
       "      <td>NaN</td>\n",
       "      <td>226</td>\n",
       "      <td>0</td>\n",
       "      <td>0.0</td>\n",
       "      <td>0.0</td>\n",
       "      <td>0.0</td>\n",
       "      <td>NaN</td>\n",
       "      <td>NaN</td>\n",
       "      <td>NaN</td>\n",
       "      <td>NaN</td>\n",
       "    </tr>\n",
       "  </tbody>\n",
       "</table>\n",
       "<p>5 rows × 204 columns</p>\n",
       "</div>"
      ],
      "text/plain": [
       "   D_MAIN_DIA_STATUS       HOSPITAL_CODE HOSPITAL_NAME  H_CARD_NO  MR_NO  \\\n",
       "0                NaN  12440100455344205E  广州医科大学附属第一医院        NaN    NaN   \n",
       "1                NaN  12440100455344205E  广州医科大学附属第一医院        NaN    NaN   \n",
       "2                NaN  12440100455344205E  广州医科大学附属第一医院        NaN    NaN   \n",
       "3                NaN  12440100455344205E  广州医科大学附属第一医院        NaN    NaN   \n",
       "4                NaN  12440100455344205E  广州医科大学附属第一医院        NaN    NaN   \n",
       "\n",
       "   PATIENT_ID  PATIENT_NO  VISIT_NO    INPATIENT_NO FEE_TYPE   ...    \\\n",
       "0  0000574609      295315         6  ZY060000295315       医保   ...     \n",
       "1  0000906345      338471         5  ZY060000338471       医保   ...     \n",
       "2  0000882476      341147         5  ZY050000341147       医保   ...     \n",
       "3  0000841606      329288         2  ZY020000329288       医保   ...     \n",
       "4  0080213699      350407         2  ZY020000350407       自费   ...     \n",
       "\n",
       "  ANE_DOCTOR2_CODE SEQ_ID DATA_VERSION CHILD_OPERATION_FEE C_PHYSIO_FEE  \\\n",
       "0              NaN    190            0                 0.0          0.0   \n",
       "1              NaN    192            0                 0.0          0.0   \n",
       "2              NaN    358            0                 0.0          0.0   \n",
       "3              NaN    224            0                 0.0          0.0   \n",
       "4              NaN    226            0                 0.0          0.0   \n",
       "\n",
       "  ANAES_FEE ICU ICU_DAY D_STRUCTURING_DIA PATI_ID  \n",
       "0       0.0 NaN     NaN               NaN     NaN  \n",
       "1       0.0 NaN     NaN               NaN     NaN  \n",
       "2       0.0 NaN     NaN               NaN     NaN  \n",
       "3       0.0 NaN     NaN               NaN     NaN  \n",
       "4       0.0 NaN     NaN               NaN     NaN  \n",
       "\n",
       "[5 rows x 204 columns]"
      ]
     },
     "execution_count": 91,
     "metadata": {},
     "output_type": "execute_result"
    }
   ],
   "source": [
    "df_homepage = pd.read_excel('病案首页inp_mr_front_sheet.xlsx', sheet_name='Sheet1')\n",
    "df_homepage.head()"
   ]
  },
  {
   "cell_type": "code",
   "execution_count": 92,
   "metadata": {},
   "outputs": [
    {
     "name": "stdout",
     "output_type": "stream",
     "text": [
      "3051\n"
     ]
    }
   ],
   "source": [
    "print(len(df_homepage))"
   ]
  },
  {
   "cell_type": "code",
   "execution_count": 93,
   "metadata": {},
   "outputs": [
    {
     "name": "stdout",
     "output_type": "stream",
     "text": [
      "Empty DataFrame\n",
      "Columns: [实体类型, 主键名, 主键值, 患者所在医院, 患者ID]\n",
      "Index: []\n"
     ]
    }
   ],
   "source": [
    "df_patient_entry = pd.DataFrame(columns=['实体类型','主键名','主键值','患者所在医院','患者ID'])\n",
    "print(df_patient_entry.head())"
   ]
  },
  {
   "cell_type": "code",
   "execution_count": 94,
   "metadata": {},
   "outputs": [
    {
     "name": "stdout",
     "output_type": "stream",
     "text": [
      "3051\n",
      "   D_MAIN_DIA_STATUS       HOSPITAL_CODE HOSPITAL_NAME  H_CARD_NO  MR_NO  \\\n",
      "0                NaN  12440100455344205E  广州医科大学附属第一医院        NaN    NaN   \n",
      "1                NaN  12440100455344205E  广州医科大学附属第一医院        NaN    NaN   \n",
      "2                NaN  12440100455344205E  广州医科大学附属第一医院        NaN    NaN   \n",
      "3                NaN  12440100455344205E  广州医科大学附属第一医院        NaN    NaN   \n",
      "4                NaN  12440100455344205E  广州医科大学附属第一医院        NaN    NaN   \n",
      "\n",
      "   PATIENT_ID  PATIENT_NO  VISIT_NO    INPATIENT_NO FEE_TYPE   ...    \\\n",
      "0  0000574609      295315         6  ZY060000295315       医保   ...     \n",
      "1  0000906345      338471         5  ZY060000338471       医保   ...     \n",
      "2  0000882476      341147         5  ZY050000341147       医保   ...     \n",
      "3  0000841606      329288         2  ZY020000329288       医保   ...     \n",
      "4  0080213699      350407         2  ZY020000350407       自费   ...     \n",
      "\n",
      "  ANE_DOCTOR2_CODE SEQ_ID DATA_VERSION CHILD_OPERATION_FEE C_PHYSIO_FEE  \\\n",
      "0              NaN    190            0                 0.0          0.0   \n",
      "1              NaN    192            0                 0.0          0.0   \n",
      "2              NaN    358            0                 0.0          0.0   \n",
      "3              NaN    224            0                 0.0          0.0   \n",
      "4              NaN    226            0                 0.0          0.0   \n",
      "\n",
      "  ANAES_FEE ICU ICU_DAY D_STRUCTURING_DIA PATI_ID  \n",
      "0       0.0 NaN     NaN               NaN     NaN  \n",
      "1       0.0 NaN     NaN               NaN     NaN  \n",
      "2       0.0 NaN     NaN               NaN     NaN  \n",
      "3       0.0 NaN     NaN               NaN     NaN  \n",
      "4       0.0 NaN     NaN               NaN     NaN  \n",
      "\n",
      "[5 rows x 204 columns]\n"
     ]
    }
   ],
   "source": [
    "df_homepage = df_homepage.drop_duplicates(['INPATIENT_NO'])\n",
    "print(len(df_homepage))\n",
    "print(df_homepage.head())"
   ]
  },
  {
   "cell_type": "code",
   "execution_count": 95,
   "metadata": {},
   "outputs": [
    {
     "name": "stdout",
     "output_type": "stream",
     "text": [
      "3051\n",
      "  实体类型     主键名             主键值        患者所在医院        患者ID\n",
      "0   患者  患者住院ID  ZY060000295315  广州医科大学附属第一医院  0000574609\n",
      "1   患者  患者住院ID  ZY060000338471  广州医科大学附属第一医院  0000906345\n",
      "2   患者  患者住院ID  ZY050000341147  广州医科大学附属第一医院  0000882476\n",
      "3   患者  患者住院ID  ZY020000329288  广州医科大学附属第一医院  0000841606\n",
      "4   患者  患者住院ID  ZY020000350407  广州医科大学附属第一医院  0080213699\n"
     ]
    }
   ],
   "source": [
    "for index,row in df_homepage.iterrows():\n",
    "    df_patient_entry.loc[index] = {'实体类型':'患者', '主键名':'患者住院ID', '主键值':row['INPATIENT_NO'], '患者所在医院':row['HOSPITAL_NAME'], '患者ID':row['PATIENT_ID']}\n",
    "\n",
    "print(len(df_patient_entry))\n",
    "print(df_patient_entry.head())"
   ]
  },
  {
   "cell_type": "code",
   "execution_count": 96,
   "metadata": {},
   "outputs": [],
   "source": [
    "df_patient_entry.to_csv(r'./患者实体列表.csv',index=False,sep=',')"
   ]
  },
  {
   "cell_type": "markdown",
   "metadata": {},
   "source": [
    "# 构建知识图谱流程"
   ]
  },
  {
   "cell_type": "code",
   "execution_count": 1,
   "metadata": {},
   "outputs": [],
   "source": [
    "from py2neo import Graph,Node, Relationship"
   ]
  },
  {
   "cell_type": "code",
   "execution_count": 3,
   "metadata": {},
   "outputs": [
    {
     "name": "stdout",
     "output_type": "stream",
     "text": [
      "(:Person {name: 'Alice'}) (:Person {name: 'Bob'}) (Alice)-[:KNOWS {}]->(Bob)\n"
     ]
    }
   ],
   "source": [
    "a = Node('Person', name='Alice')\n",
    "b = Node('Person', name='Bob')\n",
    "r = Relationship(a, 'KNOWS', b)\n",
    "print(a, b, r)"
   ]
  },
  {
   "cell_type": "code",
   "execution_count": 4,
   "metadata": {},
   "outputs": [
    {
     "name": "stdout",
     "output_type": "stream",
     "text": [
      "(:Person {age: 20, name: 'Alice'}) (:Person {age: 21, name: 'Bob'}) (Alice)-[:KNOWS {time: '2017/08/31'}]->(Bob)\n"
     ]
    }
   ],
   "source": [
    "a['age'] = 20\n",
    "b['age'] = 21\n",
    "r['time'] = '2017/08/31'\n",
    "print(a, b, r)"
   ]
  },
  {
   "cell_type": "code",
   "execution_count": 7,
   "metadata": {},
   "outputs": [
    {
     "name": "stdout",
     "output_type": "stream",
     "text": [
      "(:Person {age: 20, location: '\\u5317\\u4eac', name: 'Alice'})\n"
     ]
    }
   ],
   "source": [
    "a.setdefault('location', 'beijing')\n",
    "print(a)"
   ]
  },
  {
   "cell_type": "code",
   "execution_count": 9,
   "metadata": {},
   "outputs": [
    {
     "name": "stdout",
     "output_type": "stream",
     "text": [
      "(:Person {age: 20, location: 'shanghai', name: 'Alice'})\n"
     ]
    }
   ],
   "source": [
    "a['location'] = 'shanghai'\n",
    "a.setdefault('location', '北京')\n",
    "print(a)"
   ]
  },
  {
   "cell_type": "code",
   "execution_count": 11,
   "metadata": {},
   "outputs": [
    {
     "name": "stdout",
     "output_type": "stream",
     "text": [
      "(:Person {age: 25, location: 'shanghai', name: 'Kara'})\n"
     ]
    }
   ],
   "source": [
    "data = {\n",
    "    'age': 25,\n",
    "    'name': 'Kara'\n",
    "}\n",
    "a.update(data)\n",
    "print(a)"
   ]
  },
  {
   "cell_type": "code",
   "execution_count": 14,
   "metadata": {},
   "outputs": [
    {
     "name": "stdout",
     "output_type": "stream",
     "text": [
      "<py2neo.data.Subgraph object at 0x000001B906487E48>\n"
     ]
    }
   ],
   "source": [
    "a = Node('Person', name='Alice')\n",
    "b = Node('Person', name='Bob')\n",
    "r = Relationship(a, 'KNOWS', b)\n",
    "s = a | b | r\n",
    "print(s)"
   ]
  },
  {
   "cell_type": "code",
   "execution_count": 16,
   "metadata": {},
   "outputs": [
    {
     "name": "stdout",
     "output_type": "stream",
     "text": [
      "<py2neo.internal.collections.SetView object at 0x000001B906487898>\n",
      "<py2neo.internal.collections.SetView object at 0x000001B906487DA0>\n"
     ]
    }
   ],
   "source": [
    "print(s.nodes)\n",
    "print(s.relationships)"
   ]
  },
  {
   "cell_type": "code",
   "execution_count": 17,
   "metadata": {},
   "outputs": [
    {
     "name": "stdout",
     "output_type": "stream",
     "text": [
      "<py2neo.data.Subgraph object at 0x000001B90649F080>\n"
     ]
    }
   ],
   "source": [
    "s1 = a | b | r\n",
    "s2 = a | b\n",
    "print(s1 & s2)"
   ]
  },
  {
   "cell_type": "code",
   "execution_count": 18,
   "metadata": {},
   "outputs": [
    {
     "name": "stdout",
     "output_type": "stream",
     "text": [
      "<bound method Subgraph.keys of <py2neo.data.Subgraph object at 0x000001B90649F550>>\n",
      "frozenset({'Person'})\n",
      "<py2neo.internal.collections.SetView object at 0x000001B90649F4E0>\n",
      "<py2neo.internal.collections.SetView object at 0x000001B906487E48>\n",
      "<bound method Subgraph.types of <py2neo.data.Subgraph object at 0x000001B90649F550>>\n"
     ]
    }
   ],
   "source": [
    "s = a | b | r\n",
    "print(s.keys)\n",
    "print(s.labels)\n",
    "print(s.nodes)\n",
    "print(s.relationships)\n",
    "print(s.types)"
   ]
  },
  {
   "cell_type": "code",
   "execution_count": 23,
   "metadata": {},
   "outputs": [],
   "source": [
    "from py2neo import Node, Relationship\n",
    " \n",
    "a = Node('Person', name='Alice')\n",
    "b = Node('Person', name='Bob')\n",
    "c = Node('Person', name='Mike')\n",
    "ab = Relationship(a, \"KNOWS\", b)\n",
    "ac = Relationship(a, \"KNOWS\", c)\n",
    "w = ab + Relationship(b, \"LIKES\", c) + ac\n",
    "# print(w)"
   ]
  },
  {
   "cell_type": "code",
   "execution_count": 24,
   "metadata": {},
   "outputs": [],
   "source": [
    "from py2neo import Graph, Node, Relationship\n",
    " \n",
    "graph = Graph(password='123456')\n",
    "a = Node('Person', name='Alice')\n",
    "graph.create(a)\n",
    "b = Node('Person', name='Bob')\n",
    "ab = Relationship(a, 'KNOWS', b)\n",
    "graph.create(ab)"
   ]
  },
  {
   "cell_type": "code",
   "execution_count": 33,
   "metadata": {},
   "outputs": [
    {
     "name": "stdout",
     "output_type": "stream",
     "text": [
      "[{'p': (_0:Person {name: 'Eric'})}, {'p': (_40:Person {name: 'Alice'})}, {'p': (_60:Person {name: 'Bob'})}]\n"
     ]
    }
   ],
   "source": [
    "graph = Graph(password='123456')\n",
    "data = graph.run('MATCH (p:Person) return p').data()\n",
    "print(data)"
   ]
  },
  {
   "cell_type": "code",
   "execution_count": 49,
   "metadata": {},
   "outputs": [
    {
     "name": "stdout",
     "output_type": "stream",
     "text": [
      "                   p\n",
      "0   {'name': 'Eric'}\n",
      "1  {'name': 'Alice'}\n",
      "2    {'name': 'Bob'}\n"
     ]
    }
   ],
   "source": [
    "from pandas import DataFrame\n",
    "\n",
    "graph = Graph(password='123456')\n",
    "data = graph.run('MATCH (p:Person) return p').data()\n",
    "df = DataFrame(data)\n",
    "print(df)"
   ]
  },
  {
   "cell_type": "code",
   "execution_count": 52,
   "metadata": {},
   "outputs": [
    {
     "name": "stdout",
     "output_type": "stream",
     "text": [
      "[(_0:Person {name: 'Eric'}), (_40:Person {name: 'Alice'}), (_60:Person {name: 'Bob'})]\n",
      "(Alice)-[:KNOWS {}]->(Bob)\n"
     ]
    }
   ],
   "source": [
    "graph = Graph(password='123456')\n",
    "# node = graph.find_one(label='Person')\n",
    "node = graph.nodes.match(\"Person\")\n",
    "print(list(node))\n",
    "relationship = graph.match_one(r_type='KNOWS')\n",
    "print(relationship)"
   ]
  },
  {
   "cell_type": "code",
   "execution_count": 58,
   "metadata": {},
   "outputs": [
    {
     "name": "stdout",
     "output_type": "stream",
     "text": [
      "(_0:Person {name: 'Eric'})\n",
      "(_0:Person {age: 21, name: 'Eric'})\n"
     ]
    }
   ],
   "source": [
    "from py2neo import Graph, Node\n",
    " \n",
    "graph = Graph(password='123456')\n",
    "a = Node('Person', name='Alice')\n",
    "node = graph.nodes.match('Person').first()\n",
    "print(node)\n",
    "node['age'] = 21\n",
    "graph.push(node)\n",
    "print(graph.nodes.match('Person').first())"
   ]
  },
  {
   "cell_type": "code",
   "execution_count": 61,
   "metadata": {},
   "outputs": [
    {
     "name": "stdout",
     "output_type": "stream",
     "text": [
      "(_40:Person {name: 'Alice'})\n",
      "(Alice)-[:KNOWS {}]->(Bob)\n"
     ]
    }
   ],
   "source": [
    "graph = Graph(password='123456')\n",
    "node = graph.nodes.match('Person',name='Alice').first()\n",
    "print(node)\n",
    "relationship = graph.match_one(r_type='KNOWS')\n",
    "print(relationship)\n",
    "graph.delete(relationship)\n",
    "graph.delete(node)"
   ]
  },
  {
   "cell_type": "code",
   "execution_count": 62,
   "metadata": {},
   "outputs": [
    {
     "name": "stdout",
     "output_type": "stream",
     "text": [
      "[<Record p=(_0:Person {age: 21, name: 'Eric'})>]\n"
     ]
    }
   ],
   "source": [
    "graph = Graph(password='123456')\n",
    "data = graph.run('MATCH (p:Person) RETURN p LIMIT 5')\n",
    "print(list(data))"
   ]
  },
  {
   "cell_type": "code",
   "execution_count": 63,
   "metadata": {},
   "outputs": [],
   "source": [
    "graph = Graph(password='123456')\n",
    "a = Node('Person', name='Alice', age=21, location='guangzhou')\n",
    "b = Node('Person', name='Bob', age=22, location='shanghai')\n",
    "c = Node('Person', name='Mike', age=21, location='beijing')\n",
    "r1 = Relationship(a, 'KNOWS', b)\n",
    "r2 = Relationship(b, 'KNOWS', c)\n",
    "graph.create(a)\n",
    "graph.create(r1)\n",
    "graph.create(r2)"
   ]
  },
  {
   "cell_type": "code",
   "execution_count": 69,
   "metadata": {},
   "outputs": [
    {
     "name": "stdout",
     "output_type": "stream",
     "text": [
      "[(_0:Person {age: 21, name: 'Eric'}), (_40:Person {age: 21, location: 'guangzhou', name: 'Alice'}), (_80:Person {age: 21, location: 'beijing', name: 'Mike'})]\n"
     ]
    }
   ],
   "source": [
    "from py2neo import NodeMatcher\n",
    "graph = Graph(password='123456')\n",
    "matcher = NodeMatcher(graph)\n",
    "persons = matcher.match('Person', age=21)\n",
    "print(list(persons))"
   ]
  },
  {
   "cell_type": "code",
   "execution_count": 70,
   "metadata": {},
   "outputs": [
    {
     "name": "stdout",
     "output_type": "stream",
     "text": [
      "[(_40:Person {age: 21, location: 'guangzhou', name: 'Alice'})]\n"
     ]
    }
   ],
   "source": [
    "persons = matcher.match('Person').where('_.name =~ \"A.*\"')\n",
    "print(list(persons))"
   ]
  },
  {
   "cell_type": "code",
   "execution_count": 71,
   "metadata": {},
   "outputs": [
    {
     "name": "stdout",
     "output_type": "stream",
     "text": [
      "[(_0:Person {age: 21, name: 'Eric'}), (_40:Person {age: 21, location: 'guangzhou', name: 'Alice'}), (_80:Person {age: 21, location: 'beijing', name: 'Mike'}), (_79:Person {age: 22, location: 'shanghai', name: 'Bob'})]\n"
     ]
    }
   ],
   "source": [
    "persons = matcher.match('Person').order_by('_.age')\n",
    "print(list(persons))"
   ]
  },
  {
   "cell_type": "code",
   "execution_count": 72,
   "metadata": {},
   "outputs": [
    {
     "name": "stdout",
     "output_type": "stream",
     "text": [
      "(_40:Person {age: 21, location: 'guangzhou', name: 'Alice'})\n"
     ]
    }
   ],
   "source": [
    "person = matcher.match('Person').where('_.name =~ \"A.*\"').first()\n",
    "print(person)"
   ]
  },
  {
   "cell_type": "markdown",
   "metadata": {},
   "source": [
    "# OGM: OGM 类似于 ORM，意为 Object Graph Mapping，这样可以实现一个对象和 Node 的关联"
   ]
  },
  {
   "cell_type": "code",
   "execution_count": 73,
   "metadata": {},
   "outputs": [],
   "source": [
    "from py2neo.ogm import GraphObject, Property, RelatedTo, RelatedFrom\n",
    " \n",
    " \n",
    "class Movie(GraphObject):\n",
    "    __primarykey__ = 'title'\n",
    " \n",
    "    title = Property()\n",
    "    released = Property()\n",
    "    actors = RelatedFrom('Person', 'ACTED_IN')\n",
    "    directors = RelatedFrom('Person', 'DIRECTED')\n",
    "    producers = RelatedFrom('Person', 'PRODUCED')\n",
    " \n",
    "class Person(GraphObject):\n",
    "    __primarykey__ = 'name'\n",
    " \n",
    "    name = Property()\n",
    "    born = Property()\n",
    "    acted_in = RelatedTo('Movie')\n",
    "    directed = RelatedTo('Movie')\n",
    "    produced = RelatedTo('Movie')"
   ]
  },
  {
   "cell_type": "code",
   "execution_count": 75,
   "metadata": {},
   "outputs": [
    {
     "name": "stdout",
     "output_type": "stream",
     "text": [
      "<Person name='Eric'>\n",
      "Eric\n",
      "21\n"
     ]
    }
   ],
   "source": [
    "graph = Graph(password='123456')\n",
    " \n",
    " \n",
    "class Person(GraphObject):\n",
    "    __primarykey__ = 'name'\n",
    " \n",
    "    name = Property()\n",
    "    age = Property()\n",
    "    location = Property()\n",
    " \n",
    "person = Person.match(graph).where(age=21).first()\n",
    "print(person)\n",
    "print(person.name)\n",
    "print(person.age)"
   ]
  },
  {
   "cell_type": "code",
   "execution_count": 76,
   "metadata": {},
   "outputs": [
    {
     "name": "stdout",
     "output_type": "stream",
     "text": [
      "(_0:Person {age: 21, name: 'Eric'})\n",
      "(_0:Person {age: 22, name: 'Eric'})\n"
     ]
    }
   ],
   "source": [
    "person = Person.match(graph).where(age=21).first()\n",
    "print(person.__ogm__.node)\n",
    "person.age = 22\n",
    "print(person.__ogm__.node)\n",
    "graph.push(person)"
   ]
  },
  {
   "cell_type": "code",
   "execution_count": 77,
   "metadata": {},
   "outputs": [
    {
     "name": "stdout",
     "output_type": "stream",
     "text": [
      "[<Person name='Bob'>]\n",
      "[<Person name='Bob'>, <Person name='Durant'>]\n"
     ]
    }
   ],
   "source": [
    "class Person(GraphObject):\n",
    "    __primarykey__ = 'name'\n",
    " \n",
    "    name = Property()\n",
    "    age = Property()\n",
    "    location = Property()\n",
    "    knows = RelatedTo('Person', 'KNOWS')\n",
    " \n",
    "person = Person.match(graph).where(age=21).first()\n",
    "print(list(person.knows))\n",
    "new_person = Person()\n",
    "new_person.name = 'Durant'\n",
    "new_person.age = 28\n",
    "person.knows.add(new_person)\n",
    "print(list(person.knows))"
   ]
  },
  {
   "cell_type": "code",
   "execution_count": 78,
   "metadata": {},
   "outputs": [],
   "source": [
    "graph.push(person)"
   ]
  },
  {
   "cell_type": "code",
   "execution_count": null,
   "metadata": {},
   "outputs": [],
   "source": [
    "person = Person.match(graph).where(name='Alice').first()\n",
    "target = Person.match(graph).where(name='Durant').first()\n",
    "person.knows.remove(target)\n",
    "graph.push(person)\n",
    "graph.delete(target)"
   ]
  },
  {
   "cell_type": "markdown",
   "metadata": {},
   "source": [
    "# Node2Vec 节点向量化"
   ]
  },
  {
   "cell_type": "code",
   "execution_count": 4,
   "metadata": {},
   "outputs": [
    {
     "name": "stderr",
     "output_type": "stream",
     "text": [
      "Computing transition probabilities: 100%|████████████████████████████████████████████| 100/100 [00:01<00:00, 78.76it/s]\n",
      "Generating walks (CPU: 1): 100%|█████████████████████████████████████████████████████| 200/200 [00:28<00:00,  7.39it/s]\n",
      "D:\\program\\Anaconda\\lib\\site-packages\\gensim\\matutils.py:737: FutureWarning: Conversion of the second argument of issubdtype from `int` to `np.signedinteger` is deprecated. In future, it will be treated as `np.int32 == np.dtype(int).type`.\n",
      "  if np.issubdtype(vec.dtype, np.int):\n",
      "Generating edge features: 100%|██████████████████████████████████████████████| 5050/5050.0 [00:00<00:00, 126588.15it/s]\n"
     ]
    }
   ],
   "source": [
    "EMBEDDING_FILENAME = 'Node2VecDemoEmbedding.txt'\n",
    "EMBEDDING_MODEL_FILENAME = 'Node2VecDemoEmbeddingModel.txt'\n",
    "EDGES_EMBEDDING_FILENAME = 'Node2VecDemoEdgesEmbedding.txt'\n",
    "\n",
    "import networkx as nx\n",
    "from node2vec import Node2Vec\n",
    "\n",
    "# Create a graph\n",
    "graph = nx.fast_gnp_random_graph(n=100, p=0.5)\n",
    "\n",
    "# Precompute probabilities and generate walks - **ON WINDOWS ONLY WORKS WITH workers=1**\n",
    "node2vec = Node2Vec(graph, dimensions=64, walk_length=30, num_walks=200, workers=1) \n",
    "\n",
    "# Embed nodes\n",
    "model = node2vec.fit(window=10, min_count=1, batch_words=4)  # Any keywords acceptable by gensim.Word2Vec can be passed, `diemnsions` and `workers` are automatically passed (from the Node2Vec constructor)\n",
    "\n",
    "# Look for most similar nodes\n",
    "model.wv.most_similar('2')  # Output node names are always strings\n",
    "\n",
    "# Save embeddings for later use\n",
    "model.wv.save_word2vec_format(EMBEDDING_FILENAME)\n",
    "\n",
    "# Save model for later use\n",
    "model.save(EMBEDDING_MODEL_FILENAME)\n",
    "\n",
    "# Embed edges using Hadamard method\n",
    "from node2vec.edges import HadamardEmbedder\n",
    "\n",
    "edges_embs = HadamardEmbedder(keyed_vectors=model.wv)\n",
    "\n",
    "# Look for embeddings on the fly - here we pass normal tuples\n",
    "edges_embs[('1', '2')]\n",
    "''' OUTPUT\n",
    "array([ 5.75068220e-03, -1.10937878e-02,  3.76693785e-01,  2.69105062e-02,\n",
    "       ... ... ....\n",
    "       ..................................................................],\n",
    "      dtype=float32)\n",
    "'''\n",
    "\n",
    "# Get all edges in a separate KeyedVectors instance - use with caution could be huge for big networks\n",
    "edges_kv = edges_embs.as_keyed_vectors()\n",
    "\n",
    "# Look for most similar edges - this time tuples must be sorted and as str\n",
    "edges_kv.most_similar(str(('1', '2')))\n",
    "\n",
    "# Save embeddings for later use\n",
    "edges_kv.save_word2vec_format(EDGES_EMBEDDING_FILENAME)"
   ]
  },
  {
   "cell_type": "code",
   "execution_count": null,
   "metadata": {},
   "outputs": [],
   "source": []
  }
 ],
 "metadata": {
  "kernelspec": {
   "display_name": "Python 3",
   "language": "python",
   "name": "python3"
  },
  "language_info": {
   "codemirror_mode": {
    "name": "ipython",
    "version": 3
   },
   "file_extension": ".py",
   "mimetype": "text/x-python",
   "name": "python",
   "nbconvert_exporter": "python",
   "pygments_lexer": "ipython3",
   "version": "3.6.6"
  }
 },
 "nbformat": 4,
 "nbformat_minor": 2
}

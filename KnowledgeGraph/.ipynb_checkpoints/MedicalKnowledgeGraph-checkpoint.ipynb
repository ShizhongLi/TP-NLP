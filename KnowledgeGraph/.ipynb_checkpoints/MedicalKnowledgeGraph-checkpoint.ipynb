{
 "cells": [
  {
   "cell_type": "code",
   "execution_count": 1,
   "metadata": {},
   "outputs": [],
   "source": [
    "from py2neo import Graph,Node, Relationship\n"
   ]
  },
  {
   "cell_type": "code",
   "execution_count": 3,
   "metadata": {},
   "outputs": [
    {
     "name": "stdout",
     "output_type": "stream",
     "text": [
      "(:Person {name: 'Alice'}) (:Person {name: 'Bob'}) (Alice)-[:KNOWS {}]->(Bob)\n"
     ]
    }
   ],
   "source": [
    "a = Node('Person', name='Alice')\n",
    "b = Node('Person', name='Bob')\n",
    "r = Relationship(a, 'KNOWS', b)\n",
    "print(a, b, r)"
   ]
  },
  {
   "cell_type": "code",
   "execution_count": 4,
   "metadata": {},
   "outputs": [
    {
     "name": "stdout",
     "output_type": "stream",
     "text": [
      "(:Person {age: 20, name: 'Alice'}) (:Person {age: 21, name: 'Bob'}) (Alice)-[:KNOWS {time: '2017/08/31'}]->(Bob)\n"
     ]
    }
   ],
   "source": [
    "a['age'] = 20\n",
    "b['age'] = 21\n",
    "r['time'] = '2017/08/31'\n",
    "print(a, b, r)"
   ]
  },
  {
   "cell_type": "code",
   "execution_count": 7,
   "metadata": {},
   "outputs": [
    {
     "name": "stdout",
     "output_type": "stream",
     "text": [
      "(:Person {age: 20, location: '\\u5317\\u4eac', name: 'Alice'})\n"
     ]
    }
   ],
   "source": [
    "a.setdefault('location', 'beijing')\n",
    "print(a)"
   ]
  },
  {
   "cell_type": "code",
   "execution_count": 9,
   "metadata": {},
   "outputs": [
    {
     "name": "stdout",
     "output_type": "stream",
     "text": [
      "(:Person {age: 20, location: 'shanghai', name: 'Alice'})\n"
     ]
    }
   ],
   "source": [
    "a['location'] = 'shanghai'\n",
    "a.setdefault('location', '北京')\n",
    "print(a)"
   ]
  },
  {
   "cell_type": "code",
   "execution_count": 11,
   "metadata": {},
   "outputs": [
    {
     "name": "stdout",
     "output_type": "stream",
     "text": [
      "(:Person {age: 25, location: 'shanghai', name: 'Kara'})\n"
     ]
    }
   ],
   "source": [
    "data = {\n",
    "    'age': 25,\n",
    "    'name': 'Kara'\n",
    "}\n",
    "a.update(data)\n",
    "print(a)"
   ]
  },
  {
   "cell_type": "code",
   "execution_count": 14,
   "metadata": {},
   "outputs": [
    {
     "name": "stdout",
     "output_type": "stream",
     "text": [
      "<py2neo.data.Subgraph object at 0x000001B906487E48>\n"
     ]
    }
   ],
   "source": [
    "a = Node('Person', name='Alice')\n",
    "b = Node('Person', name='Bob')\n",
    "r = Relationship(a, 'KNOWS', b)\n",
    "s = a | b | r\n",
    "print(s)"
   ]
  },
  {
   "cell_type": "code",
   "execution_count": 16,
   "metadata": {},
   "outputs": [
    {
     "name": "stdout",
     "output_type": "stream",
     "text": [
      "<py2neo.internal.collections.SetView object at 0x000001B906487898>\n",
      "<py2neo.internal.collections.SetView object at 0x000001B906487DA0>\n"
     ]
    }
   ],
   "source": [
    "print(s.nodes)\n",
    "print(s.relationships)"
   ]
  },
  {
   "cell_type": "code",
   "execution_count": 17,
   "metadata": {},
   "outputs": [
    {
     "name": "stdout",
     "output_type": "stream",
     "text": [
      "<py2neo.data.Subgraph object at 0x000001B90649F080>\n"
     ]
    }
   ],
   "source": [
    "s1 = a | b | r\n",
    "s2 = a | b\n",
    "print(s1 & s2)"
   ]
  },
  {
   "cell_type": "code",
   "execution_count": 18,
   "metadata": {},
   "outputs": [
    {
     "name": "stdout",
     "output_type": "stream",
     "text": [
      "<bound method Subgraph.keys of <py2neo.data.Subgraph object at 0x000001B90649F550>>\n",
      "frozenset({'Person'})\n",
      "<py2neo.internal.collections.SetView object at 0x000001B90649F4E0>\n",
      "<py2neo.internal.collections.SetView object at 0x000001B906487E48>\n",
      "<bound method Subgraph.types of <py2neo.data.Subgraph object at 0x000001B90649F550>>\n"
     ]
    }
   ],
   "source": [
    "s = a | b | r\n",
    "print(s.keys)\n",
    "print(s.labels)\n",
    "print(s.nodes)\n",
    "print(s.relationships)\n",
    "print(s.types)"
   ]
  },
  {
   "cell_type": "code",
   "execution_count": 23,
   "metadata": {},
   "outputs": [],
   "source": [
    "from py2neo import Node, Relationship\n",
    " \n",
    "a = Node('Person', name='Alice')\n",
    "b = Node('Person', name='Bob')\n",
    "c = Node('Person', name='Mike')\n",
    "ab = Relationship(a, \"KNOWS\", b)\n",
    "ac = Relationship(a, \"KNOWS\", c)\n",
    "w = ab + Relationship(b, \"LIKES\", c) + ac\n",
    "# print(w)"
   ]
  },
  {
   "cell_type": "code",
   "execution_count": 24,
   "metadata": {},
   "outputs": [],
   "source": [
    "from py2neo import Graph, Node, Relationship\n",
    " \n",
    "graph = Graph(password='123456')\n",
    "a = Node('Person', name='Alice')\n",
    "graph.create(a)\n",
    "b = Node('Person', name='Bob')\n",
    "ab = Relationship(a, 'KNOWS', b)\n",
    "graph.create(ab)"
   ]
  },
  {
   "cell_type": "code",
   "execution_count": 33,
   "metadata": {},
   "outputs": [
    {
     "name": "stdout",
     "output_type": "stream",
     "text": [
      "[{'p': (_0:Person {name: 'Eric'})}, {'p': (_40:Person {name: 'Alice'})}, {'p': (_60:Person {name: 'Bob'})}]\n"
     ]
    }
   ],
   "source": [
    "graph = Graph(password='123456')\n",
    "data = graph.run('MATCH (p:Person) return p').data()\n",
    "print(data)"
   ]
  },
  {
   "cell_type": "code",
   "execution_count": 49,
   "metadata": {},
   "outputs": [
    {
     "name": "stdout",
     "output_type": "stream",
     "text": [
      "                   p\n",
      "0   {'name': 'Eric'}\n",
      "1  {'name': 'Alice'}\n",
      "2    {'name': 'Bob'}\n"
     ]
    }
   ],
   "source": [
    "from pandas import DataFrame\n",
    "\n",
    "graph = Graph(password='123456')\n",
    "data = graph.run('MATCH (p:Person) return p').data()\n",
    "df = DataFrame(data)\n",
    "print(df)"
   ]
  },
  {
   "cell_type": "code",
   "execution_count": 52,
   "metadata": {},
   "outputs": [
    {
     "name": "stdout",
     "output_type": "stream",
     "text": [
      "[(_0:Person {name: 'Eric'}), (_40:Person {name: 'Alice'}), (_60:Person {name: 'Bob'})]\n",
      "(Alice)-[:KNOWS {}]->(Bob)\n"
     ]
    }
   ],
   "source": [
    "graph = Graph(password='123456')\n",
    "# node = graph.find_one(label='Person')\n",
    "node = graph.nodes.match(\"Person\")\n",
    "print(list(node))\n",
    "relationship = graph.match_one(r_type='KNOWS')\n",
    "print(relationship)"
   ]
  },
  {
   "cell_type": "code",
   "execution_count": null,
   "metadata": {},
   "outputs": [],
   "source": [
    "from py2neo import Graph, Node\n",
    " \n",
    "graph = Graph(password='123456')\n",
    "a = Node('Person', name='Alice')\n",
    "node = graph.find_one(label='Person')\n",
    "node['age'] = 21\n",
    "graph.push(node)\n",
    "print(graph.find_one(label='Person'))"
   ]
  }
 ],
 "metadata": {
  "kernelspec": {
   "display_name": "Python 3",
   "language": "python",
   "name": "python3"
  },
  "language_info": {
   "codemirror_mode": {
    "name": "ipython",
    "version": 3
   },
   "file_extension": ".py",
   "mimetype": "text/x-python",
   "name": "python",
   "nbconvert_exporter": "python",
   "pygments_lexer": "ipython3",
   "version": "3.6.6"
  }
 },
 "nbformat": 4,
 "nbformat_minor": 2
}
